{
 "cells": [
  {
   "cell_type": "code",
   "execution_count": 1,
   "metadata": {
    "execution": {
     "iopub.execute_input": "2021-02-04T12:39:25.296414Z",
     "iopub.status.busy": "2021-02-04T12:39:25.283124Z",
     "iopub.status.idle": "2021-02-04T12:39:38.491097Z",
     "shell.execute_reply": "2021-02-04T12:39:38.490282Z"
    },
    "papermill": {
     "duration": 13.261831,
     "end_time": "2021-02-04T12:39:38.491314",
     "exception": false,
     "start_time": "2021-02-04T12:39:25.229483",
     "status": "completed"
    },
    "tags": []
   },
   "outputs": [
    {
     "name": "stdout",
     "output_type": "stream",
     "text": [
      "Requirement already satisfied: openpyxl in c:\\users\\harsha.badgujar\\anaconda3\\lib\\site-packages (3.0.9)\n",
      "Requirement already satisfied: et-xmlfile in c:\\users\\harsha.badgujar\\anaconda3\\lib\\site-packages (from openpyxl) (1.1.0)\n"
     ]
    },
    {
     "name": "stderr",
     "output_type": "stream",
     "text": [
      "WARNING: Ignoring invalid distribution -oogle-cloud-storage (c:\\users\\harsha.badgujar\\anaconda3\\lib\\site-packages)\n",
      "WARNING: Ignoring invalid distribution -oogle-cloud-storage (c:\\users\\harsha.badgujar\\anaconda3\\lib\\site-packages)\n",
      "WARNING: Ignoring invalid distribution -oogle-cloud-storage (c:\\users\\harsha.badgujar\\anaconda3\\lib\\site-packages)\n",
      "WARNING: Ignoring invalid distribution -oogle-cloud-storage (c:\\users\\harsha.badgujar\\anaconda3\\lib\\site-packages)\n",
      "WARNING: Ignoring invalid distribution -oogle-cloud-storage (c:\\users\\harsha.badgujar\\anaconda3\\lib\\site-packages)\n",
      "WARNING: Ignoring invalid distribution -oogle-cloud-storage (c:\\users\\harsha.badgujar\\anaconda3\\lib\\site-packages)\n"
     ]
    }
   ],
   "source": [
    "!pip install openpyxl"
   ]
  },
  {
   "cell_type": "code",
   "execution_count": 2,
   "metadata": {},
   "outputs": [
    {
     "name": "stdout",
     "output_type": "stream",
     "text": [
      "Requirement already satisfied: matplotlib in c:\\users\\harsha.badgujar\\anaconda3\\lib\\site-packages (3.5.2)"
     ]
    },
    {
     "name": "stderr",
     "output_type": "stream",
     "text": [
      "WARNING: Ignoring invalid distribution -oogle-cloud-storage (c:\\users\\harsha.badgujar\\anaconda3\\lib\\site-packages)\n",
      "WARNING: Ignoring invalid distribution -oogle-cloud-storage (c:\\users\\harsha.badgujar\\anaconda3\\lib\\site-packages)\n",
      "WARNING: Ignoring invalid distribution -oogle-cloud-storage (c:\\users\\harsha.badgujar\\anaconda3\\lib\\site-packages)\n",
      "WARNING: Ignoring invalid distribution -oogle-cloud-storage (c:\\users\\harsha.badgujar\\anaconda3\\lib\\site-packages)\n",
      "WARNING: Ignoring invalid distribution -oogle-cloud-storage (c:\\users\\harsha.badgujar\\anaconda3\\lib\\site-packages)\n",
      "WARNING: Ignoring invalid distribution -oogle-cloud-storage (c:\\users\\harsha.badgujar\\anaconda3\\lib\\site-packages)\n"
     ]
    },
    {
     "name": "stdout",
     "output_type": "stream",
     "text": [
      "\n",
      "Requirement already satisfied: fonttools>=4.22.0 in c:\\users\\harsha.badgujar\\anaconda3\\lib\\site-packages (from matplotlib) (4.25.0)\n",
      "Requirement already satisfied: numpy>=1.17 in c:\\users\\harsha.badgujar\\anaconda3\\lib\\site-packages (from matplotlib) (1.20.3)\n",
      "Requirement already satisfied: pillow>=6.2.0 in c:\\users\\harsha.badgujar\\anaconda3\\lib\\site-packages (from matplotlib) (9.0.0)\n",
      "Requirement already satisfied: python-dateutil>=2.7 in c:\\users\\harsha.badgujar\\anaconda3\\lib\\site-packages (from matplotlib) (2.8.1)\n",
      "Requirement already satisfied: cycler>=0.10 in c:\\users\\harsha.badgujar\\anaconda3\\lib\\site-packages (from matplotlib) (0.10.0)\n",
      "Requirement already satisfied: pyparsing>=2.2.1 in c:\\users\\harsha.badgujar\\anaconda3\\lib\\site-packages (from matplotlib) (3.0.4)\n",
      "Requirement already satisfied: packaging>=20.0 in c:\\users\\harsha.badgujar\\anaconda3\\lib\\site-packages (from matplotlib) (21.0)\n",
      "Requirement already satisfied: kiwisolver>=1.0.1 in c:\\users\\harsha.badgujar\\anaconda3\\lib\\site-packages (from matplotlib) (1.3.1)\n",
      "Requirement already satisfied: six in c:\\users\\harsha.badgujar\\anaconda3\\lib\\site-packages (from cycler>=0.10->matplotlib) (1.16.0)\n"
     ]
    }
   ],
   "source": [
    "!pip install matplotlib"
   ]
  },
  {
   "cell_type": "code",
   "execution_count": 3,
   "metadata": {},
   "outputs": [],
   "source": [
    "import pandas as pd\n",
    "import numpy as np\n"
   ]
  },
  {
   "cell_type": "code",
   "execution_count": 4,
   "metadata": {
    "execution": {
     "iopub.execute_input": "2021-02-04T12:39:41.225267Z",
     "iopub.status.busy": "2021-02-04T12:39:41.224363Z",
     "iopub.status.idle": "2021-02-04T12:39:48.733614Z",
     "shell.execute_reply": "2021-02-04T12:39:48.732942Z"
    },
    "papermill": {
     "duration": 7.568921,
     "end_time": "2021-02-04T12:39:48.733799",
     "exception": false,
     "start_time": "2021-02-04T12:39:41.164878",
     "status": "completed"
    },
    "tags": []
   },
   "outputs": [
    {
     "name": "stderr",
     "output_type": "stream",
     "text": [
      "C:\\Users\\HARSHA~1.BAD\\AppData\\Local\\Temp/ipykernel_3740/3697128880.py:1: FutureWarning: Inferring datetime64[ns] from data containing strings is deprecated and will be removed in a future version. To retain the old behavior explicitly pass Series(data, dtype={value.dtype})\n",
      "  data=pd.read_excel('Delivery truck trip data.xlsx')\n"
     ]
    },
    {
     "data": {
      "text/plain": [
       "(6880, 32)"
      ]
     },
     "execution_count": 4,
     "metadata": {},
     "output_type": "execute_result"
    }
   ],
   "source": [
    "data=pd.read_excel('Delivery truck trip data.xlsx')\n",
    "data.shape"
   ]
  },
  {
   "cell_type": "code",
   "execution_count": 5,
   "metadata": {
    "execution": {
     "iopub.execute_input": "2021-02-04T12:39:48.832249Z",
     "iopub.status.busy": "2021-02-04T12:39:48.831563Z",
     "iopub.status.idle": "2021-02-04T12:39:48.885553Z",
     "shell.execute_reply": "2021-02-04T12:39:48.884893Z"
    },
    "papermill": {
     "duration": 0.103313,
     "end_time": "2021-02-04T12:39:48.885695",
     "exception": false,
     "start_time": "2021-02-04T12:39:48.782382",
     "status": "completed"
    },
    "tags": []
   },
   "outputs": [
    {
     "data": {
      "text/html": [
       "<div>\n",
       "<style scoped>\n",
       "    .dataframe tbody tr th:only-of-type {\n",
       "        vertical-align: middle;\n",
       "    }\n",
       "\n",
       "    .dataframe tbody tr th {\n",
       "        vertical-align: top;\n",
       "    }\n",
       "\n",
       "    .dataframe thead th {\n",
       "        text-align: right;\n",
       "    }\n",
       "</style>\n",
       "<table border=\"1\" class=\"dataframe\">\n",
       "  <thead>\n",
       "    <tr style=\"text-align: right;\">\n",
       "      <th></th>\n",
       "      <th>GpsProvider</th>\n",
       "      <th>BookingID</th>\n",
       "      <th>Market/Regular</th>\n",
       "      <th>BookingID_Date</th>\n",
       "      <th>vehicle_no</th>\n",
       "      <th>Origin_Location</th>\n",
       "      <th>Destination_Location</th>\n",
       "      <th>Org_lat_lon</th>\n",
       "      <th>Des_lat_lon</th>\n",
       "      <th>Data_Ping_time</th>\n",
       "      <th>...</th>\n",
       "      <th>TRANSPORTATION_DISTANCE_IN_KM</th>\n",
       "      <th>vehicleType</th>\n",
       "      <th>Minimum_kms_to_be_covered_in_a_day</th>\n",
       "      <th>Driver_Name</th>\n",
       "      <th>Driver_MobileNo</th>\n",
       "      <th>customerID</th>\n",
       "      <th>customerNameCode</th>\n",
       "      <th>supplierID</th>\n",
       "      <th>supplierNameCode</th>\n",
       "      <th>Material Shipped</th>\n",
       "    </tr>\n",
       "  </thead>\n",
       "  <tbody>\n",
       "    <tr>\n",
       "      <th>0</th>\n",
       "      <td>CONSENT TRACK</td>\n",
       "      <td>MVCV0000927/082021</td>\n",
       "      <td>Market</td>\n",
       "      <td>2020-08-17 14:59:01.000</td>\n",
       "      <td>KA590408</td>\n",
       "      <td>TVSLSL-PUZHAL-HUB,CHENNAI,TAMIL NADU</td>\n",
       "      <td>ASHOK LEYLAND PLANT 1- HOSUR,HOSUR,KARNATAKA</td>\n",
       "      <td>13.1550,80.1960</td>\n",
       "      <td>12.7400,77.8200</td>\n",
       "      <td>2020-08-24 00:05:09</td>\n",
       "      <td>...</td>\n",
       "      <td>320.0</td>\n",
       "      <td>NaN</td>\n",
       "      <td>NaN</td>\n",
       "      <td>NaN</td>\n",
       "      <td>NaN</td>\n",
       "      <td>ALLEXCHE45</td>\n",
       "      <td>Ashok leyland limited</td>\n",
       "      <td>VIJEXHOSR7</td>\n",
       "      <td>VIJAY TRANSPORT</td>\n",
       "      <td>BRACKET / GRAB HANDLE</td>\n",
       "    </tr>\n",
       "    <tr>\n",
       "      <th>1</th>\n",
       "      <td>VAMOSYS</td>\n",
       "      <td>VCV00014271/082021</td>\n",
       "      <td>Regular</td>\n",
       "      <td>2020-08-27 16:22:22.827</td>\n",
       "      <td>TN30BC5917</td>\n",
       "      <td>DAIMLER INDIA COMMERCIAL VEHICLES,KANCHIPURAM,...</td>\n",
       "      <td>DAIMLER INDIA COMMERCIAL VEHICLES,KANCHIPURAM,...</td>\n",
       "      <td>12.8390,79.9540</td>\n",
       "      <td>12.8390,79.9540</td>\n",
       "      <td>2020-08-28 12:40:28</td>\n",
       "      <td>...</td>\n",
       "      <td>103.0</td>\n",
       "      <td>NaN</td>\n",
       "      <td>NaN</td>\n",
       "      <td>RAMESH</td>\n",
       "      <td>NaN</td>\n",
       "      <td>DMREXCHEUX</td>\n",
       "      <td>Daimler india commercial vehicles pvt lt</td>\n",
       "      <td>VJLEXSHE09</td>\n",
       "      <td>VJ LOGISTICS</td>\n",
       "      <td>ZB MODEL PLATE / 3143</td>\n",
       "    </tr>\n",
       "    <tr>\n",
       "      <th>2</th>\n",
       "      <td>CONSENT TRACK</td>\n",
       "      <td>VCV00014382/082021</td>\n",
       "      <td>Regular</td>\n",
       "      <td>2020-08-27 17:59:24.987</td>\n",
       "      <td>TN22AR2748</td>\n",
       "      <td>LUCAS TVS LTD-PONDY,PONDY,PONDICHERRY</td>\n",
       "      <td>LUCAS TVS LTD-PONDY,PONDY,PONDICHERRY</td>\n",
       "      <td>11.8710,79.7390</td>\n",
       "      <td>11.8710,79.7390</td>\n",
       "      <td>2020-08-28 09:05:09</td>\n",
       "      <td>...</td>\n",
       "      <td>300.0</td>\n",
       "      <td>NaN</td>\n",
       "      <td>NaN</td>\n",
       "      <td>GIRI</td>\n",
       "      <td>NaN</td>\n",
       "      <td>LUTGCCHE06</td>\n",
       "      <td>Lucas tvs ltd</td>\n",
       "      <td>GSTEXLAK1Q</td>\n",
       "      <td>G.S. TRANSPORT</td>\n",
       "      <td>LETTERING / FUSO</td>\n",
       "    </tr>\n",
       "    <tr>\n",
       "      <th>3</th>\n",
       "      <td>VAMOSYS</td>\n",
       "      <td>VCV00014743/082021</td>\n",
       "      <td>Regular</td>\n",
       "      <td>2020-08-28 00:48:24.503</td>\n",
       "      <td>TN28AQ0781</td>\n",
       "      <td>DAIMLER INDIA COMMERCIAL VEHICLES,KANCHIPURAM,...</td>\n",
       "      <td>DAIMLER INDIA COMMERCIAL VEHICLES,KANCHIPURAM,...</td>\n",
       "      <td>12.8390,79.9540</td>\n",
       "      <td>12.8390,79.9540</td>\n",
       "      <td>2020-08-28 12:40:31</td>\n",
       "      <td>...</td>\n",
       "      <td>61.0</td>\n",
       "      <td>NaN</td>\n",
       "      <td>NaN</td>\n",
       "      <td>RAVI</td>\n",
       "      <td>NaN</td>\n",
       "      <td>DMREXCHEUX</td>\n",
       "      <td>Daimler india commercial vehicles pvt lt</td>\n",
       "      <td>ARVEXNAM09</td>\n",
       "      <td>ARVINTH TRANSPORT</td>\n",
       "      <td>LU STRUT RA / RADIUS ROD</td>\n",
       "    </tr>\n",
       "    <tr>\n",
       "      <th>4</th>\n",
       "      <td>VAMOSYS</td>\n",
       "      <td>VCV00014744/082021</td>\n",
       "      <td>Regular</td>\n",
       "      <td>2020-08-28 01:23:19.243</td>\n",
       "      <td>TN68F1722</td>\n",
       "      <td>LUCAS TVS LTD-PONDY,PONDY,PONDICHERRY</td>\n",
       "      <td>LUCAS TVS LTD-PONDY,PONDY,PONDICHERRY</td>\n",
       "      <td>11.8720,79.6320</td>\n",
       "      <td>11.8720,79.6320</td>\n",
       "      <td>2020-08-28 12:40:29</td>\n",
       "      <td>...</td>\n",
       "      <td>240.0</td>\n",
       "      <td>NaN</td>\n",
       "      <td>NaN</td>\n",
       "      <td>TAMIL</td>\n",
       "      <td>NaN</td>\n",
       "      <td>LUTGCCHE06</td>\n",
       "      <td>Lucas tvs ltd</td>\n",
       "      <td>SRTEXKOR96</td>\n",
       "      <td>SR TRANSPORTS</td>\n",
       "      <td>WISHBONE / V ROD/HDT</td>\n",
       "    </tr>\n",
       "  </tbody>\n",
       "</table>\n",
       "<p>5 rows × 32 columns</p>\n",
       "</div>"
      ],
      "text/plain": [
       "     GpsProvider           BookingID Market/Regular           BookingID_Date  \\\n",
       "0  CONSENT TRACK  MVCV0000927/082021          Market 2020-08-17 14:59:01.000   \n",
       "1        VAMOSYS  VCV00014271/082021         Regular 2020-08-27 16:22:22.827   \n",
       "2  CONSENT TRACK  VCV00014382/082021         Regular 2020-08-27 17:59:24.987   \n",
       "3        VAMOSYS  VCV00014743/082021         Regular 2020-08-28 00:48:24.503   \n",
       "4        VAMOSYS  VCV00014744/082021         Regular 2020-08-28 01:23:19.243   \n",
       "\n",
       "   vehicle_no                                    Origin_Location  \\\n",
       "0    KA590408               TVSLSL-PUZHAL-HUB,CHENNAI,TAMIL NADU   \n",
       "1  TN30BC5917  DAIMLER INDIA COMMERCIAL VEHICLES,KANCHIPURAM,...   \n",
       "2  TN22AR2748              LUCAS TVS LTD-PONDY,PONDY,PONDICHERRY   \n",
       "3  TN28AQ0781  DAIMLER INDIA COMMERCIAL VEHICLES,KANCHIPURAM,...   \n",
       "4   TN68F1722              LUCAS TVS LTD-PONDY,PONDY,PONDICHERRY   \n",
       "\n",
       "                                Destination_Location      Org_lat_lon  \\\n",
       "0       ASHOK LEYLAND PLANT 1- HOSUR,HOSUR,KARNATAKA  13.1550,80.1960   \n",
       "1  DAIMLER INDIA COMMERCIAL VEHICLES,KANCHIPURAM,...  12.8390,79.9540   \n",
       "2              LUCAS TVS LTD-PONDY,PONDY,PONDICHERRY  11.8710,79.7390   \n",
       "3  DAIMLER INDIA COMMERCIAL VEHICLES,KANCHIPURAM,...  12.8390,79.9540   \n",
       "4              LUCAS TVS LTD-PONDY,PONDY,PONDICHERRY  11.8720,79.6320   \n",
       "\n",
       "       Des_lat_lon      Data_Ping_time  ... TRANSPORTATION_DISTANCE_IN_KM  \\\n",
       "0  12.7400,77.8200 2020-08-24 00:05:09  ...                         320.0   \n",
       "1  12.8390,79.9540 2020-08-28 12:40:28  ...                         103.0   \n",
       "2  11.8710,79.7390 2020-08-28 09:05:09  ...                         300.0   \n",
       "3  12.8390,79.9540 2020-08-28 12:40:31  ...                          61.0   \n",
       "4  11.8720,79.6320 2020-08-28 12:40:29  ...                         240.0   \n",
       "\n",
       "  vehicleType Minimum_kms_to_be_covered_in_a_day Driver_Name  Driver_MobileNo  \\\n",
       "0         NaN                                NaN         NaN              NaN   \n",
       "1         NaN                                NaN      RAMESH              NaN   \n",
       "2         NaN                                NaN        GIRI              NaN   \n",
       "3         NaN                                NaN        RAVI              NaN   \n",
       "4         NaN                                NaN       TAMIL              NaN   \n",
       "\n",
       "   customerID                          customerNameCode  supplierID  \\\n",
       "0  ALLEXCHE45                     Ashok leyland limited  VIJEXHOSR7   \n",
       "1  DMREXCHEUX  Daimler india commercial vehicles pvt lt  VJLEXSHE09   \n",
       "2  LUTGCCHE06                             Lucas tvs ltd  GSTEXLAK1Q   \n",
       "3  DMREXCHEUX  Daimler india commercial vehicles pvt lt  ARVEXNAM09   \n",
       "4  LUTGCCHE06                             Lucas tvs ltd  SRTEXKOR96   \n",
       "\n",
       "    supplierNameCode          Material Shipped  \n",
       "0    VIJAY TRANSPORT     BRACKET / GRAB HANDLE  \n",
       "1       VJ LOGISTICS     ZB MODEL PLATE / 3143  \n",
       "2     G.S. TRANSPORT          LETTERING / FUSO  \n",
       "3  ARVINTH TRANSPORT  LU STRUT RA / RADIUS ROD  \n",
       "4      SR TRANSPORTS      WISHBONE / V ROD/HDT  \n",
       "\n",
       "[5 rows x 32 columns]"
      ]
     },
     "execution_count": 5,
     "metadata": {},
     "output_type": "execute_result"
    }
   ],
   "source": [
    "data.head(5)"
   ]
  },
  {
   "cell_type": "code",
   "execution_count": 6,
   "metadata": {
    "execution": {
     "iopub.execute_input": "2021-02-04T12:39:49.015654Z",
     "iopub.status.busy": "2021-02-04T12:39:49.014674Z",
     "iopub.status.idle": "2021-02-04T12:39:49.020000Z",
     "shell.execute_reply": "2021-02-04T12:39:49.019250Z"
    },
    "papermill": {
     "duration": 0.08549,
     "end_time": "2021-02-04T12:39:49.020158",
     "exception": false,
     "start_time": "2021-02-04T12:39:48.934668",
     "status": "completed"
    },
    "tags": []
   },
   "outputs": [
    {
     "data": {
      "text/html": [
       "<div>\n",
       "<style scoped>\n",
       "    .dataframe tbody tr th:only-of-type {\n",
       "        vertical-align: middle;\n",
       "    }\n",
       "\n",
       "    .dataframe tbody tr th {\n",
       "        vertical-align: top;\n",
       "    }\n",
       "\n",
       "    .dataframe thead th {\n",
       "        text-align: right;\n",
       "    }\n",
       "</style>\n",
       "<table border=\"1\" class=\"dataframe\">\n",
       "  <thead>\n",
       "    <tr style=\"text-align: right;\">\n",
       "      <th></th>\n",
       "      <th>GpsProvider</th>\n",
       "      <th>BookingID</th>\n",
       "      <th>Market/Regular</th>\n",
       "      <th>BookingID_Date</th>\n",
       "      <th>vehicle_no</th>\n",
       "      <th>Origin_Location</th>\n",
       "      <th>Destination_Location</th>\n",
       "      <th>Org_lat_lon</th>\n",
       "      <th>Des_lat_lon</th>\n",
       "      <th>Data_Ping_time</th>\n",
       "      <th>...</th>\n",
       "      <th>TRANSPORTATION_DISTANCE_IN_KM</th>\n",
       "      <th>vehicleType</th>\n",
       "      <th>Minimum_kms_to_be_covered_in_a_day</th>\n",
       "      <th>Driver_Name</th>\n",
       "      <th>Driver_MobileNo</th>\n",
       "      <th>customerID</th>\n",
       "      <th>customerNameCode</th>\n",
       "      <th>supplierID</th>\n",
       "      <th>supplierNameCode</th>\n",
       "      <th>Material Shipped</th>\n",
       "    </tr>\n",
       "  </thead>\n",
       "  <tbody>\n",
       "    <tr>\n",
       "      <th>6875</th>\n",
       "      <td>JTECH</td>\n",
       "      <td>WDSBKTP42751</td>\n",
       "      <td>Regular</td>\n",
       "      <td>2019-03-27 17:25:33</td>\n",
       "      <td>KA219502</td>\n",
       "      <td>Ramamurthy Nagar, Bangalore, Karnataka</td>\n",
       "      <td>Sahakaranagar P.O, Bangalore, Karnataka</td>\n",
       "      <td>13.007503209603689,77.665098855934886</td>\n",
       "      <td>13.068901840235711,77.590655738806618</td>\n",
       "      <td>2019-06-14 15:20:12</td>\n",
       "      <td>...</td>\n",
       "      <td>12.0</td>\n",
       "      <td>25 FT Open Body 21MT</td>\n",
       "      <td>NaN</td>\n",
       "      <td>NaN</td>\n",
       "      <td>NaN</td>\n",
       "      <td>LTLEXMUM40</td>\n",
       "      <td>Larsen &amp; toubro limited</td>\n",
       "      <td>55556</td>\n",
       "      <td>A S TRANSPORTS</td>\n",
       "      <td>TOOL KIT SET</td>\n",
       "    </tr>\n",
       "    <tr>\n",
       "      <th>6876</th>\n",
       "      <td>JTECH</td>\n",
       "      <td>WDSBKTP43203</td>\n",
       "      <td>Regular</td>\n",
       "      <td>2019-03-31 15:02:34</td>\n",
       "      <td>KA01AE9163</td>\n",
       "      <td>Ramamurthy Nagar, Bangalore, Karnataka</td>\n",
       "      <td>Bangalore International Airport, Bangalore, Ka...</td>\n",
       "      <td>13.007503209603689,77.665098855934886</td>\n",
       "      <td>13.196312912801169,77.708156925688726</td>\n",
       "      <td>2019-06-14 15:20:12</td>\n",
       "      <td>...</td>\n",
       "      <td>31.0</td>\n",
       "      <td>40 FT 3XL Trailer 35MT</td>\n",
       "      <td>NaN</td>\n",
       "      <td>NaN</td>\n",
       "      <td>NaN</td>\n",
       "      <td>LTLEXMUM40</td>\n",
       "      <td>Larsen &amp; toubro limited</td>\n",
       "      <td>55556</td>\n",
       "      <td>A S TRANSPORTS</td>\n",
       "      <td>CONTROL LEVER ASSY</td>\n",
       "    </tr>\n",
       "    <tr>\n",
       "      <th>6877</th>\n",
       "      <td>JTECH</td>\n",
       "      <td>WDSBKTP43021</td>\n",
       "      <td>Regular</td>\n",
       "      <td>2019-03-29 18:56:26</td>\n",
       "      <td>KA01AE9163</td>\n",
       "      <td>Mugabala, Bangalore Rural, Karnataka</td>\n",
       "      <td>Anekal, Bangalore, Karnataka</td>\n",
       "      <td>16.560192249175344,80.792293091599547</td>\n",
       "      <td>12.722686,77.676518</td>\n",
       "      <td>2019-06-14 15:20:12</td>\n",
       "      <td>...</td>\n",
       "      <td>49.0</td>\n",
       "      <td>40 FT 3XL Trailer 35MT</td>\n",
       "      <td>NaN</td>\n",
       "      <td>NaN</td>\n",
       "      <td>NaN</td>\n",
       "      <td>LTLEXMUM40</td>\n",
       "      <td>Larsen &amp; toubro limited</td>\n",
       "      <td>55556</td>\n",
       "      <td>A S TRANSPORTS</td>\n",
       "      <td>SPARE PARTS AUTOMOBILE</td>\n",
       "    </tr>\n",
       "    <tr>\n",
       "      <th>6878</th>\n",
       "      <td>JTECH</td>\n",
       "      <td>WDSBKTP42685</td>\n",
       "      <td>Regular</td>\n",
       "      <td>2019-03-27 08:29:45</td>\n",
       "      <td>KA21A3643</td>\n",
       "      <td>Mugabala, Bangalore Rural, Karnataka</td>\n",
       "      <td>Anekal, Bangalore, Karnataka</td>\n",
       "      <td>16.560192249175344,80.792293091599547</td>\n",
       "      <td>12.896896847817695,77.712223056874862</td>\n",
       "      <td>2019-06-14 15:20:12</td>\n",
       "      <td>...</td>\n",
       "      <td>49.0</td>\n",
       "      <td>40 FT 3XL Trailer 35MT</td>\n",
       "      <td>NaN</td>\n",
       "      <td>NaN</td>\n",
       "      <td>NaN</td>\n",
       "      <td>LTLEXMUM40</td>\n",
       "      <td>Larsen &amp; toubro limited</td>\n",
       "      <td>55556</td>\n",
       "      <td>A S TRANSPORTS</td>\n",
       "      <td>SPARE PARTS AUTOMOBILE</td>\n",
       "    </tr>\n",
       "    <tr>\n",
       "      <th>6879</th>\n",
       "      <td>JTECH</td>\n",
       "      <td>WDSBKTP42858</td>\n",
       "      <td>Regular</td>\n",
       "      <td>2019-03-28 17:55:17</td>\n",
       "      <td>KA51D1317</td>\n",
       "      <td>Mugabala, Bangalore Rural, Karnataka</td>\n",
       "      <td>Anekal, Bangalore, Karnataka</td>\n",
       "      <td>16.560192249175344,80.792293091599547</td>\n",
       "      <td>13.199089183304451,77.708554234959038</td>\n",
       "      <td>2019-06-14 15:20:12</td>\n",
       "      <td>...</td>\n",
       "      <td>49.0</td>\n",
       "      <td>40 FT 3XL Trailer 35MT</td>\n",
       "      <td>NaN</td>\n",
       "      <td>NaN</td>\n",
       "      <td>NaN</td>\n",
       "      <td>LTLEXMUM40</td>\n",
       "      <td>Larsen &amp; toubro limited</td>\n",
       "      <td>55556</td>\n",
       "      <td>A S TRANSPORTS</td>\n",
       "      <td>SPARE PARTS AUTOMOBILE</td>\n",
       "    </tr>\n",
       "  </tbody>\n",
       "</table>\n",
       "<p>5 rows × 32 columns</p>\n",
       "</div>"
      ],
      "text/plain": [
       "     GpsProvider     BookingID Market/Regular       BookingID_Date  \\\n",
       "6875       JTECH  WDSBKTP42751         Regular 2019-03-27 17:25:33   \n",
       "6876       JTECH  WDSBKTP43203         Regular 2019-03-31 15:02:34   \n",
       "6877       JTECH  WDSBKTP43021         Regular 2019-03-29 18:56:26   \n",
       "6878       JTECH  WDSBKTP42685         Regular 2019-03-27 08:29:45   \n",
       "6879       JTECH  WDSBKTP42858         Regular 2019-03-28 17:55:17   \n",
       "\n",
       "      vehicle_no                         Origin_Location  \\\n",
       "6875    KA219502  Ramamurthy Nagar, Bangalore, Karnataka   \n",
       "6876  KA01AE9163  Ramamurthy Nagar, Bangalore, Karnataka   \n",
       "6877  KA01AE9163    Mugabala, Bangalore Rural, Karnataka   \n",
       "6878   KA21A3643    Mugabala, Bangalore Rural, Karnataka   \n",
       "6879   KA51D1317    Mugabala, Bangalore Rural, Karnataka   \n",
       "\n",
       "                                   Destination_Location  \\\n",
       "6875            Sahakaranagar P.O, Bangalore, Karnataka   \n",
       "6876  Bangalore International Airport, Bangalore, Ka...   \n",
       "6877                       Anekal, Bangalore, Karnataka   \n",
       "6878                       Anekal, Bangalore, Karnataka   \n",
       "6879                       Anekal, Bangalore, Karnataka   \n",
       "\n",
       "                                Org_lat_lon  \\\n",
       "6875  13.007503209603689,77.665098855934886   \n",
       "6876  13.007503209603689,77.665098855934886   \n",
       "6877  16.560192249175344,80.792293091599547   \n",
       "6878  16.560192249175344,80.792293091599547   \n",
       "6879  16.560192249175344,80.792293091599547   \n",
       "\n",
       "                                Des_lat_lon      Data_Ping_time  ...  \\\n",
       "6875  13.068901840235711,77.590655738806618 2019-06-14 15:20:12  ...   \n",
       "6876  13.196312912801169,77.708156925688726 2019-06-14 15:20:12  ...   \n",
       "6877                    12.722686,77.676518 2019-06-14 15:20:12  ...   \n",
       "6878  12.896896847817695,77.712223056874862 2019-06-14 15:20:12  ...   \n",
       "6879  13.199089183304451,77.708554234959038 2019-06-14 15:20:12  ...   \n",
       "\n",
       "     TRANSPORTATION_DISTANCE_IN_KM             vehicleType  \\\n",
       "6875                          12.0    25 FT Open Body 21MT   \n",
       "6876                          31.0  40 FT 3XL Trailer 35MT   \n",
       "6877                          49.0  40 FT 3XL Trailer 35MT   \n",
       "6878                          49.0  40 FT 3XL Trailer 35MT   \n",
       "6879                          49.0  40 FT 3XL Trailer 35MT   \n",
       "\n",
       "     Minimum_kms_to_be_covered_in_a_day Driver_Name  Driver_MobileNo  \\\n",
       "6875                                NaN         NaN              NaN   \n",
       "6876                                NaN         NaN              NaN   \n",
       "6877                                NaN         NaN              NaN   \n",
       "6878                                NaN         NaN              NaN   \n",
       "6879                                NaN         NaN              NaN   \n",
       "\n",
       "      customerID         customerNameCode supplierID supplierNameCode  \\\n",
       "6875  LTLEXMUM40  Larsen & toubro limited      55556   A S TRANSPORTS   \n",
       "6876  LTLEXMUM40  Larsen & toubro limited      55556   A S TRANSPORTS   \n",
       "6877  LTLEXMUM40  Larsen & toubro limited      55556   A S TRANSPORTS   \n",
       "6878  LTLEXMUM40  Larsen & toubro limited      55556   A S TRANSPORTS   \n",
       "6879  LTLEXMUM40  Larsen & toubro limited      55556   A S TRANSPORTS   \n",
       "\n",
       "            Material Shipped  \n",
       "6875            TOOL KIT SET  \n",
       "6876      CONTROL LEVER ASSY  \n",
       "6877  SPARE PARTS AUTOMOBILE  \n",
       "6878  SPARE PARTS AUTOMOBILE  \n",
       "6879  SPARE PARTS AUTOMOBILE  \n",
       "\n",
       "[5 rows x 32 columns]"
      ]
     },
     "execution_count": 6,
     "metadata": {},
     "output_type": "execute_result"
    }
   ],
   "source": [
    "data.tail(5)"
   ]
  },
  {
   "cell_type": "code",
   "execution_count": 7,
   "metadata": {
    "execution": {
     "iopub.execute_input": "2021-02-04T12:39:49.125763Z",
     "iopub.status.busy": "2021-02-04T12:39:49.124655Z",
     "iopub.status.idle": "2021-02-04T12:39:49.130819Z",
     "shell.execute_reply": "2021-02-04T12:39:49.130077Z"
    },
    "papermill": {
     "duration": 0.061772,
     "end_time": "2021-02-04T12:39:49.130979",
     "exception": false,
     "start_time": "2021-02-04T12:39:49.069207",
     "status": "completed"
    },
    "tags": []
   },
   "outputs": [
    {
     "data": {
      "text/plain": [
       "(6880, 32)"
      ]
     },
     "execution_count": 7,
     "metadata": {},
     "output_type": "execute_result"
    }
   ],
   "source": [
    "data=data.iloc[:6880, :]\n",
    "data.shape"
   ]
  },
  {
   "cell_type": "code",
   "execution_count": 8,
   "metadata": {
    "execution": {
     "iopub.execute_input": "2021-02-04T12:39:49.277041Z",
     "iopub.status.busy": "2021-02-04T12:39:49.276257Z",
     "iopub.status.idle": "2021-02-04T12:39:49.283562Z",
     "shell.execute_reply": "2021-02-04T12:39:49.282571Z"
    },
    "papermill": {
     "duration": 0.098368,
     "end_time": "2021-02-04T12:39:49.283794",
     "exception": false,
     "start_time": "2021-02-04T12:39:49.185426",
     "status": "completed"
    },
    "tags": []
   },
   "outputs": [
    {
     "data": {
      "text/html": [
       "<div>\n",
       "<style scoped>\n",
       "    .dataframe tbody tr th:only-of-type {\n",
       "        vertical-align: middle;\n",
       "    }\n",
       "\n",
       "    .dataframe tbody tr th {\n",
       "        vertical-align: top;\n",
       "    }\n",
       "\n",
       "    .dataframe thead th {\n",
       "        text-align: right;\n",
       "    }\n",
       "</style>\n",
       "<table border=\"1\" class=\"dataframe\">\n",
       "  <thead>\n",
       "    <tr style=\"text-align: right;\">\n",
       "      <th></th>\n",
       "      <th>GpsProvider</th>\n",
       "      <th>BookingID</th>\n",
       "      <th>Market/Regular</th>\n",
       "      <th>BookingID_Date</th>\n",
       "      <th>vehicle_no</th>\n",
       "      <th>Origin_Location</th>\n",
       "      <th>Destination_Location</th>\n",
       "      <th>Org_lat_lon</th>\n",
       "      <th>Des_lat_lon</th>\n",
       "      <th>Data_Ping_time</th>\n",
       "      <th>Planned_ETA</th>\n",
       "      <th>Current_Location</th>\n",
       "      <th>DestinationLocation</th>\n",
       "      <th>actual_eta</th>\n",
       "      <th>Curr_lat</th>\n",
       "      <th>Curr_lon</th>\n",
       "      <th>ontime</th>\n",
       "      <th>delay</th>\n",
       "      <th>OriginLocation_Code</th>\n",
       "      <th>DestinationLocation_Code</th>\n",
       "      <th>trip_start_date</th>\n",
       "      <th>trip_end_date</th>\n",
       "      <th>TRANSPORTATION_DISTANCE_IN_KM</th>\n",
       "      <th>vehicleType</th>\n",
       "      <th>Minimum_kms_to_be_covered_in_a_day</th>\n",
       "      <th>Driver_Name</th>\n",
       "      <th>Driver_MobileNo</th>\n",
       "      <th>customerID</th>\n",
       "      <th>customerNameCode</th>\n",
       "      <th>supplierID</th>\n",
       "      <th>supplierNameCode</th>\n",
       "      <th>Material Shipped</th>\n",
       "    </tr>\n",
       "  </thead>\n",
       "  <tbody>\n",
       "    <tr>\n",
       "      <th>0</th>\n",
       "      <td>CONSENT TRACK</td>\n",
       "      <td>MVCV0000927/082021</td>\n",
       "      <td>Market</td>\n",
       "      <td>2020-08-17 14:59:01.000</td>\n",
       "      <td>KA590408</td>\n",
       "      <td>TVSLSL-PUZHAL-HUB,CHENNAI,TAMIL NADU</td>\n",
       "      <td>ASHOK LEYLAND PLANT 1- HOSUR,HOSUR,KARNATAKA</td>\n",
       "      <td>13.1550,80.1960</td>\n",
       "      <td>12.7400,77.8200</td>\n",
       "      <td>2020-08-24 00:05:09</td>\n",
       "      <td>2020-08-21 18:59:01.000</td>\n",
       "      <td>Vaniyambadi Rd, Valayambattu, Tamil Nadu 63575...</td>\n",
       "      <td>ASHOK LEYLAND PLANT 1- HOSUR,HOSUR,KARNATAKA</td>\n",
       "      <td>2020-08-28 14:38:04.447</td>\n",
       "      <td>12.663500</td>\n",
       "      <td>78.649870</td>\n",
       "      <td>NaN</td>\n",
       "      <td>R</td>\n",
       "      <td>CHEPUZTVSHUA1</td>\n",
       "      <td>HOSHOSALLCCA2</td>\n",
       "      <td>2020-08-17 14:59:01</td>\n",
       "      <td>NaT</td>\n",
       "      <td>320.0</td>\n",
       "      <td>NaN</td>\n",
       "      <td>NaN</td>\n",
       "      <td>NaN</td>\n",
       "      <td>NaN</td>\n",
       "      <td>ALLEXCHE45</td>\n",
       "      <td>Ashok leyland limited</td>\n",
       "      <td>VIJEXHOSR7</td>\n",
       "      <td>VIJAY TRANSPORT</td>\n",
       "      <td>BRACKET / GRAB HANDLE</td>\n",
       "    </tr>\n",
       "    <tr>\n",
       "      <th>1</th>\n",
       "      <td>VAMOSYS</td>\n",
       "      <td>VCV00014271/082021</td>\n",
       "      <td>Regular</td>\n",
       "      <td>2020-08-27 16:22:22.827</td>\n",
       "      <td>TN30BC5917</td>\n",
       "      <td>DAIMLER INDIA COMMERCIAL VEHICLES,KANCHIPURAM,...</td>\n",
       "      <td>DAIMLER INDIA COMMERCIAL VEHICLES,KANCHIPURAM,...</td>\n",
       "      <td>12.8390,79.9540</td>\n",
       "      <td>12.8390,79.9540</td>\n",
       "      <td>2020-08-28 12:40:28</td>\n",
       "      <td>2020-08-31 20:22:22.827</td>\n",
       "      <td>Unnamed Road, Oragadam Industrial Corridor, Va...</td>\n",
       "      <td>DAIMLER INDIA COMMERCIAL VEHICLES,KANCHIPURAM,...</td>\n",
       "      <td>2020-08-28 12:46:17.007</td>\n",
       "      <td>12.836757</td>\n",
       "      <td>79.954428</td>\n",
       "      <td>G</td>\n",
       "      <td>NaN</td>\n",
       "      <td>CHEORADMRCCB1</td>\n",
       "      <td>CHEMATDMROPA7</td>\n",
       "      <td>2020-08-27 16:21:52</td>\n",
       "      <td>NaT</td>\n",
       "      <td>103.0</td>\n",
       "      <td>NaN</td>\n",
       "      <td>NaN</td>\n",
       "      <td>RAMESH</td>\n",
       "      <td>NaN</td>\n",
       "      <td>DMREXCHEUX</td>\n",
       "      <td>Daimler india commercial vehicles pvt lt</td>\n",
       "      <td>VJLEXSHE09</td>\n",
       "      <td>VJ LOGISTICS</td>\n",
       "      <td>ZB MODEL PLATE / 3143</td>\n",
       "    </tr>\n",
       "    <tr>\n",
       "      <th>2</th>\n",
       "      <td>CONSENT TRACK</td>\n",
       "      <td>VCV00014382/082021</td>\n",
       "      <td>Regular</td>\n",
       "      <td>2020-08-27 17:59:24.987</td>\n",
       "      <td>TN22AR2748</td>\n",
       "      <td>LUCAS TVS LTD-PONDY,PONDY,PONDICHERRY</td>\n",
       "      <td>LUCAS TVS LTD-PONDY,PONDY,PONDICHERRY</td>\n",
       "      <td>11.8710,79.7390</td>\n",
       "      <td>11.8710,79.7390</td>\n",
       "      <td>2020-08-28 09:05:09</td>\n",
       "      <td>2020-08-31 21:59:24.987</td>\n",
       "      <td>570, National Hwy 48, Shenoy Nagar, Chennai, T...</td>\n",
       "      <td>LUCAS TVS LTD-PONDY,PONDY,PONDICHERRY</td>\n",
       "      <td>2020-08-28 16:03:30.793</td>\n",
       "      <td>13.073956</td>\n",
       "      <td>80.225780</td>\n",
       "      <td>G</td>\n",
       "      <td>NaN</td>\n",
       "      <td>CHEPONLUTCCA4</td>\n",
       "      <td>CHEPONLUTCCA4</td>\n",
       "      <td>2020-08-27 17:57:04</td>\n",
       "      <td>NaT</td>\n",
       "      <td>300.0</td>\n",
       "      <td>NaN</td>\n",
       "      <td>NaN</td>\n",
       "      <td>GIRI</td>\n",
       "      <td>NaN</td>\n",
       "      <td>LUTGCCHE06</td>\n",
       "      <td>Lucas tvs ltd</td>\n",
       "      <td>GSTEXLAK1Q</td>\n",
       "      <td>G.S. TRANSPORT</td>\n",
       "      <td>LETTERING / FUSO</td>\n",
       "    </tr>\n",
       "    <tr>\n",
       "      <th>3</th>\n",
       "      <td>VAMOSYS</td>\n",
       "      <td>VCV00014743/082021</td>\n",
       "      <td>Regular</td>\n",
       "      <td>2020-08-28 00:48:24.503</td>\n",
       "      <td>TN28AQ0781</td>\n",
       "      <td>DAIMLER INDIA COMMERCIAL VEHICLES,KANCHIPURAM,...</td>\n",
       "      <td>DAIMLER INDIA COMMERCIAL VEHICLES,KANCHIPURAM,...</td>\n",
       "      <td>12.8390,79.9540</td>\n",
       "      <td>12.8390,79.9540</td>\n",
       "      <td>2020-08-28 12:40:31</td>\n",
       "      <td>2020-09-01 04:48:24.503</td>\n",
       "      <td>Singaperumal Koil - Sriperumbudur Rd, Oragadam...</td>\n",
       "      <td>DAIMLER INDIA COMMERCIAL VEHICLES,KANCHIPURAM,...</td>\n",
       "      <td>2020-08-28 12:50:27.997</td>\n",
       "      <td>12.836686</td>\n",
       "      <td>79.950560</td>\n",
       "      <td>G</td>\n",
       "      <td>NaN</td>\n",
       "      <td>CHEORADMRCCB1</td>\n",
       "      <td>CHEMATDMROPA7</td>\n",
       "      <td>2020-08-28 00:47:45</td>\n",
       "      <td>NaT</td>\n",
       "      <td>61.0</td>\n",
       "      <td>NaN</td>\n",
       "      <td>NaN</td>\n",
       "      <td>RAVI</td>\n",
       "      <td>NaN</td>\n",
       "      <td>DMREXCHEUX</td>\n",
       "      <td>Daimler india commercial vehicles pvt lt</td>\n",
       "      <td>ARVEXNAM09</td>\n",
       "      <td>ARVINTH TRANSPORT</td>\n",
       "      <td>LU STRUT RA / RADIUS ROD</td>\n",
       "    </tr>\n",
       "    <tr>\n",
       "      <th>4</th>\n",
       "      <td>VAMOSYS</td>\n",
       "      <td>VCV00014744/082021</td>\n",
       "      <td>Regular</td>\n",
       "      <td>2020-08-28 01:23:19.243</td>\n",
       "      <td>TN68F1722</td>\n",
       "      <td>LUCAS TVS LTD-PONDY,PONDY,PONDICHERRY</td>\n",
       "      <td>LUCAS TVS LTD-PONDY,PONDY,PONDICHERRY</td>\n",
       "      <td>11.8720,79.6320</td>\n",
       "      <td>11.8720,79.6320</td>\n",
       "      <td>2020-08-28 12:40:29</td>\n",
       "      <td>2020-09-01 05:23:19.243</td>\n",
       "      <td>Melmaruvathur, Tamil Nadu 603319, India</td>\n",
       "      <td>LUCAS TVS LTD-PONDY,PONDY,PONDICHERRY</td>\n",
       "      <td>2020-08-28 14:22:50.127</td>\n",
       "      <td>12.429501</td>\n",
       "      <td>79.831556</td>\n",
       "      <td>G</td>\n",
       "      <td>NaN</td>\n",
       "      <td>CHENETLUTCCA1</td>\n",
       "      <td>CHENETLUTCCA1</td>\n",
       "      <td>2020-08-28 01:13:48</td>\n",
       "      <td>NaT</td>\n",
       "      <td>240.0</td>\n",
       "      <td>NaN</td>\n",
       "      <td>NaN</td>\n",
       "      <td>TAMIL</td>\n",
       "      <td>NaN</td>\n",
       "      <td>LUTGCCHE06</td>\n",
       "      <td>Lucas tvs ltd</td>\n",
       "      <td>SRTEXKOR96</td>\n",
       "      <td>SR TRANSPORTS</td>\n",
       "      <td>WISHBONE / V ROD/HDT</td>\n",
       "    </tr>\n",
       "  </tbody>\n",
       "</table>\n",
       "</div>"
      ],
      "text/plain": [
       "     GpsProvider           BookingID Market/Regular           BookingID_Date  \\\n",
       "0  CONSENT TRACK  MVCV0000927/082021          Market 2020-08-17 14:59:01.000   \n",
       "1        VAMOSYS  VCV00014271/082021         Regular 2020-08-27 16:22:22.827   \n",
       "2  CONSENT TRACK  VCV00014382/082021         Regular 2020-08-27 17:59:24.987   \n",
       "3        VAMOSYS  VCV00014743/082021         Regular 2020-08-28 00:48:24.503   \n",
       "4        VAMOSYS  VCV00014744/082021         Regular 2020-08-28 01:23:19.243   \n",
       "\n",
       "   vehicle_no                                    Origin_Location  \\\n",
       "0    KA590408               TVSLSL-PUZHAL-HUB,CHENNAI,TAMIL NADU   \n",
       "1  TN30BC5917  DAIMLER INDIA COMMERCIAL VEHICLES,KANCHIPURAM,...   \n",
       "2  TN22AR2748              LUCAS TVS LTD-PONDY,PONDY,PONDICHERRY   \n",
       "3  TN28AQ0781  DAIMLER INDIA COMMERCIAL VEHICLES,KANCHIPURAM,...   \n",
       "4   TN68F1722              LUCAS TVS LTD-PONDY,PONDY,PONDICHERRY   \n",
       "\n",
       "                                Destination_Location      Org_lat_lon  \\\n",
       "0       ASHOK LEYLAND PLANT 1- HOSUR,HOSUR,KARNATAKA  13.1550,80.1960   \n",
       "1  DAIMLER INDIA COMMERCIAL VEHICLES,KANCHIPURAM,...  12.8390,79.9540   \n",
       "2              LUCAS TVS LTD-PONDY,PONDY,PONDICHERRY  11.8710,79.7390   \n",
       "3  DAIMLER INDIA COMMERCIAL VEHICLES,KANCHIPURAM,...  12.8390,79.9540   \n",
       "4              LUCAS TVS LTD-PONDY,PONDY,PONDICHERRY  11.8720,79.6320   \n",
       "\n",
       "       Des_lat_lon      Data_Ping_time             Planned_ETA  \\\n",
       "0  12.7400,77.8200 2020-08-24 00:05:09 2020-08-21 18:59:01.000   \n",
       "1  12.8390,79.9540 2020-08-28 12:40:28 2020-08-31 20:22:22.827   \n",
       "2  11.8710,79.7390 2020-08-28 09:05:09 2020-08-31 21:59:24.987   \n",
       "3  12.8390,79.9540 2020-08-28 12:40:31 2020-09-01 04:48:24.503   \n",
       "4  11.8720,79.6320 2020-08-28 12:40:29 2020-09-01 05:23:19.243   \n",
       "\n",
       "                                    Current_Location  \\\n",
       "0  Vaniyambadi Rd, Valayambattu, Tamil Nadu 63575...   \n",
       "1  Unnamed Road, Oragadam Industrial Corridor, Va...   \n",
       "2  570, National Hwy 48, Shenoy Nagar, Chennai, T...   \n",
       "3  Singaperumal Koil - Sriperumbudur Rd, Oragadam...   \n",
       "4            Melmaruvathur, Tamil Nadu 603319, India   \n",
       "\n",
       "                                 DestinationLocation              actual_eta  \\\n",
       "0       ASHOK LEYLAND PLANT 1- HOSUR,HOSUR,KARNATAKA 2020-08-28 14:38:04.447   \n",
       "1  DAIMLER INDIA COMMERCIAL VEHICLES,KANCHIPURAM,... 2020-08-28 12:46:17.007   \n",
       "2              LUCAS TVS LTD-PONDY,PONDY,PONDICHERRY 2020-08-28 16:03:30.793   \n",
       "3  DAIMLER INDIA COMMERCIAL VEHICLES,KANCHIPURAM,... 2020-08-28 12:50:27.997   \n",
       "4              LUCAS TVS LTD-PONDY,PONDY,PONDICHERRY 2020-08-28 14:22:50.127   \n",
       "\n",
       "    Curr_lat   Curr_lon ontime delay OriginLocation_Code  \\\n",
       "0  12.663500  78.649870    NaN     R       CHEPUZTVSHUA1   \n",
       "1  12.836757  79.954428      G   NaN       CHEORADMRCCB1   \n",
       "2  13.073956  80.225780      G   NaN       CHEPONLUTCCA4   \n",
       "3  12.836686  79.950560      G   NaN       CHEORADMRCCB1   \n",
       "4  12.429501  79.831556      G   NaN       CHENETLUTCCA1   \n",
       "\n",
       "  DestinationLocation_Code     trip_start_date trip_end_date  \\\n",
       "0            HOSHOSALLCCA2 2020-08-17 14:59:01           NaT   \n",
       "1            CHEMATDMROPA7 2020-08-27 16:21:52           NaT   \n",
       "2            CHEPONLUTCCA4 2020-08-27 17:57:04           NaT   \n",
       "3            CHEMATDMROPA7 2020-08-28 00:47:45           NaT   \n",
       "4            CHENETLUTCCA1 2020-08-28 01:13:48           NaT   \n",
       "\n",
       "   TRANSPORTATION_DISTANCE_IN_KM vehicleType  \\\n",
       "0                          320.0         NaN   \n",
       "1                          103.0         NaN   \n",
       "2                          300.0         NaN   \n",
       "3                           61.0         NaN   \n",
       "4                          240.0         NaN   \n",
       "\n",
       "   Minimum_kms_to_be_covered_in_a_day Driver_Name  Driver_MobileNo  \\\n",
       "0                                 NaN         NaN              NaN   \n",
       "1                                 NaN      RAMESH              NaN   \n",
       "2                                 NaN        GIRI              NaN   \n",
       "3                                 NaN        RAVI              NaN   \n",
       "4                                 NaN       TAMIL              NaN   \n",
       "\n",
       "   customerID                          customerNameCode  supplierID  \\\n",
       "0  ALLEXCHE45                     Ashok leyland limited  VIJEXHOSR7   \n",
       "1  DMREXCHEUX  Daimler india commercial vehicles pvt lt  VJLEXSHE09   \n",
       "2  LUTGCCHE06                             Lucas tvs ltd  GSTEXLAK1Q   \n",
       "3  DMREXCHEUX  Daimler india commercial vehicles pvt lt  ARVEXNAM09   \n",
       "4  LUTGCCHE06                             Lucas tvs ltd  SRTEXKOR96   \n",
       "\n",
       "    supplierNameCode          Material Shipped  \n",
       "0    VIJAY TRANSPORT     BRACKET / GRAB HANDLE  \n",
       "1       VJ LOGISTICS     ZB MODEL PLATE / 3143  \n",
       "2     G.S. TRANSPORT          LETTERING / FUSO  \n",
       "3  ARVINTH TRANSPORT  LU STRUT RA / RADIUS ROD  \n",
       "4      SR TRANSPORTS      WISHBONE / V ROD/HDT  "
      ]
     },
     "execution_count": 8,
     "metadata": {},
     "output_type": "execute_result"
    }
   ],
   "source": [
    "pd.set_option('max_columns', 50)\n",
    "data.head(5)"
   ]
  },
  {
   "cell_type": "code",
   "execution_count": 9,
   "metadata": {
    "execution": {
     "iopub.execute_input": "2021-02-04T12:39:49.412489Z",
     "iopub.status.busy": "2021-02-04T12:39:49.396300Z",
     "iopub.status.idle": "2021-02-04T12:39:49.431580Z",
     "shell.execute_reply": "2021-02-04T12:39:49.432409Z"
    },
    "papermill": {
     "duration": 0.09417,
     "end_time": "2021-02-04T12:39:49.432626",
     "exception": false,
     "start_time": "2021-02-04T12:39:49.338456",
     "status": "completed"
    },
    "tags": []
   },
   "outputs": [
    {
     "name": "stdout",
     "output_type": "stream",
     "text": [
      "<class 'pandas.core.frame.DataFrame'>\n",
      "RangeIndex: 6880 entries, 0 to 6879\n",
      "Data columns (total 32 columns):\n",
      " #   Column                              Non-Null Count  Dtype         \n",
      "---  ------                              --------------  -----         \n",
      " 0   GpsProvider                         5927 non-null   object        \n",
      " 1   BookingID                           6880 non-null   object        \n",
      " 2   Market/Regular                      6880 non-null   object        \n",
      " 3   BookingID_Date                      6880 non-null   datetime64[ns]\n",
      " 4   vehicle_no                          6880 non-null   object        \n",
      " 5   Origin_Location                     6880 non-null   object        \n",
      " 6   Destination_Location                6880 non-null   object        \n",
      " 7   Org_lat_lon                         6880 non-null   object        \n",
      " 8   Des_lat_lon                         6880 non-null   object        \n",
      " 9   Data_Ping_time                      5927 non-null   datetime64[ns]\n",
      " 10  Planned_ETA                         6880 non-null   datetime64[ns]\n",
      " 11  Current_Location                    5916 non-null   object        \n",
      " 12  DestinationLocation                 6880 non-null   object        \n",
      " 13  actual_eta                          6843 non-null   datetime64[ns]\n",
      " 14  Curr_lat                            5927 non-null   float64       \n",
      " 15  Curr_lon                            5927 non-null   float64       \n",
      " 16  ontime                              2548 non-null   object        \n",
      " 17  delay                               4342 non-null   object        \n",
      " 18  OriginLocation_Code                 6877 non-null   object        \n",
      " 19  DestinationLocation_Code            6853 non-null   object        \n",
      " 20  trip_start_date                     6880 non-null   datetime64[ns]\n",
      " 21  trip_end_date                       6686 non-null   datetime64[ns]\n",
      " 22  TRANSPORTATION_DISTANCE_IN_KM       6168 non-null   float64       \n",
      " 23  vehicleType                         6052 non-null   object        \n",
      " 24  Minimum_kms_to_be_covered_in_a_day  2820 non-null   float64       \n",
      " 25  Driver_Name                         3451 non-null   object        \n",
      " 26  Driver_MobileNo                     2691 non-null   float64       \n",
      " 27  customerID                          6880 non-null   object        \n",
      " 28  customerNameCode                    6880 non-null   object        \n",
      " 29  supplierID                          6880 non-null   object        \n",
      " 30  supplierNameCode                    6880 non-null   object        \n",
      " 31  Material Shipped                    6880 non-null   object        \n",
      "dtypes: datetime64[ns](6), float64(5), object(21)\n",
      "memory usage: 1.7+ MB\n"
     ]
    }
   ],
   "source": [
    "data.info()"
   ]
  },
  {
   "cell_type": "code",
   "execution_count": 10,
   "metadata": {
    "execution": {
     "iopub.execute_input": "2021-02-04T12:39:49.545368Z",
     "iopub.status.busy": "2021-02-04T12:39:49.543723Z",
     "iopub.status.idle": "2021-02-04T12:39:49.549005Z",
     "shell.execute_reply": "2021-02-04T12:39:49.548303Z"
    },
    "papermill": {
     "duration": 0.062562,
     "end_time": "2021-02-04T12:39:49.549160",
     "exception": false,
     "start_time": "2021-02-04T12:39:49.486598",
     "status": "completed"
    },
    "tags": []
   },
   "outputs": [],
   "source": [
    "#making a copy of data before preprocessing\n",
    "data_raw=data.copy()"
   ]
  },
  {
   "cell_type": "code",
   "execution_count": 11,
   "metadata": {
    "execution": {
     "iopub.execute_input": "2021-02-04T12:40:14.053313Z",
     "iopub.status.busy": "2021-02-04T12:40:14.052277Z",
     "iopub.status.idle": "2021-02-04T12:40:14.094316Z",
     "shell.execute_reply": "2021-02-04T12:40:14.093778Z"
    },
    "papermill": {
     "duration": 0.226822,
     "end_time": "2021-02-04T12:40:14.094485",
     "exception": false,
     "start_time": "2021-02-04T12:40:13.867663",
     "status": "completed"
    },
    "tags": []
   },
   "outputs": [
    {
     "data": {
      "text/html": [
       "<div>\n",
       "<style scoped>\n",
       "    .dataframe tbody tr th:only-of-type {\n",
       "        vertical-align: middle;\n",
       "    }\n",
       "\n",
       "    .dataframe tbody tr th {\n",
       "        vertical-align: top;\n",
       "    }\n",
       "\n",
       "    .dataframe thead th {\n",
       "        text-align: right;\n",
       "    }\n",
       "</style>\n",
       "<table border=\"1\" class=\"dataframe\">\n",
       "  <thead>\n",
       "    <tr style=\"text-align: right;\">\n",
       "      <th></th>\n",
       "      <th>GpsProvider</th>\n",
       "      <th>BookingID</th>\n",
       "      <th>Market/Regular</th>\n",
       "      <th>BookingID_Date</th>\n",
       "      <th>vehicle_no</th>\n",
       "      <th>Origin_Location</th>\n",
       "      <th>Destination_Location</th>\n",
       "      <th>Org_lat_lon</th>\n",
       "      <th>Des_lat_lon</th>\n",
       "      <th>Data_Ping_time</th>\n",
       "      <th>Planned_ETA</th>\n",
       "      <th>Current_Location</th>\n",
       "      <th>DestinationLocation</th>\n",
       "      <th>actual_eta</th>\n",
       "      <th>Curr_lat</th>\n",
       "      <th>Curr_lon</th>\n",
       "      <th>ontime</th>\n",
       "      <th>delay</th>\n",
       "      <th>OriginLocation_Code</th>\n",
       "      <th>DestinationLocation_Code</th>\n",
       "      <th>trip_start_date</th>\n",
       "      <th>trip_end_date</th>\n",
       "      <th>TRANSPORTATION_DISTANCE_IN_KM</th>\n",
       "      <th>vehicleType</th>\n",
       "      <th>Minimum_kms_to_be_covered_in_a_day</th>\n",
       "      <th>Driver_Name</th>\n",
       "      <th>Driver_MobileNo</th>\n",
       "      <th>customerID</th>\n",
       "      <th>customerNameCode</th>\n",
       "      <th>supplierID</th>\n",
       "      <th>supplierNameCode</th>\n",
       "      <th>Material Shipped</th>\n",
       "    </tr>\n",
       "  </thead>\n",
       "  <tbody>\n",
       "    <tr>\n",
       "      <th>6868</th>\n",
       "      <td>JTECH</td>\n",
       "      <td>WDSBKTP44502</td>\n",
       "      <td>Regular</td>\n",
       "      <td>2019-04-15 15:15:13</td>\n",
       "      <td>KA21A5090</td>\n",
       "      <td>Mugabala, Bangalore Rural, Karnataka</td>\n",
       "      <td>Peenya Small Industries, Bangalore, Karnataka</td>\n",
       "      <td>16.560192249175344,80.792293091599547</td>\n",
       "      <td>13.196312912801169,77.708156925688726</td>\n",
       "      <td>2019-06-14 15:20:12</td>\n",
       "      <td>1899-12-30 04:06:00</td>\n",
       "      <td>Shed No 60, Medahalli Kadugodi Road, Virgonaga...</td>\n",
       "      <td>Peenya Small Industries, Bangalore, Karnataka</td>\n",
       "      <td>1899-12-30 03:21:00</td>\n",
       "      <td>13.025077</td>\n",
       "      <td>77.723114</td>\n",
       "      <td>NaN</td>\n",
       "      <td>R</td>\n",
       "      <td>V0048673</td>\n",
       "      <td>LE005419</td>\n",
       "      <td>1899-12-30 00:00:00</td>\n",
       "      <td>1899-12-30 03:21:00</td>\n",
       "      <td>41.0</td>\n",
       "      <td>40 FT 3XL Trailer 35MT</td>\n",
       "      <td>NaN</td>\n",
       "      <td>NaN</td>\n",
       "      <td>NaN</td>\n",
       "      <td>LTLEXMUM40</td>\n",
       "      <td>Larsen &amp; toubro limited</td>\n",
       "      <td>55556</td>\n",
       "      <td>A S TRANSPORTS</td>\n",
       "      <td>INSRT-VLV ST INTK</td>\n",
       "    </tr>\n",
       "    <tr>\n",
       "      <th>6264</th>\n",
       "      <td>NaN</td>\n",
       "      <td>WDSBKTP49392</td>\n",
       "      <td>Regular</td>\n",
       "      <td>2019-06-10 13:17:44</td>\n",
       "      <td>WB59B9152</td>\n",
       "      <td>Sonai, Kolkata, West Bengal</td>\n",
       "      <td>Kalyani, Nadia, West Bengal</td>\n",
       "      <td>23.525267916088961,87.264424348570884</td>\n",
       "      <td>22.952176370977448,88.4571405591546</td>\n",
       "      <td>NaT</td>\n",
       "      <td>1899-12-30 08:58:00</td>\n",
       "      <td>NaN</td>\n",
       "      <td>Kalyani, Nadia, West Bengal</td>\n",
       "      <td>1899-12-30 08:13:00</td>\n",
       "      <td>NaN</td>\n",
       "      <td>NaN</td>\n",
       "      <td>G</td>\n",
       "      <td>NaN</td>\n",
       "      <td>V0045772</td>\n",
       "      <td>LE005821</td>\n",
       "      <td>1899-12-30 00:00:00</td>\n",
       "      <td>1899-12-30 08:13:00</td>\n",
       "      <td>51.0</td>\n",
       "      <td>40 FT Flat Bed Multi-Axle 27MT - Trailer</td>\n",
       "      <td>NaN</td>\n",
       "      <td>NaN</td>\n",
       "      <td>NaN</td>\n",
       "      <td>LTLEXMUM40</td>\n",
       "      <td>Larsen &amp; toubro limited</td>\n",
       "      <td>55471</td>\n",
       "      <td>SUNITA CARRIERS PRIVATE LIMITED</td>\n",
       "      <td>FXUWB-LID COVER</td>\n",
       "    </tr>\n",
       "    <tr>\n",
       "      <th>5910</th>\n",
       "      <td>NaN</td>\n",
       "      <td>WDSBKTP41957</td>\n",
       "      <td>Regular</td>\n",
       "      <td>2019-03-18 12:19:22</td>\n",
       "      <td>AP26TE1258</td>\n",
       "      <td>Sedarapet, India</td>\n",
       "      <td>Redhills, Chennai, Tamil Nadu, India</td>\n",
       "      <td>12.0001,79.74839949999999</td>\n",
       "      <td>13.1992334,80.196693</td>\n",
       "      <td>NaT</td>\n",
       "      <td>2019-03-19 11:45:22</td>\n",
       "      <td>NaN</td>\n",
       "      <td>Redhills, Chennai, Tamil Nadu, India</td>\n",
       "      <td>2019-03-19 11:00:22</td>\n",
       "      <td>NaN</td>\n",
       "      <td>NaN</td>\n",
       "      <td>G</td>\n",
       "      <td>NaN</td>\n",
       "      <td>CHESEDLTLCCA1</td>\n",
       "      <td>CHEVADTDUCCA1</td>\n",
       "      <td>2019-03-18 12:19:22</td>\n",
       "      <td>2019-03-19 11:00:22</td>\n",
       "      <td>NaN</td>\n",
       "      <td>24 | 26 FT Taurus Open 21MT - HCV</td>\n",
       "      <td>NaN</td>\n",
       "      <td>NaN</td>\n",
       "      <td>NaN</td>\n",
       "      <td>LTLEXMUM40</td>\n",
       "      <td>Larsen &amp; toubro limited</td>\n",
       "      <td>55075</td>\n",
       "      <td>Sri Ayyappan Agencies</td>\n",
       "      <td>COOLANT HOSE / RADIATOR TO ENGINE</td>\n",
       "    </tr>\n",
       "    <tr>\n",
       "      <th>6631</th>\n",
       "      <td>NaN</td>\n",
       "      <td>WDSBKTP41973</td>\n",
       "      <td>Regular</td>\n",
       "      <td>2019-03-18 16:24:18</td>\n",
       "      <td>TN20AJ1188</td>\n",
       "      <td>Kanchipuram, Tamil Nadu, India</td>\n",
       "      <td>Periyapatti, Tamil Nadu, India</td>\n",
       "      <td>12.8341735,79.7036402</td>\n",
       "      <td>11.2044996,78.1421905</td>\n",
       "      <td>NaT</td>\n",
       "      <td>2019-03-20 18:00:18</td>\n",
       "      <td>NaN</td>\n",
       "      <td>Periyapatti, Tamil Nadu, India</td>\n",
       "      <td>2019-03-20 17:15:18</td>\n",
       "      <td>NaN</td>\n",
       "      <td>NaN</td>\n",
       "      <td>G</td>\n",
       "      <td>NaN</td>\n",
       "      <td>CHEMANLTLWHA1</td>\n",
       "      <td>CHEPARPUBTPA1</td>\n",
       "      <td>2019-03-18 16:24:18</td>\n",
       "      <td>2019-03-20 17:15:18</td>\n",
       "      <td>NaN</td>\n",
       "      <td>22 FT Taurus Open 16MT - HCV</td>\n",
       "      <td>275.0</td>\n",
       "      <td>NaN</td>\n",
       "      <td>NaN</td>\n",
       "      <td>LTLEXMUM40</td>\n",
       "      <td>Larsen &amp; toubro limited</td>\n",
       "      <td>999</td>\n",
       "      <td>Unknown</td>\n",
       "      <td>A114 Alternator(New Versa)</td>\n",
       "    </tr>\n",
       "    <tr>\n",
       "      <th>5912</th>\n",
       "      <td>NaN</td>\n",
       "      <td>WDSBKTP41974</td>\n",
       "      <td>Regular</td>\n",
       "      <td>2019-03-18 16:56:02</td>\n",
       "      <td>TN25AT7677</td>\n",
       "      <td>Sedarapet, India</td>\n",
       "      <td>Mylasandra, Bengaluru, Karnataka, India</td>\n",
       "      <td>12.0001,79.74839949999999</td>\n",
       "      <td>12.853929,77.6178125</td>\n",
       "      <td>NaT</td>\n",
       "      <td>2019-03-20 12:38:02</td>\n",
       "      <td>NaN</td>\n",
       "      <td>Mylasandra, Bengaluru, Karnataka, India</td>\n",
       "      <td>2019-03-20 11:53:02</td>\n",
       "      <td>NaN</td>\n",
       "      <td>NaN</td>\n",
       "      <td>G</td>\n",
       "      <td>NaN</td>\n",
       "      <td>CHESEDLTLCCA1</td>\n",
       "      <td>HOSBYALTLWHA1</td>\n",
       "      <td>2019-03-18 16:56:02</td>\n",
       "      <td>2019-03-20 11:53:02</td>\n",
       "      <td>NaN</td>\n",
       "      <td>24 | 26 FT Taurus Open 21MT - HCV</td>\n",
       "      <td>NaN</td>\n",
       "      <td>NaN</td>\n",
       "      <td>NaN</td>\n",
       "      <td>LTLEXMUM40</td>\n",
       "      <td>Larsen &amp; toubro limited</td>\n",
       "      <td>999</td>\n",
       "      <td>Unknown</td>\n",
       "      <td>COOLANT HOSE</td>\n",
       "    </tr>\n",
       "  </tbody>\n",
       "</table>\n",
       "</div>"
      ],
      "text/plain": [
       "     GpsProvider     BookingID Market/Regular       BookingID_Date  \\\n",
       "6868       JTECH  WDSBKTP44502         Regular 2019-04-15 15:15:13   \n",
       "6264         NaN  WDSBKTP49392         Regular 2019-06-10 13:17:44   \n",
       "5910         NaN  WDSBKTP41957         Regular 2019-03-18 12:19:22   \n",
       "6631         NaN  WDSBKTP41973         Regular 2019-03-18 16:24:18   \n",
       "5912         NaN  WDSBKTP41974         Regular 2019-03-18 16:56:02   \n",
       "\n",
       "      vehicle_no                       Origin_Location  \\\n",
       "6868   KA21A5090  Mugabala, Bangalore Rural, Karnataka   \n",
       "6264   WB59B9152           Sonai, Kolkata, West Bengal   \n",
       "5910  AP26TE1258                      Sedarapet, India   \n",
       "6631  TN20AJ1188        Kanchipuram, Tamil Nadu, India   \n",
       "5912  TN25AT7677                      Sedarapet, India   \n",
       "\n",
       "                               Destination_Location  \\\n",
       "6868  Peenya Small Industries, Bangalore, Karnataka   \n",
       "6264                    Kalyani, Nadia, West Bengal   \n",
       "5910           Redhills, Chennai, Tamil Nadu, India   \n",
       "6631                 Periyapatti, Tamil Nadu, India   \n",
       "5912        Mylasandra, Bengaluru, Karnataka, India   \n",
       "\n",
       "                                Org_lat_lon  \\\n",
       "6868  16.560192249175344,80.792293091599547   \n",
       "6264  23.525267916088961,87.264424348570884   \n",
       "5910              12.0001,79.74839949999999   \n",
       "6631                  12.8341735,79.7036402   \n",
       "5912              12.0001,79.74839949999999   \n",
       "\n",
       "                                Des_lat_lon      Data_Ping_time  \\\n",
       "6868  13.196312912801169,77.708156925688726 2019-06-14 15:20:12   \n",
       "6264    22.952176370977448,88.4571405591546                 NaT   \n",
       "5910                   13.1992334,80.196693                 NaT   \n",
       "6631                  11.2044996,78.1421905                 NaT   \n",
       "5912                   12.853929,77.6178125                 NaT   \n",
       "\n",
       "             Planned_ETA                                   Current_Location  \\\n",
       "6868 1899-12-30 04:06:00  Shed No 60, Medahalli Kadugodi Road, Virgonaga...   \n",
       "6264 1899-12-30 08:58:00                                                NaN   \n",
       "5910 2019-03-19 11:45:22                                                NaN   \n",
       "6631 2019-03-20 18:00:18                                                NaN   \n",
       "5912 2019-03-20 12:38:02                                                NaN   \n",
       "\n",
       "                                DestinationLocation          actual_eta  \\\n",
       "6868  Peenya Small Industries, Bangalore, Karnataka 1899-12-30 03:21:00   \n",
       "6264                    Kalyani, Nadia, West Bengal 1899-12-30 08:13:00   \n",
       "5910           Redhills, Chennai, Tamil Nadu, India 2019-03-19 11:00:22   \n",
       "6631                 Periyapatti, Tamil Nadu, India 2019-03-20 17:15:18   \n",
       "5912        Mylasandra, Bengaluru, Karnataka, India 2019-03-20 11:53:02   \n",
       "\n",
       "       Curr_lat   Curr_lon ontime delay OriginLocation_Code  \\\n",
       "6868  13.025077  77.723114    NaN     R           V0048673    \n",
       "6264        NaN        NaN      G   NaN           V0045772    \n",
       "5910        NaN        NaN      G   NaN       CHESEDLTLCCA1   \n",
       "6631        NaN        NaN      G   NaN       CHEMANLTLWHA1   \n",
       "5912        NaN        NaN      G   NaN       CHESEDLTLCCA1   \n",
       "\n",
       "     DestinationLocation_Code     trip_start_date       trip_end_date  \\\n",
       "6868                 LE005419 1899-12-30 00:00:00 1899-12-30 03:21:00   \n",
       "6264                 LE005821 1899-12-30 00:00:00 1899-12-30 08:13:00   \n",
       "5910            CHEVADTDUCCA1 2019-03-18 12:19:22 2019-03-19 11:00:22   \n",
       "6631            CHEPARPUBTPA1 2019-03-18 16:24:18 2019-03-20 17:15:18   \n",
       "5912            HOSBYALTLWHA1 2019-03-18 16:56:02 2019-03-20 11:53:02   \n",
       "\n",
       "      TRANSPORTATION_DISTANCE_IN_KM                               vehicleType  \\\n",
       "6868                           41.0                    40 FT 3XL Trailer 35MT   \n",
       "6264                           51.0  40 FT Flat Bed Multi-Axle 27MT - Trailer   \n",
       "5910                            NaN         24 | 26 FT Taurus Open 21MT - HCV   \n",
       "6631                            NaN              22 FT Taurus Open 16MT - HCV   \n",
       "5912                            NaN         24 | 26 FT Taurus Open 21MT - HCV   \n",
       "\n",
       "      Minimum_kms_to_be_covered_in_a_day Driver_Name  Driver_MobileNo  \\\n",
       "6868                                 NaN         NaN              NaN   \n",
       "6264                                 NaN         NaN              NaN   \n",
       "5910                                 NaN         NaN              NaN   \n",
       "6631                               275.0         NaN              NaN   \n",
       "5912                                 NaN         NaN              NaN   \n",
       "\n",
       "      customerID         customerNameCode supplierID  \\\n",
       "6868  LTLEXMUM40  Larsen & toubro limited      55556   \n",
       "6264  LTLEXMUM40  Larsen & toubro limited      55471   \n",
       "5910  LTLEXMUM40  Larsen & toubro limited      55075   \n",
       "6631  LTLEXMUM40  Larsen & toubro limited        999   \n",
       "5912  LTLEXMUM40  Larsen & toubro limited        999   \n",
       "\n",
       "                     supplierNameCode                   Material Shipped  \n",
       "6868                   A S TRANSPORTS                  INSRT-VLV ST INTK  \n",
       "6264  SUNITA CARRIERS PRIVATE LIMITED                    FXUWB-LID COVER  \n",
       "5910            Sri Ayyappan Agencies  COOLANT HOSE / RADIATOR TO ENGINE  \n",
       "6631                          Unknown         A114 Alternator(New Versa)  \n",
       "5912                          Unknown                       COOLANT HOSE  "
      ]
     },
     "execution_count": 11,
     "metadata": {},
     "output_type": "execute_result"
    }
   ],
   "source": [
    "data.sort_values('trip_start_date').head(5)"
   ]
  },
  {
   "cell_type": "code",
   "execution_count": 12,
   "metadata": {
    "execution": {
     "iopub.execute_input": "2021-02-04T12:40:14.477862Z",
     "iopub.status.busy": "2021-02-04T12:40:14.476781Z",
     "iopub.status.idle": "2021-02-04T12:40:14.484300Z",
     "shell.execute_reply": "2021-02-04T12:40:14.483775Z"
    },
    "papermill": {
     "duration": 0.185147,
     "end_time": "2021-02-04T12:40:14.484469",
     "exception": false,
     "start_time": "2021-02-04T12:40:14.299322",
     "status": "completed"
    },
    "tags": []
   },
   "outputs": [],
   "source": [
    "#6868,6264 index rows having years as 1899 in all datetime features, may be it's a mistake\n",
    "#As we have mistake in those 2 rows let's remove those\n",
    "data.drop(data.index[[6868,6264]], inplace=True)"
   ]
  },
  {
   "cell_type": "code",
   "execution_count": 13,
   "metadata": {
    "execution": {
     "iopub.execute_input": "2021-02-04T12:40:14.835467Z",
     "iopub.status.busy": "2021-02-04T12:40:14.834418Z",
     "iopub.status.idle": "2021-02-04T12:40:14.844819Z",
     "shell.execute_reply": "2021-02-04T12:40:14.845343Z"
    },
    "papermill": {
     "duration": 0.188629,
     "end_time": "2021-02-04T12:40:14.845536",
     "exception": false,
     "start_time": "2021-02-04T12:40:14.656907",
     "status": "completed"
    },
    "tags": []
   },
   "outputs": [],
   "source": [
    "#let's create as a single column 'ontime/delay' from 'ontime' and 'delay' columns\n",
    "data['ontime/delay']=data.ontime.replace({np.NaN, 'G'}, {0, 1})"
   ]
  },
  {
   "cell_type": "code",
   "execution_count": 14,
   "metadata": {
    "execution": {
     "iopub.execute_input": "2021-02-04T12:40:15.194879Z",
     "iopub.status.busy": "2021-02-04T12:40:15.193833Z",
     "iopub.status.idle": "2021-02-04T12:40:15.658957Z",
     "shell.execute_reply": "2021-02-04T12:40:15.659498Z"
    },
    "papermill": {
     "duration": 0.642251,
     "end_time": "2021-02-04T12:40:15.659712",
     "exception": false,
     "start_time": "2021-02-04T12:40:15.017461",
     "status": "completed"
    },
    "tags": []
   },
   "outputs": [],
   "source": [
    "data['vehicle_states'] = data.vehicle_no.astype(str).str[:2]\n",
    "data['Origin_states'] = data['Origin_Location'].str.split(',').apply(lambda x: x[-1])\n",
    "data['Dest_states'] = data['Destination_Location'].str.split(',').apply(lambda x: x[-1])"
   ]
  },
  {
   "cell_type": "code",
   "execution_count": 15,
   "metadata": {
    "execution": {
     "iopub.execute_input": "2021-02-04T12:40:16.015935Z",
     "iopub.status.busy": "2021-02-04T12:40:16.014687Z",
     "iopub.status.idle": "2021-02-04T12:40:16.071556Z",
     "shell.execute_reply": "2021-02-04T12:40:16.072097Z"
    },
    "papermill": {
     "duration": 0.236928,
     "end_time": "2021-02-04T12:40:16.072368",
     "exception": false,
     "start_time": "2021-02-04T12:40:15.835440",
     "status": "completed"
    },
    "tags": []
   },
   "outputs": [],
   "source": [
    "data['vehicle_states']=data['vehicle_states'].replace(('tn', 'hr'), ('TN', 'HR'))\n",
    "\n",
    "data['Origin_states']=data['Origin_states'].replace((' Maharashtra', 'TAMIL NADU', ' Gujarat', ' Tamil Nadu',\n",
    "                                                     'RAJASTHAN', ' Haryana', 'PONDICHERRY',\n",
    "                                                     ' Karnataka', 'KARNATAKA', 'GUJARAT', 'HARYANA', ' Rajasthan', \n",
    "                                                     ' Uttar Pradesh', ' Pondicherry', ' West Bengal', ' Odisha',\n",
    "                                                     ' Jharkhand', ' Bihar', ' Assam', ' Andhra Pradesh', ' Telangana',\n",
    "                                                     ' Chattisgarh', ' Delhi', ' Kerala', ' Chandigarh', ' India', \n",
    "                                                     'UTTAR PRADESH'),\n",
    "                                                    ('Maharashtra', 'Tamil Nadu', 'Gujarat', 'Tamil Nadu',\n",
    "                                                     'Rajasthan', 'Haryana', 'Pondicherry',\n",
    "                                                     'Karnataka', 'Karnataka', 'Gujarat', 'Haryana', 'Rajasthan',\n",
    "                                                     'Uttar Pradesh', 'Pondicherry', 'West Bengal', 'Odisha',\n",
    "                                                     'Jharkhand', 'Bihar', 'Assam', 'Andhra Pradesh', 'Telangana',\n",
    "                                                     'Chattisgarh', 'Delhi', 'Kerala', 'Chandigarh', 'India',\n",
    "                                                     'Uttar Pradesh'))\n",
    "\n",
    "data['Dest_states']=data['Dest_states'].replace((' Tamil Nadu', 'TAMIL NADU', 'RAJASTHAN', ' Maharashtra',\n",
    "       'KARNATAKA', 'PONDICHERRY', 'MAHARASHTRA', ' Haryana', ' Gujarat',\n",
    "       'GUJARAT', 'JHARKHAND', 'Haryana', ' Himachal Pradesh',\n",
    "       ' Karnataka', ' Assam', 'HARYANA', ' Uttar Pradesh',\n",
    "       'HIMACHAL PRADESH', ' West Bengal', ' Odisha', ' Rajasthan',\n",
    "       ' Andhra Pradesh', ' Jharkhand', ' Telangana', ' Punjab', ' Delhi',\n",
    "       ' Central Development Region', ' Madhya Pradesh', ' Meghalaya',\n",
    "       ' Chattisgarh', ' Jammu & Kashmir', ' Uttarakhand', ' Chandigarh',\n",
    "       ' Bihar', ' Pondicherry', ' Kerala', ' Dadra & Nagar Haveli',\n",
    "       ' Goa', ' Sikkim', ' India'),\n",
    "       ('Tamil Nadu', 'Tamil Nadu', 'Rajasthan', 'Maharashtra',\n",
    "       'Karnataka', 'Pondicherry', 'Maharashtra', 'Haryana', 'Gujarat',\n",
    "       'Gujarat', 'Jharkhand', 'Haryana', 'Himachal Pradesh',\n",
    "       'Karnataka', 'Assam', 'Haryana', 'Uttar Pradesh',\n",
    "       'Himachal Pradesh', 'West Bengal', 'Odisha', 'Rajasthan',\n",
    "       'Andhra Pradesh', 'Jharkhand', 'Telangana', 'Punjab', 'Delhi',\n",
    "       'Central Development Region', 'Madhya Pradesh', 'Meghalaya',\n",
    "       'Chattisgarh', 'Jammu & Kashmir', 'Uttarakhand', 'Chandigarh',\n",
    "       'Bihar', 'Pondicherry', 'Kerala', 'Dadra & Nagar Haveli',\n",
    "       'Goa', 'Sikkim', 'India'))"
   ]
  },
  {
   "cell_type": "code",
   "execution_count": 16,
   "metadata": {
    "execution": {
     "iopub.execute_input": "2021-02-04T12:40:16.456230Z",
     "iopub.status.busy": "2021-02-04T12:40:16.450852Z",
     "iopub.status.idle": "2021-02-04T12:40:16.786228Z",
     "shell.execute_reply": "2021-02-04T12:40:16.785597Z"
    },
    "papermill": {
     "duration": 0.521584,
     "end_time": "2021-02-04T12:40:16.786378",
     "exception": false,
     "start_time": "2021-02-04T12:40:16.264794",
     "status": "completed"
    },
    "tags": []
   },
   "outputs": [
    {
     "name": "stderr",
     "output_type": "stream",
     "text": [
      "C:\\Users\\HARSHA~1.BAD\\AppData\\Local\\Temp/ipykernel_3740/3634333348.py:6: SettingWithCopyWarning: \n",
      "A value is trying to be set on a copy of a slice from a DataFrame\n",
      "\n",
      "See the caveats in the documentation: https://pandas.pydata.org/pandas-docs/stable/user_guide/indexing.html#returning-a-view-versus-a-copy\n",
      "  data['Origin_states'][i]='Tamil Nadu'\n",
      "C:\\Users\\HARSHA~1.BAD\\AppData\\Local\\Temp/ipykernel_3740/3634333348.py:4: SettingWithCopyWarning: \n",
      "A value is trying to be set on a copy of a slice from a DataFrame\n",
      "\n",
      "See the caveats in the documentation: https://pandas.pydata.org/pandas-docs/stable/user_guide/indexing.html#returning-a-view-versus-a-copy\n",
      "  data['Origin_states'][i]='Pondicherry'\n",
      "C:\\Users\\HARSHA~1.BAD\\AppData\\Local\\Temp/ipykernel_3740/3634333348.py:8: SettingWithCopyWarning: \n",
      "A value is trying to be set on a copy of a slice from a DataFrame\n",
      "\n",
      "See the caveats in the documentation: https://pandas.pydata.org/pandas-docs/stable/user_guide/indexing.html#returning-a-view-versus-a-copy\n",
      "  data['Origin_states'][i]='Karnataka'\n",
      "C:\\Users\\HARSHA~1.BAD\\AppData\\Local\\Temp/ipykernel_3740/3634333348.py:12: SettingWithCopyWarning: \n",
      "A value is trying to be set on a copy of a slice from a DataFrame\n",
      "\n",
      "See the caveats in the documentation: https://pandas.pydata.org/pandas-docs/stable/user_guide/indexing.html#returning-a-view-versus-a-copy\n",
      "  data['Origin_states'][i]='Pondicherry'\n",
      "C:\\Users\\HARSHA~1.BAD\\AppData\\Local\\Temp/ipykernel_3740/3634333348.py:10: SettingWithCopyWarning: \n",
      "A value is trying to be set on a copy of a slice from a DataFrame\n",
      "\n",
      "See the caveats in the documentation: https://pandas.pydata.org/pandas-docs/stable/user_guide/indexing.html#returning-a-view-versus-a-copy\n",
      "  data['Origin_states'][i]='Pondicherry'\n"
     ]
    }
   ],
   "source": [
    "for i in data.index:\n",
    "  if data['Origin_states'][i]=='India':\n",
    "    if data['Origin_Location'][i]=='Sedarapet, India':\n",
    "      data['Origin_states'][i]='Pondicherry'\n",
    "    elif data['Origin_Location'][i]=='Kanchipuram, Tamil Nadu, India':\n",
    "      data['Origin_states'][i]='Tamil Nadu'\n",
    "    elif data['Origin_Location'][i]=='Karnataka 562114, India':\n",
    "      data['Origin_states'][i]='Karnataka'\n",
    "    elif data['Origin_Location'][i]=='Sedarapet, Pondicherry, India':\n",
    "      data['Origin_states'][i]='Pondicherry'\n",
    "    elif data['Origin_Location'][i]=='Pondicherry, Puducherry, India':\n",
    "      data['Origin_states'][i]='Pondicherry'"
   ]
  },
  {
   "cell_type": "code",
   "execution_count": 17,
   "metadata": {
    "execution": {
     "iopub.execute_input": "2021-02-04T12:40:17.136725Z",
     "iopub.status.busy": "2021-02-04T12:40:17.136071Z",
     "iopub.status.idle": "2021-02-04T12:40:17.347373Z",
     "shell.execute_reply": "2021-02-04T12:40:17.346795Z"
    },
    "papermill": {
     "duration": 0.388564,
     "end_time": "2021-02-04T12:40:17.347527",
     "exception": false,
     "start_time": "2021-02-04T12:40:16.958963",
     "status": "completed"
    },
    "tags": []
   },
   "outputs": [
    {
     "name": "stderr",
     "output_type": "stream",
     "text": [
      "C:\\Users\\HARSHA~1.BAD\\AppData\\Local\\Temp/ipykernel_3740/1354287126.py:8: SettingWithCopyWarning: \n",
      "A value is trying to be set on a copy of a slice from a DataFrame\n",
      "\n",
      "See the caveats in the documentation: https://pandas.pydata.org/pandas-docs/stable/user_guide/indexing.html#returning-a-view-versus-a-copy\n",
      "  data['Origin_states'][i]='Uttar Pradesh'\n",
      "C:\\Users\\HARSHA~1.BAD\\AppData\\Local\\Temp/ipykernel_3740/1354287126.py:10: SettingWithCopyWarning: \n",
      "A value is trying to be set on a copy of a slice from a DataFrame\n",
      "\n",
      "See the caveats in the documentation: https://pandas.pydata.org/pandas-docs/stable/user_guide/indexing.html#returning-a-view-versus-a-copy\n",
      "  data['Origin_states'][i]='Pondicherry'\n",
      "C:\\Users\\HARSHA~1.BAD\\AppData\\Local\\Temp/ipykernel_3740/1354287126.py:12: SettingWithCopyWarning: \n",
      "A value is trying to be set on a copy of a slice from a DataFrame\n",
      "\n",
      "See the caveats in the documentation: https://pandas.pydata.org/pandas-docs/stable/user_guide/indexing.html#returning-a-view-versus-a-copy\n",
      "  data['Origin_states'][i]='Bihar'\n",
      "C:\\Users\\HARSHA~1.BAD\\AppData\\Local\\Temp/ipykernel_3740/1354287126.py:4: SettingWithCopyWarning: \n",
      "A value is trying to be set on a copy of a slice from a DataFrame\n",
      "\n",
      "See the caveats in the documentation: https://pandas.pydata.org/pandas-docs/stable/user_guide/indexing.html#returning-a-view-versus-a-copy\n",
      "  data['Origin_states'][i]='Bihar'\n",
      "C:\\Users\\HARSHA~1.BAD\\AppData\\Local\\Temp/ipykernel_3740/1354287126.py:6: SettingWithCopyWarning: \n",
      "A value is trying to be set on a copy of a slice from a DataFrame\n",
      "\n",
      "See the caveats in the documentation: https://pandas.pydata.org/pandas-docs/stable/user_guide/indexing.html#returning-a-view-versus-a-copy\n",
      "  data['Origin_states'][i]='Telangana'\n",
      "C:\\Users\\HARSHA~1.BAD\\AppData\\Local\\Temp/ipykernel_3740/1354287126.py:14: SettingWithCopyWarning: \n",
      "A value is trying to be set on a copy of a slice from a DataFrame\n",
      "\n",
      "See the caveats in the documentation: https://pandas.pydata.org/pandas-docs/stable/user_guide/indexing.html#returning-a-view-versus-a-copy\n",
      "  data['Origin_states'][i]='Bihar'\n",
      "C:\\Users\\HARSHA~1.BAD\\AppData\\Local\\Temp/ipykernel_3740/1354287126.py:16: SettingWithCopyWarning: \n",
      "A value is trying to be set on a copy of a slice from a DataFrame\n",
      "\n",
      "See the caveats in the documentation: https://pandas.pydata.org/pandas-docs/stable/user_guide/indexing.html#returning-a-view-versus-a-copy\n",
      "  data['Origin_states'][i]='Kerala'\n",
      "C:\\Users\\HARSHA~1.BAD\\AppData\\Local\\Temp/ipykernel_3740/1354287126.py:18: SettingWithCopyWarning: \n",
      "A value is trying to be set on a copy of a slice from a DataFrame\n",
      "\n",
      "See the caveats in the documentation: https://pandas.pydata.org/pandas-docs/stable/user_guide/indexing.html#returning-a-view-versus-a-copy\n",
      "  data['Origin_states'][i]='Tamil Nadu'\n"
     ]
    }
   ],
   "source": [
    "for i in data.index:\n",
    "  if data['Dest_states'][i]=='India':\n",
    "    if data['Destination_Location'][i]=='Gaya, Bihar, India':\n",
    "      data['Origin_states'][i]='Bihar'\n",
    "    elif data['Destination_Location'][i]=='Nizamabad, Telangana, India':\n",
    "      data['Origin_states'][i]='Telangana'\n",
    "    elif data['Destination_Location'][i]=='Bhogipur, Uttar Pradesh, India':\n",
    "      data['Origin_states'][i]='Uttar Pradesh'\n",
    "    elif data['Destination_Location'][i]=='Pondicherry, Puducherry, India':\n",
    "      data['Origin_states'][i]='Pondicherry'\n",
    "    elif data['Destination_Location'][i]=='Sheikhpura, Bihar, India':\n",
    "      data['Origin_states'][i]='Bihar'\n",
    "    elif data['Destination_Location'][i]=='Bhagalpur, Bihar, India':\n",
    "      data['Origin_states'][i]='Bihar'\n",
    "    elif data['Destination_Location'][i]=='Kothamangalam, Kerala, India':\n",
    "      data['Origin_states'][i]='Kerala'\n",
    "    elif data['Destination_Location'][i]=='Kanchipuram, Tamil Nadu, India':\n",
    "      data['Origin_states'][i]='Tamil Nadu'"
   ]
  },
  {
   "cell_type": "code",
   "execution_count": 18,
   "metadata": {
    "execution": {
     "iopub.execute_input": "2021-02-04T12:40:17.704703Z",
     "iopub.status.busy": "2021-02-04T12:40:17.704006Z",
     "iopub.status.idle": "2021-02-04T12:40:20.176398Z",
     "shell.execute_reply": "2021-02-04T12:40:20.177032Z"
    },
    "papermill": {
     "duration": 2.654523,
     "end_time": "2021-02-04T12:40:20.177217",
     "exception": false,
     "start_time": "2021-02-04T12:40:17.522694",
     "status": "completed"
    },
    "tags": []
   },
   "outputs": [],
   "source": [
    "from geopy import distance\n",
    "\n",
    "#let's find the distance between origin and destination\n",
    "distances_km = []\n",
    "for row in data.itertuples(index=False):\n",
    "   distances_km.append(\n",
    "       distance.distance(row.Org_lat_lon, row.Des_lat_lon).km\n",
    "   )\n",
    "\n",
    "data['Org_Dest_distance'] = distances_km\n",
    "#df_dist.head()\n",
    "\n",
    "#data=pd.concat([data, df_dist])"
   ]
  },
  {
   "cell_type": "markdown",
   "metadata": {
    "papermill": {
     "duration": 0.172633,
     "end_time": "2021-02-04T12:40:20.521777",
     "exception": false,
     "start_time": "2021-02-04T12:40:20.349144",
     "status": "completed"
    },
    "tags": []
   },
   "source": [
    "### Missing value Treatment"
   ]
  },
  {
   "cell_type": "code",
   "execution_count": 19,
   "metadata": {
    "execution": {
     "iopub.execute_input": "2021-02-04T12:40:20.888585Z",
     "iopub.status.busy": "2021-02-04T12:40:20.884114Z",
     "iopub.status.idle": "2021-02-04T12:40:20.921325Z",
     "shell.execute_reply": "2021-02-04T12:40:20.921817Z"
    },
    "papermill": {
     "duration": 0.22942,
     "end_time": "2021-02-04T12:40:20.922006",
     "exception": false,
     "start_time": "2021-02-04T12:40:20.692586",
     "status": "completed"
    },
    "tags": []
   },
   "outputs": [
    {
     "name": "stdout",
     "output_type": "stream",
     "text": [
      "GpsProvider 13.84\n",
      "Data_Ping_time 13.84\n",
      "Current_Location 14.000000000000002\n",
      "actual_eta 0.54\n",
      "Curr_lat 13.84\n",
      "Curr_lon 13.84\n",
      "ontime 62.970000000000006\n",
      "delay 36.89\n",
      "OriginLocation_Code 0.04\n",
      "DestinationLocation_Code 0.38999999999999996\n",
      "trip_end_date 2.82\n",
      "TRANSPORTATION_DISTANCE_IN_KM 10.35\n",
      "vehicleType 12.04\n",
      "Minimum_kms_to_be_covered_in_a_day 59.0\n",
      "Driver_Name 49.830000000000005\n",
      "Driver_MobileNo 60.88\n"
     ]
    }
   ],
   "source": [
    "#let's check the percentage of null values in each feature\n",
    "for col in data.columns:\n",
    "    if data[col].isna().sum()>0:\n",
    "        print(col, data[col].isna().mean().round(4)*100)"
   ]
  },
  {
   "cell_type": "code",
   "execution_count": 20,
   "metadata": {
    "execution": {
     "iopub.execute_input": "2021-02-04T12:40:21.282571Z",
     "iopub.status.busy": "2021-02-04T12:40:21.278250Z",
     "iopub.status.idle": "2021-02-04T12:40:21.285857Z",
     "shell.execute_reply": "2021-02-04T12:40:21.285267Z"
    },
    "papermill": {
     "duration": 0.189526,
     "end_time": "2021-02-04T12:40:21.286000",
     "exception": false,
     "start_time": "2021-02-04T12:40:21.096474",
     "status": "completed"
    },
    "tags": []
   },
   "outputs": [],
   "source": [
    "#let's name unkown for null values in driver name\n",
    "data['Driver_Name']=data['Driver_Name'].fillna('Unknown')\n",
    "\n",
    "#let's impute transportation distence with mean value\n",
    "data['TRANSPORTATION_DISTANCE_IN_KM']= data[\"TRANSPORTATION_DISTANCE_IN_KM\"].rolling(min_periods=1, center=True, window=12).mean()\n",
    "\n",
    "#let's name unkown for null values in vehicle type\n",
    "data['vehicleType']=data['vehicleType'].fillna('Unknown')\n",
    "\n",
    "#let's fill pervious date for actual.eta\n",
    "data['actual_eta']=data['actual_eta'].fillna(method='ffill')"
   ]
  },
  {
   "cell_type": "code",
   "execution_count": 21,
   "metadata": {
    "execution": {
     "iopub.execute_input": "2021-02-04T12:40:21.644969Z",
     "iopub.status.busy": "2021-02-04T12:40:21.644300Z",
     "iopub.status.idle": "2021-02-04T12:40:21.795312Z",
     "shell.execute_reply": "2021-02-04T12:40:21.794667Z"
    },
    "papermill": {
     "duration": 0.332839,
     "end_time": "2021-02-04T12:40:21.795459",
     "exception": false,
     "start_time": "2021-02-04T12:40:21.462620",
     "status": "completed"
    },
    "tags": []
   },
   "outputs": [
    {
     "name": "stderr",
     "output_type": "stream",
     "text": [
      "C:\\Users\\HARSHA~1.BAD\\AppData\\Local\\Temp/ipykernel_3740/2489662902.py:7: SettingWithCopyWarning: \n",
      "A value is trying to be set on a copy of a slice from a DataFrame\n",
      "\n",
      "See the caveats in the documentation: https://pandas.pydata.org/pandas-docs/stable/user_guide/indexing.html#returning-a-view-versus-a-copy\n",
      "  df_sub['trip_end_date'][i]=df_sub['actual_eta'][i]\n",
      "C:\\Users\\HARSHA~1.BAD\\AppData\\Local\\Temp/ipykernel_3740/2489662902.py:9: SettingWithCopyWarning: \n",
      "A value is trying to be set on a copy of a slice from a DataFrame\n",
      "\n",
      "See the caveats in the documentation: https://pandas.pydata.org/pandas-docs/stable/user_guide/indexing.html#returning-a-view-versus-a-copy\n",
      "  df_sub['trip_end_date'][i]=df_sub['Planned_ETA'][i]-datetime.timedelta(random.randint(0,3))\n"
     ]
    }
   ],
   "source": [
    "#let's impute null values in trip_end_date\n",
    "import datetime\n",
    "import random\n",
    "df_sub=data[data['trip_end_date'].isna()]\n",
    "for i in df_sub.index:\n",
    "  if df_sub['ontime/delay'][i]==0:\n",
    "    df_sub['trip_end_date'][i]=df_sub['actual_eta'][i]\n",
    "  else:\n",
    "    df_sub['trip_end_date'][i]=df_sub['Planned_ETA'][i]-datetime.timedelta(random.randint(0,3))\n",
    "\n",
    "data=pd.concat([data, df_sub])\n",
    "\n",
    "#as we have concatinationg those null in trip_end_date related rows are duplicates so let's remove those\n",
    "data.dropna(subset=['trip_end_date'], inplace=True)"
   ]
  },
  {
   "cell_type": "code",
   "execution_count": 22,
   "metadata": {
    "execution": {
     "iopub.execute_input": "2021-02-04T12:40:22.155827Z",
     "iopub.status.busy": "2021-02-04T12:40:22.154801Z",
     "iopub.status.idle": "2021-02-04T12:40:22.164285Z",
     "shell.execute_reply": "2021-02-04T12:40:22.163570Z"
    },
    "papermill": {
     "duration": 0.192431,
     "end_time": "2021-02-04T12:40:22.164437",
     "exception": false,
     "start_time": "2021-02-04T12:40:21.972006",
     "status": "completed"
    },
    "tags": []
   },
   "outputs": [],
   "source": [
    "#feature like gps provider, data ping time, current location, curr_lat, curr_lon having null values in same rows\n",
    "#all the above mentioned features are dependent on each other and it's not feasible to impute those, so let's drop those rows\n",
    "\n",
    "data.dropna(subset=['Current_Location'], inplace=True)"
   ]
  },
  {
   "cell_type": "code",
   "execution_count": 23,
   "metadata": {},
   "outputs": [],
   "source": [
    "# !pip install Jinja2"
   ]
  },
  {
   "cell_type": "code",
   "execution_count": 24,
   "metadata": {},
   "outputs": [],
   "source": [
    "import matplotlib.pyplot as plt \n",
    "%matplotlib inline"
   ]
  },
  {
   "cell_type": "code",
   "execution_count": 25,
   "metadata": {
    "execution": {
     "iopub.execute_input": "2021-02-04T12:40:23.390258Z",
     "iopub.status.busy": "2021-02-04T12:40:23.389206Z",
     "iopub.status.idle": "2021-02-04T12:40:23.433756Z",
     "shell.execute_reply": "2021-02-04T12:40:23.433172Z"
    },
    "papermill": {
     "duration": 0.225631,
     "end_time": "2021-02-04T12:40:23.433901",
     "exception": false,
     "start_time": "2021-02-04T12:40:23.208270",
     "status": "completed"
    },
    "tags": []
   },
   "outputs": [
    {
     "name": "stdout",
     "output_type": "stream",
     "text": [
      "star supliers with more no. of ontime delivery\n"
     ]
    },
    {
     "data": {
      "text/html": [
       "<style type=\"text/css\">\n",
       "#T_5d3db_row0_col0 {\n",
       "  background-color: #fc7f00;\n",
       "  color: #f1f1f1;\n",
       "}\n",
       "#T_5d3db_row1_col0 {\n",
       "  background-color: #ffad00;\n",
       "  color: #000000;\n",
       "}\n",
       "#T_5d3db_row2_col0 {\n",
       "  background-color: #ffbd00;\n",
       "  color: #000000;\n",
       "}\n",
       "#T_5d3db_row3_col0 {\n",
       "  background-color: #ffc404;\n",
       "  color: #000000;\n",
       "}\n",
       "#T_5d3db_row4_col0 {\n",
       "  background-color: #ffd20d;\n",
       "  color: #000000;\n",
       "}\n",
       "#T_5d3db_row5_col0 {\n",
       "  background-color: #fee91d;\n",
       "  color: #000000;\n",
       "}\n",
       "#T_5d3db_row6_col0 {\n",
       "  background-color: #faed2d;\n",
       "  color: #000000;\n",
       "}\n",
       "#T_5d3db_row7_col0 {\n",
       "  background-color: #e5fe75;\n",
       "  color: #000000;\n",
       "}\n",
       "#T_5d3db_row8_col0, #T_5d3db_row9_col0 {\n",
       "  background-color: #e4ff7a;\n",
       "  color: #000000;\n",
       "}\n",
       "</style>\n",
       "<table id=\"T_5d3db_\">\n",
       "  <thead>\n",
       "    <tr>\n",
       "      <th class=\"blank level0\" >&nbsp;</th>\n",
       "      <th class=\"col_heading level0 col0\" >TRANSPORTATION_DISTANCE_IN_KM</th>\n",
       "    </tr>\n",
       "    <tr>\n",
       "      <th class=\"index_name level0\" >supplierNameCode</th>\n",
       "      <th class=\"blank col0\" >&nbsp;</th>\n",
       "    </tr>\n",
       "  </thead>\n",
       "  <tbody>\n",
       "    <tr>\n",
       "      <th id=\"T_5d3db_level0_row0\" class=\"row_heading level0 row0\" >SR TRANSPORTS</th>\n",
       "      <td id=\"T_5d3db_row0_col0\" class=\"data row0 col0\" >120</td>\n",
       "    </tr>\n",
       "    <tr>\n",
       "      <th id=\"T_5d3db_level0_row1\" class=\"row_heading level0 row1\" >SRI PACHIAMMAN TRANSPORT</th>\n",
       "      <td id=\"T_5d3db_row1_col0\" class=\"data row1 col0\" >93</td>\n",
       "    </tr>\n",
       "    <tr>\n",
       "      <th id=\"T_5d3db_level0_row2\" class=\"row_heading level0 row2\" >VJ LOGISTICS</th>\n",
       "      <td id=\"T_5d3db_row2_col0\" class=\"data row2 col0\" >83</td>\n",
       "    </tr>\n",
       "    <tr>\n",
       "      <th id=\"T_5d3db_level0_row3\" class=\"row_heading level0 row3\" >A S TRANSPORTS</th>\n",
       "      <td id=\"T_5d3db_row3_col0\" class=\"data row3 col0\" >80</td>\n",
       "    </tr>\n",
       "    <tr>\n",
       "      <th id=\"T_5d3db_level0_row4\" class=\"row_heading level0 row4\" >NAMAKKAL SRI ANJINAYA TRANSPORT</th>\n",
       "      <td id=\"T_5d3db_row4_col0\" class=\"data row4 col0\" >74</td>\n",
       "    </tr>\n",
       "    <tr>\n",
       "      <th id=\"T_5d3db_level0_row5\" class=\"row_heading level0 row5\" >ARVINTH TRANSPORT</th>\n",
       "      <td id=\"T_5d3db_row5_col0\" class=\"data row5 col0\" >64</td>\n",
       "    </tr>\n",
       "    <tr>\n",
       "      <th id=\"T_5d3db_level0_row6\" class=\"row_heading level0 row6\" >EKTA TRANSPORT COMPANY</th>\n",
       "      <td id=\"T_5d3db_row6_col0\" class=\"data row6 col0\" >61</td>\n",
       "    </tr>\n",
       "    <tr>\n",
       "      <th id=\"T_5d3db_level0_row7\" class=\"row_heading level0 row7\" >KRC Logistics</th>\n",
       "      <td id=\"T_5d3db_row7_col0\" class=\"data row7 col0\" >47</td>\n",
       "    </tr>\n",
       "    <tr>\n",
       "      <th id=\"T_5d3db_level0_row8\" class=\"row_heading level0 row8\" >ESWAR TRANSPORT</th>\n",
       "      <td id=\"T_5d3db_row8_col0\" class=\"data row8 col0\" >46</td>\n",
       "    </tr>\n",
       "    <tr>\n",
       "      <th id=\"T_5d3db_level0_row9\" class=\"row_heading level0 row9\" >Sree Sakthi Transport</th>\n",
       "      <td id=\"T_5d3db_row9_col0\" class=\"data row9 col0\" >46</td>\n",
       "    </tr>\n",
       "  </tbody>\n",
       "</table>\n"
      ],
      "text/plain": [
       "<pandas.io.formats.style.Styler at 0x212c1ddf490>"
      ]
     },
     "execution_count": 25,
     "metadata": {},
     "output_type": "execute_result"
    }
   ],
   "source": [
    "print('star supliers with more no. of ontime delivery')\n",
    "data[data['ontime/delay']==1][['supplierNameCode', 'TRANSPORTATION_DISTANCE_IN_KM']].groupby(['supplierNameCode']).agg('count').sort_values('TRANSPORTATION_DISTANCE_IN_KM', \n",
    "                                                                                                                   ascending=False).head(10).style.background_gradient(cmap='Wistia')"
   ]
  },
  {
   "cell_type": "code",
   "execution_count": 26,
   "metadata": {
    "execution": {
     "iopub.execute_input": "2021-02-04T12:40:23.799788Z",
     "iopub.status.busy": "2021-02-04T12:40:23.798751Z",
     "iopub.status.idle": "2021-02-04T12:40:23.816812Z",
     "shell.execute_reply": "2021-02-04T12:40:23.817356Z"
    },
    "papermill": {
     "duration": 0.203683,
     "end_time": "2021-02-04T12:40:23.817542",
     "exception": false,
     "start_time": "2021-02-04T12:40:23.613859",
     "status": "completed"
    },
    "tags": []
   },
   "outputs": [
    {
     "name": "stdout",
     "output_type": "stream",
     "text": [
      "star supliers with more no. of ontime delivery\n"
     ]
    },
    {
     "data": {
      "text/html": [
       "<style type=\"text/css\">\n",
       "#T_d8801_row0_col0 {\n",
       "  background-color: #fc7f00;\n",
       "  color: #f1f1f1;\n",
       "}\n",
       "#T_d8801_row1_col0 {\n",
       "  background-color: #fe9700;\n",
       "  color: #000000;\n",
       "}\n",
       "#T_d8801_row2_col0 {\n",
       "  background-color: #ffb600;\n",
       "  color: #000000;\n",
       "}\n",
       "#T_d8801_row3_col0 {\n",
       "  background-color: #ffce0a;\n",
       "  color: #000000;\n",
       "}\n",
       "#T_d8801_row4_col0 {\n",
       "  background-color: #f6f03b;\n",
       "  color: #000000;\n",
       "}\n",
       "#T_d8801_row5_col0 {\n",
       "  background-color: #f5f03c;\n",
       "  color: #000000;\n",
       "}\n",
       "#T_d8801_row6_col0 {\n",
       "  background-color: #eff551;\n",
       "  color: #000000;\n",
       "}\n",
       "#T_d8801_row7_col0 {\n",
       "  background-color: #ecf85c;\n",
       "  color: #000000;\n",
       "}\n",
       "#T_d8801_row8_col0 {\n",
       "  background-color: #e5fe75;\n",
       "  color: #000000;\n",
       "}\n",
       "#T_d8801_row9_col0 {\n",
       "  background-color: #e4ff7a;\n",
       "  color: #000000;\n",
       "}\n",
       "</style>\n",
       "<table id=\"T_d8801_\">\n",
       "  <thead>\n",
       "    <tr>\n",
       "      <th class=\"blank level0\" >&nbsp;</th>\n",
       "      <th class=\"col_heading level0 col0\" >TRANSPORTATION_DISTANCE_IN_KM</th>\n",
       "    </tr>\n",
       "    <tr>\n",
       "      <th class=\"index_name level0\" >supplierNameCode</th>\n",
       "      <th class=\"blank col0\" >&nbsp;</th>\n",
       "    </tr>\n",
       "  </thead>\n",
       "  <tbody>\n",
       "    <tr>\n",
       "      <th id=\"T_d8801_level0_row0\" class=\"row_heading level0 row0\" >EKTA TRANSPORT COMPANY</th>\n",
       "      <td id=\"T_d8801_row0_col0\" class=\"data row0 col0\" >70915.334776</td>\n",
       "    </tr>\n",
       "    <tr>\n",
       "      <th id=\"T_d8801_level0_row1\" class=\"row_heading level0 row1\" >SR TRANSPORTS</th>\n",
       "      <td id=\"T_d8801_row1_col0\" class=\"data row1 col0\" >64459.175000</td>\n",
       "    </tr>\n",
       "    <tr>\n",
       "      <th id=\"T_d8801_level0_row2\" class=\"row_heading level0 row2\" >Sree Sakthi Transport</th>\n",
       "      <td id=\"T_d8801_row2_col0\" class=\"data row2 col0\" >55184.549026</td>\n",
       "    </tr>\n",
       "    <tr>\n",
       "      <th id=\"T_d8801_level0_row3\" class=\"row_heading level0 row3\" >KRC Logistics</th>\n",
       "      <td id=\"T_d8801_row3_col0\" class=\"data row3 col0\" >49560.042929</td>\n",
       "    </tr>\n",
       "    <tr>\n",
       "      <th id=\"T_d8801_level0_row4\" class=\"row_heading level0 row4\" >VJ Logistics</th>\n",
       "      <td id=\"T_d8801_row4_col0\" class=\"data row4 col0\" >41224.259899</td>\n",
       "    </tr>\n",
       "    <tr>\n",
       "      <th id=\"T_d8801_level0_row5\" class=\"row_heading level0 row5\" >SRI PACHIAMMAN TRANSPORT</th>\n",
       "      <td id=\"T_d8801_row5_col0\" class=\"data row5 col0\" >41113.150000</td>\n",
       "    </tr>\n",
       "    <tr>\n",
       "      <th id=\"T_d8801_level0_row6\" class=\"row_heading level0 row6\" >VJ LOGISTICS</th>\n",
       "      <td id=\"T_d8801_row6_col0\" class=\"data row6 col0\" >39056.944048</td>\n",
       "    </tr>\n",
       "    <tr>\n",
       "      <th id=\"T_d8801_level0_row7\" class=\"row_heading level0 row7\" >TRANS CARGO INDIA</th>\n",
       "      <td id=\"T_d8801_row7_col0\" class=\"data row7 col0\" >38101.778030</td>\n",
       "    </tr>\n",
       "    <tr>\n",
       "      <th id=\"T_d8801_level0_row8\" class=\"row_heading level0 row8\" >EKTA TRAVELS</th>\n",
       "      <td id=\"T_d8801_row8_col0\" class=\"data row8 col0\" >35795.439452</td>\n",
       "    </tr>\n",
       "    <tr>\n",
       "      <th id=\"T_d8801_level0_row9\" class=\"row_heading level0 row9\" >NAMAKKAL SRI ANJINAYA TRANSPORT</th>\n",
       "      <td id=\"T_d8801_row9_col0\" class=\"data row9 col0\" >35291.866667</td>\n",
       "    </tr>\n",
       "  </tbody>\n",
       "</table>\n"
      ],
      "text/plain": [
       "<pandas.io.formats.style.Styler at 0x212c1c6cfd0>"
      ]
     },
     "execution_count": 26,
     "metadata": {},
     "output_type": "execute_result"
    }
   ],
   "source": [
    "print('star supliers with more no. of ontime delivery')\n",
    "data[data['ontime/delay']==1][['supplierNameCode', 'TRANSPORTATION_DISTANCE_IN_KM']].groupby(['supplierNameCode']).agg('sum').sort_values('TRANSPORTATION_DISTANCE_IN_KM', \n",
    "                                                                                                                   ascending=False).head(10).style.background_gradient(cmap='Wistia')"
   ]
  },
  {
   "cell_type": "code",
   "execution_count": 27,
   "metadata": {
    "execution": {
     "iopub.execute_input": "2021-02-04T12:40:24.193029Z",
     "iopub.status.busy": "2021-02-04T12:40:24.191802Z",
     "iopub.status.idle": "2021-02-04T12:40:24.219197Z",
     "shell.execute_reply": "2021-02-04T12:40:24.218120Z"
    },
    "papermill": {
     "duration": 0.222406,
     "end_time": "2021-02-04T12:40:24.219390",
     "exception": false,
     "start_time": "2021-02-04T12:40:23.996984",
     "status": "completed"
    },
    "tags": []
   },
   "outputs": [
    {
     "name": "stdout",
     "output_type": "stream",
     "text": [
      "star supliers with more no. of delay delivery\n"
     ]
    },
    {
     "data": {
      "text/html": [
       "<style type=\"text/css\">\n",
       "#T_ad48e_row0_col0 {\n",
       "  background-color: #ff00ff;\n",
       "  color: #f1f1f1;\n",
       "}\n",
       "#T_ad48e_row1_col0 {\n",
       "  background-color: #f708ff;\n",
       "  color: #f1f1f1;\n",
       "}\n",
       "#T_ad48e_row2_col0 {\n",
       "  background-color: #f50aff;\n",
       "  color: #f1f1f1;\n",
       "}\n",
       "#T_ad48e_row3_col0 {\n",
       "  background-color: #7e81ff;\n",
       "  color: #f1f1f1;\n",
       "}\n",
       "#T_ad48e_row4_col0 {\n",
       "  background-color: #35caff;\n",
       "  color: #000000;\n",
       "}\n",
       "#T_ad48e_row5_col0 {\n",
       "  background-color: #33ccff;\n",
       "  color: #000000;\n",
       "}\n",
       "#T_ad48e_row6_col0 {\n",
       "  background-color: #2bd4ff;\n",
       "  color: #000000;\n",
       "}\n",
       "#T_ad48e_row7_col0 {\n",
       "  background-color: #1ae5ff;\n",
       "  color: #000000;\n",
       "}\n",
       "#T_ad48e_row8_col0 {\n",
       "  background-color: #18e7ff;\n",
       "  color: #000000;\n",
       "}\n",
       "#T_ad48e_row9_col0 {\n",
       "  background-color: #00ffff;\n",
       "  color: #000000;\n",
       "}\n",
       "</style>\n",
       "<table id=\"T_ad48e_\">\n",
       "  <thead>\n",
       "    <tr>\n",
       "      <th class=\"blank level0\" >&nbsp;</th>\n",
       "      <th class=\"col_heading level0 col0\" >TRANSPORTATION_DISTANCE_IN_KM</th>\n",
       "    </tr>\n",
       "    <tr>\n",
       "      <th class=\"index_name level0\" >supplierNameCode</th>\n",
       "      <th class=\"blank col0\" >&nbsp;</th>\n",
       "    </tr>\n",
       "  </thead>\n",
       "  <tbody>\n",
       "    <tr>\n",
       "      <th id=\"T_ad48e_level0_row0\" class=\"row_heading level0 row0\" >Unknown</th>\n",
       "      <td id=\"T_ad48e_row0_col0\" class=\"data row0 col0\" >263062.140123</td>\n",
       "    </tr>\n",
       "    <tr>\n",
       "      <th id=\"T_ad48e_level0_row1\" class=\"row_heading level0 row1\" >TRANS CARGO INDIA</th>\n",
       "      <td id=\"T_ad48e_row1_col0\" class=\"data row1 col0\" >255156.448752</td>\n",
       "    </tr>\n",
       "    <tr>\n",
       "      <th id=\"T_ad48e_level0_row2\" class=\"row_heading level0 row2\" >EKTA TRANSPORT COMPANY</th>\n",
       "      <td id=\"T_ad48e_row2_col0\" class=\"data row2 col0\" >253964.062633</td>\n",
       "    </tr>\n",
       "    <tr>\n",
       "      <th id=\"T_ad48e_level0_row3\" class=\"row_heading level0 row3\" >KRC Logistics</th>\n",
       "      <td id=\"T_ad48e_row3_col0\" class=\"data row3 col0\" >149470.819322</td>\n",
       "    </tr>\n",
       "    <tr>\n",
       "      <th id=\"T_ad48e_level0_row4\" class=\"row_heading level0 row4\" >Rajdhani Roadways</th>\n",
       "      <td id=\"T_ad48e_row4_col0\" class=\"data row4 col0\" >84530.222691</td>\n",
       "    </tr>\n",
       "    <tr>\n",
       "      <th id=\"T_ad48e_level0_row5\" class=\"row_heading level0 row5\" >VJ Logistics</th>\n",
       "      <td id=\"T_ad48e_row5_col0\" class=\"data row5 col0\" >82770.207944</td>\n",
       "    </tr>\n",
       "    <tr>\n",
       "      <th id=\"T_ad48e_level0_row6\" class=\"row_heading level0 row6\" >SUNITA CARRIERS PRIVATE LIMITED</th>\n",
       "      <td id=\"T_ad48e_row6_col0\" class=\"data row6 col0\" >76104.147424</td>\n",
       "    </tr>\n",
       "    <tr>\n",
       "      <th id=\"T_ad48e_level0_row7\" class=\"row_heading level0 row7\" >R.Sai logistics india PVT.LTD</th>\n",
       "      <td id=\"T_ad48e_row7_col0\" class=\"data row7 col0\" >61271.509091</td>\n",
       "    </tr>\n",
       "    <tr>\n",
       "      <th id=\"T_ad48e_level0_row8\" class=\"row_heading level0 row8\" >PAWAN R LOGISTICS</th>\n",
       "      <td id=\"T_ad48e_row8_col0\" class=\"data row8 col0\" >59040.907576</td>\n",
       "    </tr>\n",
       "    <tr>\n",
       "      <th id=\"T_ad48e_level0_row9\" class=\"row_heading level0 row9\" >BABA LINGARAJ ENTERPRISES PVT LTD</th>\n",
       "      <td id=\"T_ad48e_row9_col0\" class=\"data row9 col0\" >37846.598106</td>\n",
       "    </tr>\n",
       "  </tbody>\n",
       "</table>\n"
      ],
      "text/plain": [
       "<pandas.io.formats.style.Styler at 0x212c1c6c970>"
      ]
     },
     "execution_count": 27,
     "metadata": {},
     "output_type": "execute_result"
    }
   ],
   "source": [
    "print('star supliers with more no. of delay delivery')\n",
    "data[data['ontime/delay']==0][['supplierNameCode', 'TRANSPORTATION_DISTANCE_IN_KM']].groupby(['supplierNameCode']).agg('sum').sort_values('TRANSPORTATION_DISTANCE_IN_KM', \n",
    "                                                                                                                   ascending=False).head(10).style.background_gradient(cmap='cool')"
   ]
  },
  {
   "cell_type": "code",
   "execution_count": 28,
   "metadata": {
    "execution": {
     "iopub.execute_input": "2021-02-04T12:40:24.588105Z",
     "iopub.status.busy": "2021-02-04T12:40:24.587066Z",
     "iopub.status.idle": "2021-02-04T12:40:24.608572Z",
     "shell.execute_reply": "2021-02-04T12:40:24.608010Z"
    },
    "papermill": {
     "duration": 0.208694,
     "end_time": "2021-02-04T12:40:24.608718",
     "exception": false,
     "start_time": "2021-02-04T12:40:24.400024",
     "status": "completed"
    },
    "tags": []
   },
   "outputs": [
    {
     "name": "stdout",
     "output_type": "stream",
     "text": [
      "star supliers with more no. of delay delivery\n"
     ]
    },
    {
     "data": {
      "text/html": [
       "<style type=\"text/css\">\n",
       "#T_3de8c_row0_col0 {\n",
       "  background-color: #ff00ff;\n",
       "  color: #f1f1f1;\n",
       "}\n",
       "#T_3de8c_row1_col0 {\n",
       "  background-color: #f50aff;\n",
       "  color: #f1f1f1;\n",
       "}\n",
       "#T_3de8c_row2_col0 {\n",
       "  background-color: #c639ff;\n",
       "  color: #f1f1f1;\n",
       "}\n",
       "#T_3de8c_row3_col0 {\n",
       "  background-color: #738cff;\n",
       "  color: #f1f1f1;\n",
       "}\n",
       "#T_3de8c_row4_col0 {\n",
       "  background-color: #50afff;\n",
       "  color: #f1f1f1;\n",
       "}\n",
       "#T_3de8c_row5_col0 {\n",
       "  background-color: #4bb4ff;\n",
       "  color: #000000;\n",
       "}\n",
       "#T_3de8c_row6_col0 {\n",
       "  background-color: #3cc3ff;\n",
       "  color: #000000;\n",
       "}\n",
       "#T_3de8c_row7_col0 {\n",
       "  background-color: #28d7ff;\n",
       "  color: #000000;\n",
       "}\n",
       "#T_3de8c_row8_col0 {\n",
       "  background-color: #0ef1ff;\n",
       "  color: #000000;\n",
       "}\n",
       "#T_3de8c_row9_col0 {\n",
       "  background-color: #00ffff;\n",
       "  color: #000000;\n",
       "}\n",
       "</style>\n",
       "<table id=\"T_3de8c_\">\n",
       "  <thead>\n",
       "    <tr>\n",
       "      <th class=\"blank level0\" >&nbsp;</th>\n",
       "      <th class=\"col_heading level0 col0\" >TRANSPORTATION_DISTANCE_IN_KM</th>\n",
       "    </tr>\n",
       "    <tr>\n",
       "      <th class=\"index_name level0\" >supplierNameCode</th>\n",
       "      <th class=\"blank col0\" >&nbsp;</th>\n",
       "    </tr>\n",
       "  </thead>\n",
       "  <tbody>\n",
       "    <tr>\n",
       "      <th id=\"T_3de8c_level0_row0\" class=\"row_heading level0 row0\" >SUNITA CARRIERS PRIVATE LIMITED</th>\n",
       "      <td id=\"T_3de8c_row0_col0\" class=\"data row0 col0\" >324</td>\n",
       "    </tr>\n",
       "    <tr>\n",
       "      <th id=\"T_3de8c_level0_row1\" class=\"row_heading level0 row1\" >A S TRANSPORTS</th>\n",
       "      <td id=\"T_3de8c_row1_col0\" class=\"data row1 col0\" >316</td>\n",
       "    </tr>\n",
       "    <tr>\n",
       "      <th id=\"T_3de8c_level0_row2\" class=\"row_heading level0 row2\" >Unknown</th>\n",
       "      <td id=\"T_3de8c_row2_col0\" class=\"data row2 col0\" >279</td>\n",
       "    </tr>\n",
       "    <tr>\n",
       "      <th id=\"T_3de8c_level0_row3\" class=\"row_heading level0 row3\" >K.RAMACHANDRAN TRANSPORTS</th>\n",
       "      <td id=\"T_3de8c_row3_col0\" class=\"data row3 col0\" >214</td>\n",
       "    </tr>\n",
       "    <tr>\n",
       "      <th id=\"T_3de8c_level0_row4\" class=\"row_heading level0 row4\" >EKTA TRANSPORT COMPANY</th>\n",
       "      <td id=\"T_3de8c_row4_col0\" class=\"data row4 col0\" >187</td>\n",
       "    </tr>\n",
       "    <tr>\n",
       "      <th id=\"T_3de8c_level0_row5\" class=\"row_heading level0 row5\" >S.B.TRANSPORT COMPANY </th>\n",
       "      <td id=\"T_3de8c_row5_col0\" class=\"data row5 col0\" >183</td>\n",
       "    </tr>\n",
       "    <tr>\n",
       "      <th id=\"T_3de8c_level0_row6\" class=\"row_heading level0 row6\" >TRANS CARGO INDIA</th>\n",
       "      <td id=\"T_3de8c_row6_col0\" class=\"data row6 col0\" >171</td>\n",
       "    </tr>\n",
       "    <tr>\n",
       "      <th id=\"T_3de8c_level0_row7\" class=\"row_heading level0 row7\" >A P R TRAILLER SERVICE</th>\n",
       "      <td id=\"T_3de8c_row7_col0\" class=\"data row7 col0\" >156</td>\n",
       "    </tr>\n",
       "    <tr>\n",
       "      <th id=\"T_3de8c_level0_row8\" class=\"row_heading level0 row8\" >SHRI SAI ENTERPRISES</th>\n",
       "      <td id=\"T_3de8c_row8_col0\" class=\"data row8 col0\" >135</td>\n",
       "    </tr>\n",
       "    <tr>\n",
       "      <th id=\"T_3de8c_level0_row9\" class=\"row_heading level0 row9\" >DISTRIBUTION LOGISTICS INFRASTRUCTURE PRIVATE LTD</th>\n",
       "      <td id=\"T_3de8c_row9_col0\" class=\"data row9 col0\" >124</td>\n",
       "    </tr>\n",
       "  </tbody>\n",
       "</table>\n"
      ],
      "text/plain": [
       "<pandas.io.formats.style.Styler at 0x212c45005e0>"
      ]
     },
     "execution_count": 28,
     "metadata": {},
     "output_type": "execute_result"
    }
   ],
   "source": [
    "print('star supliers with more no. of delay delivery')\n",
    "data[data['ontime/delay']==0][['supplierNameCode', 'TRANSPORTATION_DISTANCE_IN_KM']].groupby(['supplierNameCode']).agg('count').sort_values('TRANSPORTATION_DISTANCE_IN_KM', \n",
    "                                                                                                                   ascending=False).head(10).style.background_gradient(cmap='cool')"
   ]
  },
  {
   "cell_type": "code",
   "execution_count": 29,
   "metadata": {
    "execution": {
     "iopub.execute_input": "2021-02-04T12:40:24.987486Z",
     "iopub.status.busy": "2021-02-04T12:40:24.986459Z",
     "iopub.status.idle": "2021-02-04T12:40:24.990345Z",
     "shell.execute_reply": "2021-02-04T12:40:24.991058Z"
    },
    "papermill": {
     "duration": 0.198823,
     "end_time": "2021-02-04T12:40:24.991241",
     "exception": false,
     "start_time": "2021-02-04T12:40:24.792418",
     "status": "completed"
    },
    "tags": []
   },
   "outputs": [
    {
     "data": {
      "text/plain": [
       "999    316\n",
       "Name: supplierID, dtype: int64"
      ]
     },
     "execution_count": 29,
     "metadata": {},
     "output_type": "execute_result"
    }
   ],
   "source": [
    "#Let's check the supplier code for the unknown suppliers\n",
    "data[data['supplierNameCode']=='Unknown']['supplierID'].value_counts()"
   ]
  },
  {
   "cell_type": "code",
   "execution_count": 30,
   "metadata": {
    "execution": {
     "iopub.execute_input": "2021-02-04T12:40:25.383363Z",
     "iopub.status.busy": "2021-02-04T12:40:25.382366Z",
     "iopub.status.idle": "2021-02-04T12:40:25.395013Z",
     "shell.execute_reply": "2021-02-04T12:40:25.395619Z"
    },
    "papermill": {
     "duration": 0.206263,
     "end_time": "2021-02-04T12:40:25.395828",
     "exception": false,
     "start_time": "2021-02-04T12:40:25.189565",
     "status": "completed"
    },
    "tags": []
   },
   "outputs": [
    {
     "data": {
      "text/plain": [
       "0    2003\n",
       "1     677\n",
       "Name: ontime/delay, dtype: int64"
      ]
     },
     "execution_count": 30,
     "metadata": {},
     "output_type": "execute_result"
    }
   ],
   "source": [
    "# Let's check whether having driver's mobile number making any impact on ontime delivery\n",
    "data['Driver_MobileNo'].values[data['Driver_MobileNo'].values>0]=1\n",
    "data['Driver_MobileNo'].fillna(0, inplace=True)\n",
    "data[data['Driver_MobileNo']==1]['ontime/delay'].value_counts()"
   ]
  },
  {
   "cell_type": "code",
   "execution_count": 31,
   "metadata": {
    "execution": {
     "iopub.execute_input": "2021-02-04T12:40:25.914376Z",
     "iopub.status.busy": "2021-02-04T12:40:25.913662Z",
     "iopub.status.idle": "2021-02-04T12:40:25.925023Z",
     "shell.execute_reply": "2021-02-04T12:40:25.925914Z"
    },
    "papermill": {
     "duration": 0.209204,
     "end_time": "2021-02-04T12:40:25.926146",
     "exception": false,
     "start_time": "2021-02-04T12:40:25.716942",
     "status": "completed"
    },
    "tags": []
   },
   "outputs": [
    {
     "data": {
      "text/plain": [
       "0    2321\n",
       "1     914\n",
       "Name: ontime/delay, dtype: int64"
      ]
     },
     "execution_count": 31,
     "metadata": {},
     "output_type": "execute_result"
    }
   ],
   "source": [
    "data[data['Driver_MobileNo']==0]['ontime/delay'].value_counts()"
   ]
  },
  {
   "cell_type": "code",
   "execution_count": 32,
   "metadata": {
    "execution": {
     "iopub.execute_input": "2021-02-04T12:40:27.214594Z",
     "iopub.status.busy": "2021-02-04T12:40:27.213929Z",
     "iopub.status.idle": "2021-02-04T12:40:27.236633Z",
     "shell.execute_reply": "2021-02-04T12:40:27.237203Z"
    },
    "papermill": {
     "duration": 0.21125,
     "end_time": "2021-02-04T12:40:27.237386",
     "exception": false,
     "start_time": "2021-02-04T12:40:27.026136",
     "status": "completed"
    },
    "tags": []
   },
   "outputs": [
    {
     "data": {
      "text/html": [
       "<style type=\"text/css\">\n",
       "#T_c3bf3_row0_col0 {\n",
       "  background-color: #f0f921;\n",
       "  color: #000000;\n",
       "}\n",
       "#T_c3bf3_row1_col0 {\n",
       "  background-color: #fccd25;\n",
       "  color: #000000;\n",
       "}\n",
       "#T_c3bf3_row2_col0 {\n",
       "  background-color: #f79143;\n",
       "  color: #f1f1f1;\n",
       "}\n",
       "#T_c3bf3_row3_col0 {\n",
       "  background-color: #df6263;\n",
       "  color: #f1f1f1;\n",
       "}\n",
       "#T_c3bf3_row4_col0 {\n",
       "  background-color: #c7427c;\n",
       "  color: #f1f1f1;\n",
       "}\n",
       "#T_c3bf3_row5_col0 {\n",
       "  background-color: #b02991;\n",
       "  color: #f1f1f1;\n",
       "}\n",
       "#T_c3bf3_row6_col0 {\n",
       "  background-color: #6900a8;\n",
       "  color: #f1f1f1;\n",
       "}\n",
       "#T_c3bf3_row7_col0 {\n",
       "  background-color: #2e0595;\n",
       "  color: #f1f1f1;\n",
       "}\n",
       "#T_c3bf3_row8_col0 {\n",
       "  background-color: #260591;\n",
       "  color: #f1f1f1;\n",
       "}\n",
       "#T_c3bf3_row9_col0 {\n",
       "  background-color: #0d0887;\n",
       "  color: #f1f1f1;\n",
       "}\n",
       "</style>\n",
       "<table id=\"T_c3bf3_\">\n",
       "  <thead>\n",
       "    <tr>\n",
       "      <th class=\"blank level0\" >&nbsp;</th>\n",
       "      <th class=\"col_heading level0 col0\" >TRANSPORTATION_DISTANCE_IN_KM</th>\n",
       "    </tr>\n",
       "    <tr>\n",
       "      <th class=\"index_name level0\" >supplierNameCode</th>\n",
       "      <th class=\"blank col0\" >&nbsp;</th>\n",
       "    </tr>\n",
       "  </thead>\n",
       "  <tbody>\n",
       "    <tr>\n",
       "      <th id=\"T_c3bf3_level0_row0\" class=\"row_heading level0 row0\" >VJ LOGISTICS</th>\n",
       "      <td id=\"T_c3bf3_row0_col0\" class=\"data row0 col0\" >38871.944048</td>\n",
       "    </tr>\n",
       "    <tr>\n",
       "      <th id=\"T_c3bf3_level0_row1\" class=\"row_heading level0 row1\" >NAMAKKAL SRI ANJINAYA TRANSPORT</th>\n",
       "      <td id=\"T_c3bf3_row1_col0\" class=\"data row1 col0\" >35291.866667</td>\n",
       "    </tr>\n",
       "    <tr>\n",
       "      <th id=\"T_c3bf3_level0_row2\" class=\"row_heading level0 row2\" >ARVINTH TRANSPORT</th>\n",
       "      <td id=\"T_c3bf3_row2_col0\" class=\"data row2 col0\" >29725.083333</td>\n",
       "    </tr>\n",
       "    <tr>\n",
       "      <th id=\"T_c3bf3_level0_row3\" class=\"row_heading level0 row3\" >ESWAR TRANSPORT</th>\n",
       "      <td id=\"T_c3bf3_row3_col0\" class=\"data row3 col0\" >24566.727273</td>\n",
       "    </tr>\n",
       "    <tr>\n",
       "      <th id=\"T_c3bf3_level0_row4\" class=\"row_heading level0 row4\" >SUSEE TRANSPORTER</th>\n",
       "      <td id=\"T_c3bf3_row4_col0\" class=\"data row4 col0\" >20723.241667</td>\n",
       "    </tr>\n",
       "    <tr>\n",
       "      <th id=\"T_c3bf3_level0_row5\" class=\"row_heading level0 row5\" >Sree Sakthi Transport</th>\n",
       "      <td id=\"T_c3bf3_row5_col0\" class=\"data row5 col0\" >17750.854762</td>\n",
       "    </tr>\n",
       "    <tr>\n",
       "      <th id=\"T_c3bf3_level0_row6\" class=\"row_heading level0 row6\" >KASAM TRANSPORT SERVICE</th>\n",
       "      <td id=\"T_c3bf3_row6_col0\" class=\"data row6 col0\" >10765.500000</td>\n",
       "    </tr>\n",
       "    <tr>\n",
       "      <th id=\"T_c3bf3_level0_row7\" class=\"row_heading level0 row7\" >SR TRANSPORTS</th>\n",
       "      <td id=\"T_c3bf3_row7_col0\" class=\"data row7 col0\" >5876.675000</td>\n",
       "    </tr>\n",
       "    <tr>\n",
       "      <th id=\"T_c3bf3_level0_row8\" class=\"row_heading level0 row8\" >RAGUL TRANSPORT</th>\n",
       "      <td id=\"T_c3bf3_row8_col0\" class=\"data row8 col0\" >5330.491667</td>\n",
       "    </tr>\n",
       "    <tr>\n",
       "      <th id=\"T_c3bf3_level0_row9\" class=\"row_heading level0 row9\" >VIRS TEMPO SERVICE</th>\n",
       "      <td id=\"T_c3bf3_row9_col0\" class=\"data row9 col0\" >3894.033333</td>\n",
       "    </tr>\n",
       "  </tbody>\n",
       "</table>\n"
      ],
      "text/plain": [
       "<pandas.io.formats.style.Styler at 0x212c4333e20>"
      ]
     },
     "execution_count": 32,
     "metadata": {},
     "output_type": "execute_result"
    }
   ],
   "source": [
    "#fraudulant entries by suppliers\n",
    "data[data['Org_Dest_distance']==0][['TRANSPORTATION_DISTANCE_IN_KM', 'supplierNameCode']].groupby(['supplierNameCode']).agg('sum').sort_values('TRANSPORTATION_DISTANCE_IN_KM', \n",
    "                                                                                                                   ascending=False).head(10).style.background_gradient(cmap='plasma')"
   ]
  },
  {
   "cell_type": "markdown",
   "metadata": {
    "papermill": {
     "duration": 0.187533,
     "end_time": "2021-02-04T12:40:28.266978",
     "exception": false,
     "start_time": "2021-02-04T12:40:28.079445",
     "status": "completed"
    },
    "tags": []
   },
   "source": [
    "By this result, we can see that we don't have vehicletype data for most of the record. Definetly we shoud have record of vehicle type to get the suppliers having star vehicle. By this we can see the second most successful star vehicle which making more number of ontime delivery is '*32 FT Multi-Axle 14MT - HCV*'"
   ]
  },
  {
   "cell_type": "markdown",
   "metadata": {
    "papermill": {
     "duration": 0.188129,
     "end_time": "2021-02-04T12:40:32.155054",
     "exception": false,
     "start_time": "2021-02-04T12:40:31.966925",
     "status": "completed"
    },
    "tags": []
   },
   "source": [
    "we don't have major outliers in our data"
   ]
  },
  {
   "cell_type": "markdown",
   "metadata": {
    "papermill": {
     "duration": 0.188269,
     "end_time": "2021-02-04T12:40:32.532175",
     "exception": false,
     "start_time": "2021-02-04T12:40:32.343906",
     "status": "completed"
    },
    "tags": []
   },
   "source": [
    "### Feature Encoding"
   ]
  },
  {
   "cell_type": "code",
   "execution_count": 33,
   "metadata": {
    "execution": {
     "iopub.execute_input": "2021-02-04T12:40:32.920271Z",
     "iopub.status.busy": "2021-02-04T12:40:32.919484Z",
     "iopub.status.idle": "2021-02-04T12:40:32.922937Z",
     "shell.execute_reply": "2021-02-04T12:40:32.922236Z"
    },
    "papermill": {
     "duration": 0.202773,
     "end_time": "2021-02-04T12:40:32.923134",
     "exception": false,
     "start_time": "2021-02-04T12:40:32.720361",
     "status": "completed"
    },
    "tags": []
   },
   "outputs": [],
   "source": [
    "#let's filter usefull data alone\n",
    "df_cln=data[['Market/Regular ',\n",
    "       'vehicle_no',\n",
    "       'Current_Location',\n",
    "       'TRANSPORTATION_DISTANCE_IN_KM',\n",
    "       'vehicleType', 'Driver_Name',\n",
    "       'Driver_MobileNo', 'customerID', 'supplierID',\n",
    "       'Material Shipped', 'ontime/delay',\n",
    "       'vehicle_states', 'Origin_states', 'Dest_states', 'Org_Dest_distance']]"
   ]
  },
  {
   "cell_type": "code",
   "execution_count": 34,
   "metadata": {
    "execution": {
     "iopub.execute_input": "2021-02-04T12:40:33.309863Z",
     "iopub.status.busy": "2021-02-04T12:40:33.309194Z",
     "iopub.status.idle": "2021-02-04T12:40:33.312401Z",
     "shell.execute_reply": "2021-02-04T12:40:33.312997Z"
    },
    "papermill": {
     "duration": 0.198257,
     "end_time": "2021-02-04T12:40:33.313189",
     "exception": false,
     "start_time": "2021-02-04T12:40:33.114932",
     "status": "completed"
    },
    "tags": []
   },
   "outputs": [],
   "source": [
    "#let's make a copy of filtered data\n",
    "df_copy=df_cln.copy()"
   ]
  },
  {
   "cell_type": "code",
   "execution_count": 35,
   "metadata": {
    "execution": {
     "iopub.execute_input": "2021-02-04T12:40:33.699112Z",
     "iopub.status.busy": "2021-02-04T12:40:33.698425Z",
     "iopub.status.idle": "2021-02-04T12:40:33.742131Z",
     "shell.execute_reply": "2021-02-04T12:40:33.742632Z"
    },
    "papermill": {
     "duration": 0.240778,
     "end_time": "2021-02-04T12:40:33.742850",
     "exception": false,
     "start_time": "2021-02-04T12:40:33.502072",
     "status": "completed"
    },
    "tags": []
   },
   "outputs": [
    {
     "name": "stderr",
     "output_type": "stream",
     "text": [
      "C:\\Users\\HARSHA~1.BAD\\AppData\\Local\\Temp/ipykernel_3740/3644701847.py:3: SettingWithCopyWarning: \n",
      "A value is trying to be set on a copy of a slice from a DataFrame.\n",
      "Try using .loc[row_indexer,col_indexer] = value instead\n",
      "\n",
      "See the caveats in the documentation: https://pandas.pydata.org/pandas-docs/stable/user_guide/indexing.html#returning-a-view-versus-a-copy\n",
      "  df_cln['vehicle_no']=df_cln.vehicle_no.astype(\"category\").cat.codes\n",
      "C:\\Users\\HARSHA~1.BAD\\AppData\\Local\\Temp/ipykernel_3740/3644701847.py:4: SettingWithCopyWarning: \n",
      "A value is trying to be set on a copy of a slice from a DataFrame.\n",
      "Try using .loc[row_indexer,col_indexer] = value instead\n",
      "\n",
      "See the caveats in the documentation: https://pandas.pydata.org/pandas-docs/stable/user_guide/indexing.html#returning-a-view-versus-a-copy\n",
      "  df_cln['customerID']=df_cln.customerID.astype(\"category\").cat.codes\n",
      "C:\\Users\\HARSHA~1.BAD\\AppData\\Local\\Temp/ipykernel_3740/3644701847.py:5: SettingWithCopyWarning: \n",
      "A value is trying to be set on a copy of a slice from a DataFrame.\n",
      "Try using .loc[row_indexer,col_indexer] = value instead\n",
      "\n",
      "See the caveats in the documentation: https://pandas.pydata.org/pandas-docs/stable/user_guide/indexing.html#returning-a-view-versus-a-copy\n",
      "  df_cln['supplierID']=df_cln.supplierID.astype(\"category\").cat.codes\n",
      "C:\\Users\\HARSHA~1.BAD\\AppData\\Local\\Temp/ipykernel_3740/3644701847.py:8: SettingWithCopyWarning: \n",
      "A value is trying to be set on a copy of a slice from a DataFrame.\n",
      "Try using .loc[row_indexer,col_indexer] = value instead\n",
      "\n",
      "See the caveats in the documentation: https://pandas.pydata.org/pandas-docs/stable/user_guide/indexing.html#returning-a-view-versus-a-copy\n",
      "  df_cln['Current_Location']=df_cln.Current_Location.astype(\"category\").cat.codes\n",
      "C:\\Users\\HARSHA~1.BAD\\AppData\\Local\\Temp/ipykernel_3740/3644701847.py:9: SettingWithCopyWarning: \n",
      "A value is trying to be set on a copy of a slice from a DataFrame.\n",
      "Try using .loc[row_indexer,col_indexer] = value instead\n",
      "\n",
      "See the caveats in the documentation: https://pandas.pydata.org/pandas-docs/stable/user_guide/indexing.html#returning-a-view-versus-a-copy\n",
      "  df_cln['vehicleType']=df_cln.vehicleType.astype(\"category\").cat.codes\n",
      "C:\\Users\\HARSHA~1.BAD\\AppData\\Local\\Temp/ipykernel_3740/3644701847.py:12: SettingWithCopyWarning: \n",
      "A value is trying to be set on a copy of a slice from a DataFrame.\n",
      "Try using .loc[row_indexer,col_indexer] = value instead\n",
      "\n",
      "See the caveats in the documentation: https://pandas.pydata.org/pandas-docs/stable/user_guide/indexing.html#returning-a-view-versus-a-copy\n",
      "  df_cln['Material Shipped']=df_cln['Material Shipped'].astype(\"category\").cat.codes\n",
      "C:\\Users\\HARSHA~1.BAD\\AppData\\Local\\Temp/ipykernel_3740/3644701847.py:13: SettingWithCopyWarning: \n",
      "A value is trying to be set on a copy of a slice from a DataFrame.\n",
      "Try using .loc[row_indexer,col_indexer] = value instead\n",
      "\n",
      "See the caveats in the documentation: https://pandas.pydata.org/pandas-docs/stable/user_guide/indexing.html#returning-a-view-versus-a-copy\n",
      "  df_cln['Market/Regular ']=df_cln['Market/Regular '].astype(\"category\").cat.codes\n",
      "C:\\Users\\HARSHA~1.BAD\\AppData\\Local\\Temp/ipykernel_3740/3644701847.py:14: SettingWithCopyWarning: \n",
      "A value is trying to be set on a copy of a slice from a DataFrame.\n",
      "Try using .loc[row_indexer,col_indexer] = value instead\n",
      "\n",
      "See the caveats in the documentation: https://pandas.pydata.org/pandas-docs/stable/user_guide/indexing.html#returning-a-view-versus-a-copy\n",
      "  df_cln['Driver_Name']=df_cln['Driver_Name'].astype(\"category\").cat.codes\n",
      "C:\\Users\\HARSHA~1.BAD\\AppData\\Local\\Temp/ipykernel_3740/3644701847.py:15: SettingWithCopyWarning: \n",
      "A value is trying to be set on a copy of a slice from a DataFrame.\n",
      "Try using .loc[row_indexer,col_indexer] = value instead\n",
      "\n",
      "See the caveats in the documentation: https://pandas.pydata.org/pandas-docs/stable/user_guide/indexing.html#returning-a-view-versus-a-copy\n",
      "  df_cln['vehicle_states']=df_cln.vehicle_states.astype(\"category\").cat.codes\n",
      "C:\\Users\\HARSHA~1.BAD\\AppData\\Local\\Temp/ipykernel_3740/3644701847.py:16: SettingWithCopyWarning: \n",
      "A value is trying to be set on a copy of a slice from a DataFrame.\n",
      "Try using .loc[row_indexer,col_indexer] = value instead\n",
      "\n",
      "See the caveats in the documentation: https://pandas.pydata.org/pandas-docs/stable/user_guide/indexing.html#returning-a-view-versus-a-copy\n",
      "  df_cln['Origin_states']=df_cln['Origin_states'].astype(\"category\").cat.codes\n",
      "C:\\Users\\HARSHA~1.BAD\\AppData\\Local\\Temp/ipykernel_3740/3644701847.py:17: SettingWithCopyWarning: \n",
      "A value is trying to be set on a copy of a slice from a DataFrame.\n",
      "Try using .loc[row_indexer,col_indexer] = value instead\n",
      "\n",
      "See the caveats in the documentation: https://pandas.pydata.org/pandas-docs/stable/user_guide/indexing.html#returning-a-view-versus-a-copy\n",
      "  df_cln['Dest_states']=df_cln['Dest_states'].astype(\"category\").cat.codes\n"
     ]
    }
   ],
   "source": [
    "#df_cln['GpsProvider']=df_cln.GpsProvider.astype(\"category\").cat.codes\n",
    "#df_cln['BookingID']=df_cln.BookingID.astype(\"category\").cat.codes\n",
    "df_cln['vehicle_no']=df_cln.vehicle_no.astype(\"category\").cat.codes\n",
    "df_cln['customerID']=df_cln.customerID.astype(\"category\").cat.codes\n",
    "df_cln['supplierID']=df_cln.supplierID.astype(\"category\").cat.codes\n",
    "#df_cln['Origin_Location']=df_cln.Origin_Location.astype(\"category\").cat.codes\n",
    "#df_cln['Destination_Location']=df_cln.Destination_Location.astype(\"category\").cat.codes\n",
    "df_cln['Current_Location']=df_cln.Current_Location.astype(\"category\").cat.codes\n",
    "df_cln['vehicleType']=df_cln.vehicleType.astype(\"category\").cat.codes\n",
    "#df_cln['customerNameCode']=df_cln.customerNameCode.astype(\"category\").cat.codes\n",
    "#df_cln['supplierNameCode']=df_cln.supplierNameCode.astype(\"category\").cat.codes\n",
    "df_cln['Material Shipped']=df_cln['Material Shipped'].astype(\"category\").cat.codes\n",
    "df_cln['Market/Regular ']=df_cln['Market/Regular '].astype(\"category\").cat.codes\n",
    "df_cln['Driver_Name']=df_cln['Driver_Name'].astype(\"category\").cat.codes\n",
    "df_cln['vehicle_states']=df_cln.vehicle_states.astype(\"category\").cat.codes\n",
    "df_cln['Origin_states']=df_cln['Origin_states'].astype(\"category\").cat.codes\n",
    "df_cln['Dest_states']=df_cln['Dest_states'].astype(\"category\").cat.codes"
   ]
  },
  {
   "cell_type": "code",
   "execution_count": 36,
   "metadata": {
    "execution": {
     "iopub.execute_input": "2021-02-04T12:40:34.129862Z",
     "iopub.status.busy": "2021-02-04T12:40:34.129185Z",
     "iopub.status.idle": "2021-02-04T12:40:34.143122Z",
     "shell.execute_reply": "2021-02-04T12:40:34.143605Z"
    },
    "papermill": {
     "duration": 0.211089,
     "end_time": "2021-02-04T12:40:34.143936",
     "exception": false,
     "start_time": "2021-02-04T12:40:33.932847",
     "status": "completed"
    },
    "tags": []
   },
   "outputs": [
    {
     "data": {
      "text/plain": [
       "ontime/delay                     1.000000\n",
       "supplierID                       0.501116\n",
       "vehicleType                      0.210720\n",
       "vehicle_states                   0.203893\n",
       "vehicle_no                       0.201877\n",
       "Dest_states                      0.177922\n",
       "Origin_states                    0.110959\n",
       "TRANSPORTATION_DISTANCE_IN_KM    0.104201\n",
       "Current_Location                 0.075365\n",
       "Material Shipped                 0.013946\n",
       "Driver_MobileNo                 -0.033591\n",
       "Market/Regular                  -0.125841\n",
       "Org_Dest_distance               -0.233739\n",
       "Driver_Name                     -0.244567\n",
       "customerID                      -0.258463\n",
       "Name: ontime/delay, dtype: float64"
      ]
     },
     "execution_count": 36,
     "metadata": {},
     "output_type": "execute_result"
    }
   ],
   "source": [
    "corr_matrix=df_cln.corr()\n",
    "corr_matrix[\"ontime/delay\"].sort_values(ascending=False)"
   ]
  },
  {
   "cell_type": "code",
   "execution_count": 37,
   "metadata": {
    "execution": {
     "iopub.execute_input": "2021-02-04T12:40:34.528131Z",
     "iopub.status.busy": "2021-02-04T12:40:34.527495Z",
     "iopub.status.idle": "2021-02-04T12:40:34.533906Z",
     "shell.execute_reply": "2021-02-04T12:40:34.534452Z"
    },
    "papermill": {
     "duration": 0.198888,
     "end_time": "2021-02-04T12:40:34.534650",
     "exception": false,
     "start_time": "2021-02-04T12:40:34.335762",
     "status": "completed"
    },
    "tags": []
   },
   "outputs": [],
   "source": [
    "x=df_cln.drop('ontime/delay', axis=1)\n",
    "y=df_cln['ontime/delay'].values"
   ]
  },
  {
   "cell_type": "markdown",
   "metadata": {
    "papermill": {
     "duration": 0.190798,
     "end_time": "2021-02-04T12:40:34.914721",
     "exception": false,
     "start_time": "2021-02-04T12:40:34.723923",
     "status": "completed"
    },
    "tags": []
   },
   "source": [
    "### Scaling Treatment"
   ]
  },
  {
   "cell_type": "code",
   "execution_count": 38,
   "metadata": {
    "execution": {
     "iopub.execute_input": "2021-02-04T12:40:35.301909Z",
     "iopub.status.busy": "2021-02-04T12:40:35.300791Z",
     "iopub.status.idle": "2021-02-04T12:40:35.387212Z",
     "shell.execute_reply": "2021-02-04T12:40:35.386520Z"
    },
    "papermill": {
     "duration": 0.281561,
     "end_time": "2021-02-04T12:40:35.387361",
     "exception": false,
     "start_time": "2021-02-04T12:40:35.105800",
     "status": "completed"
    },
    "tags": []
   },
   "outputs": [],
   "source": [
    "from sklearn.preprocessing import StandardScaler\n",
    "\n",
    "#to_scale=df_cln.select_dtypes(include='number').columns.tolist()[1:-1]\n",
    "sc=StandardScaler()\n",
    "scaled=sc.fit_transform(x)\n",
    "x_scl=pd.DataFrame(scaled, columns=x.columns)"
   ]
  },
  {
   "cell_type": "markdown",
   "metadata": {
    "papermill": {
     "duration": 0.192319,
     "end_time": "2021-02-04T12:40:36.843880",
     "exception": false,
     "start_time": "2021-02-04T12:40:36.651561",
     "status": "completed"
    },
    "tags": []
   },
   "source": [
    "dataset is well standardised\n",
    "### Model Building\n",
    "##### Logistic Refression"
   ]
  },
  {
   "cell_type": "markdown",
   "metadata": {
    "execution": {
     "iopub.execute_input": "2021-02-04T12:40:37.237555Z",
     "iopub.status.busy": "2021-02-04T12:40:37.236659Z",
     "iopub.status.idle": "2021-02-04T12:40:37.305999Z",
     "shell.execute_reply": "2021-02-04T12:40:37.305264Z"
    },
    "papermill": {
     "duration": 0.268034,
     "end_time": "2021-02-04T12:40:37.306161",
     "exception": false,
     "start_time": "2021-02-04T12:40:37.038127",
     "status": "completed"
    },
    "tags": []
   },
   "source": [
    "from sklearn.model_selection import train_test_split\n",
    "X_train, X_test, y_train, y_test = train_test_split(x_scl, y, test_size=0.25)"
   ]
  },
  {
   "cell_type": "raw",
   "metadata": {
    "execution": {
     "iopub.execute_input": "2021-02-04T12:40:37.706035Z",
     "iopub.status.busy": "2021-02-04T12:40:37.705272Z",
     "iopub.status.idle": "2021-02-04T12:40:37.814921Z",
     "shell.execute_reply": "2021-02-04T12:40:37.814165Z"
    },
    "papermill": {
     "duration": 0.311263,
     "end_time": "2021-02-04T12:40:37.815079",
     "exception": false,
     "start_time": "2021-02-04T12:40:37.503816",
     "status": "completed"
    },
    "tags": []
   },
   "source": [
    "from sklearn.linear_model import LogisticRegression\n",
    "from sklearn.metrics import accuracy_score, confusion_matrix, roc_curve, auc, roc_auc_score"
   ]
  },
  {
   "cell_type": "raw",
   "metadata": {
    "execution": {
     "iopub.execute_input": "2021-02-04T12:40:38.213808Z",
     "iopub.status.busy": "2021-02-04T12:40:38.213126Z",
     "iopub.status.idle": "2021-02-04T12:40:38.239327Z",
     "shell.execute_reply": "2021-02-04T12:40:38.238599Z"
    },
    "papermill": {
     "duration": 0.228156,
     "end_time": "2021-02-04T12:40:38.239482",
     "exception": false,
     "start_time": "2021-02-04T12:40:38.011326",
     "status": "completed"
    },
    "tags": []
   },
   "source": [
    "LR=LogisticRegression()\n",
    "LR.fit(X_train, y_train)"
   ]
  },
  {
   "cell_type": "raw",
   "metadata": {
    "execution": {
     "iopub.execute_input": "2021-02-04T12:40:38.629387Z",
     "iopub.status.busy": "2021-02-04T12:40:38.628730Z",
     "iopub.status.idle": "2021-02-04T12:40:38.636510Z",
     "shell.execute_reply": "2021-02-04T12:40:38.637090Z"
    },
    "papermill": {
     "duration": 0.203554,
     "end_time": "2021-02-04T12:40:38.637274",
     "exception": false,
     "start_time": "2021-02-04T12:40:38.433720",
     "status": "completed"
    },
    "tags": []
   },
   "source": [
    "LR.score(X_test, y_test)"
   ]
  },
  {
   "cell_type": "raw",
   "metadata": {
    "execution": {
     "iopub.execute_input": "2021-02-04T12:40:39.033123Z",
     "iopub.status.busy": "2021-02-04T12:40:39.032453Z",
     "iopub.status.idle": "2021-02-04T12:40:39.035710Z",
     "shell.execute_reply": "2021-02-04T12:40:39.035149Z"
    },
    "papermill": {
     "duration": 0.206727,
     "end_time": "2021-02-04T12:40:39.035896",
     "exception": false,
     "start_time": "2021-02-04T12:40:38.829169",
     "status": "completed"
    },
    "tags": []
   },
   "source": [
    "y_pred_LR=LR.predict(X_test)"
   ]
  },
  {
   "cell_type": "raw",
   "metadata": {},
   "source": [
    "import seaborn as sns"
   ]
  },
  {
   "cell_type": "raw",
   "metadata": {
    "execution": {
     "iopub.execute_input": "2021-02-04T12:40:39.451585Z",
     "iopub.status.busy": "2021-02-04T12:40:39.449028Z",
     "iopub.status.idle": "2021-02-04T12:40:39.646629Z",
     "shell.execute_reply": "2021-02-04T12:40:39.646104Z"
    },
    "papermill": {
     "duration": 0.417136,
     "end_time": "2021-02-04T12:40:39.646785",
     "exception": false,
     "start_time": "2021-02-04T12:40:39.229649",
     "status": "completed"
    },
    "tags": []
   },
   "source": [
    "plt.rcParams['figure.figsize']=5,5\n",
    "ax= plt.subplot()\n",
    "cm = confusion_matrix(y_test, y_pred_LR)\n",
    "sns.heatmap(cm, annot=True, ax = ax); #annot=True to annotate cells\n",
    "\n",
    "# labels, title and ticks\n",
    "ax.set_xlabel('Predicted labels');ax.set_ylabel('True labels'); \n",
    "ax.set_title('Confusion Matrix'); \n",
    "ax.xaxis.set_ticklabels(['delay', 'ontime']); ax.yaxis.set_ticklabels(['delay', 'ontime']);"
   ]
  },
  {
   "cell_type": "raw",
   "metadata": {
    "execution": {
     "iopub.execute_input": "2021-02-04T12:40:40.047275Z",
     "iopub.status.busy": "2021-02-04T12:40:40.046529Z",
     "iopub.status.idle": "2021-02-04T12:40:40.051768Z",
     "shell.execute_reply": "2021-02-04T12:40:40.051195Z"
    },
    "papermill": {
     "duration": 0.212186,
     "end_time": "2021-02-04T12:40:40.051915",
     "exception": false,
     "start_time": "2021-02-04T12:40:39.839729",
     "status": "completed"
    },
    "tags": []
   },
   "source": [
    "fpr, tpr, thres = roc_curve(y_test, LR.predict_proba(X_test)[:,1])\n",
    "roc_auc = auc(fpr, tpr)"
   ]
  },
  {
   "cell_type": "raw",
   "metadata": {
    "execution": {
     "iopub.execute_input": "2021-02-04T12:40:40.473982Z",
     "iopub.status.busy": "2021-02-04T12:40:40.467222Z",
     "iopub.status.idle": "2021-02-04T12:40:40.682084Z",
     "shell.execute_reply": "2021-02-04T12:40:40.682595Z"
    },
    "papermill": {
     "duration": 0.433047,
     "end_time": "2021-02-04T12:40:40.682823",
     "exception": false,
     "start_time": "2021-02-04T12:40:40.249776",
     "status": "completed"
    },
    "tags": []
   },
   "source": [
    "plt.rcParams['figure.figsize']=10,7\n",
    "plt.plot(fpr, tpr, label = 'ROC Curve' %roc_auc)\n",
    "plt.plot([0, 1], [0, 1], '--')\n",
    "plt.xlabel('False Positive Rate')\n",
    "plt.ylabel('True Positive Rate')\n",
    "plt.legend()\n",
    "plt.title('ROC-AUC graph')\n",
    "plt.show()"
   ]
  },
  {
   "cell_type": "markdown",
   "metadata": {
    "papermill": {
     "duration": 0.250267,
     "end_time": "2021-02-04T12:40:41.136854",
     "exception": false,
     "start_time": "2021-02-04T12:40:40.886587",
     "status": "completed"
    },
    "tags": []
   },
   "source": [
    "##### Random Forest"
   ]
  },
  {
   "cell_type": "code",
   "execution_count": 39,
   "metadata": {
    "execution": {
     "iopub.execute_input": "2021-02-04T12:40:41.538987Z",
     "iopub.status.busy": "2021-02-04T12:40:41.538127Z",
     "iopub.status.idle": "2021-02-04T12:40:41.679147Z",
     "shell.execute_reply": "2021-02-04T12:40:41.678417Z"
    },
    "papermill": {
     "duration": 0.342075,
     "end_time": "2021-02-04T12:40:41.679301",
     "exception": false,
     "start_time": "2021-02-04T12:40:41.337226",
     "status": "completed"
    },
    "tags": []
   },
   "outputs": [],
   "source": [
    "from sklearn.ensemble import RandomForestClassifier\n",
    "#from sklearn.feature_selection import SelectFromModel\n"
   ]
  },
  {
   "cell_type": "code",
   "execution_count": 40,
   "metadata": {
    "execution": {
     "iopub.execute_input": "2021-02-04T12:40:42.080099Z",
     "iopub.status.busy": "2021-02-04T12:40:42.079402Z",
     "iopub.status.idle": "2021-02-04T12:40:42.081757Z",
     "shell.execute_reply": "2021-02-04T12:40:42.082389Z"
    },
    "papermill": {
     "duration": 0.208287,
     "end_time": "2021-02-04T12:40:42.082567",
     "exception": false,
     "start_time": "2021-02-04T12:40:41.874280",
     "status": "completed"
    },
    "tags": []
   },
   "outputs": [],
   "source": [
    "from sklearn.model_selection import train_test_split\n",
    "X_train, X_test, y_train, y_test = train_test_split(x, y, test_size=0.25)"
   ]
  },
  {
   "cell_type": "code",
   "execution_count": 41,
   "metadata": {
    "execution": {
     "iopub.execute_input": "2021-02-04T12:40:42.481510Z",
     "iopub.status.busy": "2021-02-04T12:40:42.480878Z",
     "iopub.status.idle": "2021-02-04T12:40:43.217976Z",
     "shell.execute_reply": "2021-02-04T12:40:43.217282Z"
    },
    "papermill": {
     "duration": 0.936626,
     "end_time": "2021-02-04T12:40:43.218138",
     "exception": false,
     "start_time": "2021-02-04T12:40:42.281512",
     "status": "completed"
    },
    "tags": []
   },
   "outputs": [
    {
     "data": {
      "text/plain": [
       "RandomForestClassifier()"
      ]
     },
     "execution_count": 41,
     "metadata": {},
     "output_type": "execute_result"
    }
   ],
   "source": [
    "RF =RandomForestClassifier()\n",
    "RF.fit(X_train, y_train)"
   ]
  },
  {
   "cell_type": "code",
   "execution_count": 42,
   "metadata": {
    "execution": {
     "iopub.execute_input": "2021-02-04T12:40:43.619978Z",
     "iopub.status.busy": "2021-02-04T12:40:43.618927Z",
     "iopub.status.idle": "2021-02-04T12:40:43.657423Z",
     "shell.execute_reply": "2021-02-04T12:40:43.656795Z"
    },
    "papermill": {
     "duration": 0.243743,
     "end_time": "2021-02-04T12:40:43.657576",
     "exception": false,
     "start_time": "2021-02-04T12:40:43.413833",
     "status": "completed"
    },
    "tags": []
   },
   "outputs": [
    {
     "data": {
      "text/plain": [
       "0.8924949290060852"
      ]
     },
     "execution_count": 42,
     "metadata": {},
     "output_type": "execute_result"
    }
   ],
   "source": [
    "RF.score(X_test, y_test)"
   ]
  },
  {
   "cell_type": "code",
   "execution_count": 43,
   "metadata": {
    "execution": {
     "iopub.execute_input": "2021-02-04T12:40:44.062914Z",
     "iopub.status.busy": "2021-02-04T12:40:44.061776Z",
     "iopub.status.idle": "2021-02-04T12:40:44.096999Z",
     "shell.execute_reply": "2021-02-04T12:40:44.096300Z"
    },
    "papermill": {
     "duration": 0.241955,
     "end_time": "2021-02-04T12:40:44.097146",
     "exception": false,
     "start_time": "2021-02-04T12:40:43.855191",
     "status": "completed"
    },
    "tags": []
   },
   "outputs": [],
   "source": [
    "y_pred_RF=RF.predict(X_test)"
   ]
  },
  {
   "cell_type": "code",
   "execution_count": 44,
   "metadata": {
    "execution": {
     "iopub.execute_input": "2021-02-04T12:40:44.520976Z",
     "iopub.status.busy": "2021-02-04T12:40:44.518809Z",
     "iopub.status.idle": "2021-02-04T12:40:44.716147Z",
     "shell.execute_reply": "2021-02-04T12:40:44.716622Z"
    },
    "papermill": {
     "duration": 0.424112,
     "end_time": "2021-02-04T12:40:44.716829",
     "exception": false,
     "start_time": "2021-02-04T12:40:44.292717",
     "status": "completed"
    },
    "tags": []
   },
   "outputs": [
    {
     "data": {
      "image/png": "[encoded data removed]",
      "text/plain": [
       "<Figure size 360x360 with 2 Axes>"
      ]
     },
     "metadata": {
      "needs_background": "light"
     },
     "output_type": "display_data"
    }
   ],
   "source": [
    "from sklearn.metrics import confusion_matrix,roc_curve,auc\n",
    "import seaborn as sns\n",
    "plt.rcParams['figure.figsize']=5,5\n",
    "ax= plt.subplot()\n",
    "cm = confusion_matrix(y_test, y_pred_RF)\n",
    "sns.heatmap(cm, annot=True, ax = ax); #annot=True to annotate cells\n",
    "\n",
    "# labels, title and ticks\n",
    "ax.set_xlabel('Predicted labels');ax.set_ylabel('True labels'); \n",
    "ax.set_title('Confusion Matrix'); \n",
    "ax.xaxis.set_ticklabels(['delay', 'ontime']); ax.yaxis.set_ticklabels(['delay', 'ontime']);"
   ]
  },
  {
   "cell_type": "code",
   "execution_count": 45,
   "metadata": {
    "execution": {
     "iopub.execute_input": "2021-02-04T12:40:45.125257Z",
     "iopub.status.busy": "2021-02-04T12:40:45.124577Z",
     "iopub.status.idle": "2021-02-04T12:40:45.164952Z",
     "shell.execute_reply": "2021-02-04T12:40:45.163134Z"
    },
    "papermill": {
     "duration": 0.243581,
     "end_time": "2021-02-04T12:40:45.165130",
     "exception": false,
     "start_time": "2021-02-04T12:40:44.921549",
     "status": "completed"
    },
    "tags": []
   },
   "outputs": [],
   "source": [
    "\n",
    "fpr, tpr, thres = roc_curve(y_test, RF.predict_proba(X_test)[:,1])\n",
    "roc_auc = auc(fpr, tpr)"
   ]
  },
  {
   "cell_type": "code",
   "execution_count": 46,
   "metadata": {
    "execution": {
     "iopub.execute_input": "2021-02-04T12:40:45.585386Z",
     "iopub.status.busy": "2021-02-04T12:40:45.574483Z",
     "iopub.status.idle": "2021-02-04T12:40:45.787554Z",
     "shell.execute_reply": "2021-02-04T12:40:45.787027Z"
    },
    "papermill": {
     "duration": 0.429536,
     "end_time": "2021-02-04T12:40:45.787703",
     "exception": false,
     "start_time": "2021-02-04T12:40:45.358167",
     "status": "completed"
    },
    "tags": []
   },
   "outputs": [
    {
     "data": {
      "image/png": "[encoded data removed]",
      "text/plain": [
       "<Figure size 720x504 with 1 Axes>"
      ]
     },
     "metadata": {
      "needs_background": "light"
     },
     "output_type": "display_data"
    }
   ],
   "source": [
    "plt.rcParams['figure.figsize']=10,7\n",
    "plt.plot(fpr, tpr, label = 'ROC Curve' %roc_auc)\n",
    "plt.plot([0, 1], [0, 1], '--')\n",
    "plt.xlabel('False Positive Rate')\n",
    "plt.ylabel('True Positive Rate')\n",
    "plt.legend()\n",
    "plt.title('ROC-AUC graph')\n",
    "plt.show()"
   ]
  },
  {
   "cell_type": "code",
   "execution_count": 48,
   "metadata": {},
   "outputs": [],
   "source": [
    "import joblib"
   ]
  },
  {
   "cell_type": "code",
   "execution_count": 49,
   "metadata": {
    "papermill": {
     "duration": 0.200209,
     "end_time": "2021-02-04T12:40:47.816076",
     "exception": false,
     "start_time": "2021-02-04T12:40:47.615867",
     "status": "completed"
    },
    "tags": []
   },
   "outputs": [
    {
     "data": {
      "text/plain": [
       "['RF_model.sav']"
      ]
     },
     "execution_count": 49,
     "metadata": {},
     "output_type": "execute_result"
    }
   ],
   "source": [
    "filename = 'RF_model.sav'\n",
    "joblib.dump(RF, filename)"
   ]
  },
  {
   "cell_type": "code",
   "execution_count": 50,
   "metadata": {},
   "outputs": [],
   "source": [
    "loaded_model = joblib.load(filename)"
   ]
  },
  {
   "cell_type": "code",
   "execution_count": 54,
   "metadata": {},
   "outputs": [
    {
     "name": "stdout",
     "output_type": "stream",
     "text": [
      "Collecting kubeflow-kale==0.3.2\n",
      "  Downloading kubeflow_kale-0.3.2-py3-none-any.whl (30 kB)\n",
      "Collecting papermill\n",
      "  Downloading papermill-2.3.4-py3-none-any.whl (37 kB)\n",
      "Requirement already satisfied: networkx in c:\\users\\harsha.badgujar\\anaconda3\\lib\\site-packages (from kubeflow-kale==0.3.2) (2.6.3)"
     ]
    },
    {
     "name": "stderr",
     "output_type": "stream",
     "text": [
      "WARNING: Ignoring invalid distribution -oogle-cloud-storage (c:\\users\\harsha.badgujar\\anaconda3\\lib\\site-packages)\n",
      "WARNING: Ignoring invalid distribution -oogle-cloud-storage (c:\\users\\harsha.badgujar\\anaconda3\\lib\\site-packages)\n",
      "WARNING: Ignoring invalid distribution -oogle-cloud-storage (c:\\users\\harsha.badgujar\\anaconda3\\lib\\site-packages)\n",
      "WARNING: Ignoring invalid distribution -oogle-cloud-storage (c:\\users\\harsha.badgujar\\anaconda3\\lib\\site-packages)\n",
      "WARNING: Ignoring invalid distribution -oogle-cloud-storage (c:\\users\\harsha.badgujar\\anaconda3\\lib\\site-packages)\n",
      "WARNING: Ignoring invalid distribution -oogle-cloud-storage (c:\\users\\harsha.badgujar\\anaconda3\\lib\\site-packages)\n",
      "WARNING: Ignoring invalid distribution -oogle-cloud-storage (c:\\users\\harsha.badgujar\\anaconda3\\lib\\site-packages)\n",
      "WARNING: Ignoring invalid distribution -oogle-cloud-storage (c:\\users\\harsha.badgujar\\anaconda3\\lib\\site-packages)\n",
      "WARNING: Ignoring invalid distribution -oogle-cloud-storage (c:\\users\\harsha.badgujar\\anaconda3\\lib\\site-packages)\n",
      "WARNING: Ignoring invalid distribution -oogle-cloud-storage (c:\\users\\harsha.badgujar\\anaconda3\\lib\\site-packages)\n",
      "WARNING: Ignoring invalid distribution -oogle-cloud-storage (c:\\users\\harsha.badgujar\\anaconda3\\lib\\site-packages)\n",
      "WARNING: Ignoring invalid distribution -oogle-cloud-storage (c:\\users\\harsha.badgujar\\anaconda3\\lib\\site-packages)\n",
      "WARNING: Ignoring invalid distribution -oogle-cloud-storage (c:\\users\\harsha.badgujar\\anaconda3\\lib\\site-packages)\n"
     ]
    },
    {
     "name": "stdout",
     "output_type": "stream",
     "text": [
      "\n",
      "Collecting flask-restful\n",
      "  Downloading Flask_RESTful-0.3.9-py2.py3-none-any.whl (25 kB)\n",
      "Requirement already satisfied: pyflakes in c:\\users\\harsha.badgujar\\anaconda3\\lib\\site-packages (from kubeflow-kale==0.3.2) (2.3.1)\n",
      "Requirement already satisfied: kfp in c:\\users\\harsha.badgujar\\anaconda3\\lib\\site-packages (from kubeflow-kale==0.3.2) (1.8.12)\n",
      "Requirement already satisfied: autopep8 in c:\\users\\harsha.badgujar\\anaconda3\\lib\\site-packages (from kubeflow-kale==0.3.2) (1.5.7)\n",
      "Requirement already satisfied: nbformat in c:\\users\\harsha.badgujar\\anaconda3\\lib\\site-packages (from kubeflow-kale==0.3.2) (5.1.3)\n",
      "Requirement already satisfied: flask in c:\\users\\harsha.badgujar\\anaconda3\\lib\\site-packages (from kubeflow-kale==0.3.2) (1.1.2)\n",
      "Collecting graphviz\n",
      "  Downloading graphviz-0.20-py3-none-any.whl (46 kB)\n",
      "Requirement already satisfied: jinja2 in c:\\users\\harsha.badgujar\\anaconda3\\lib\\site-packages (from kubeflow-kale==0.3.2) (3.0.1)\n",
      "Requirement already satisfied: pycodestyle>=2.7.0 in c:\\users\\harsha.badgujar\\anaconda3\\lib\\site-packages (from autopep8->kubeflow-kale==0.3.2) (2.7.0)\n",
      "Requirement already satisfied: toml in c:\\users\\harsha.badgujar\\anaconda3\\lib\\site-packages (from autopep8->kubeflow-kale==0.3.2) (0.10.2)\n",
      "Requirement already satisfied: click>=5.1 in c:\\users\\harsha.badgujar\\anaconda3\\lib\\site-packages (from flask->kubeflow-kale==0.3.2) (8.0.3)\n",
      "Requirement already satisfied: Werkzeug>=0.15 in c:\\users\\harsha.badgujar\\anaconda3\\lib\\site-packages (from flask->kubeflow-kale==0.3.2) (2.0.2)\n",
      "Requirement already satisfied: itsdangerous>=0.24 in c:\\users\\harsha.badgujar\\anaconda3\\lib\\site-packages (from flask->kubeflow-kale==0.3.2) (2.0.1)\n",
      "Requirement already satisfied: colorama in c:\\users\\harsha.badgujar\\anaconda3\\lib\\site-packages (from click>=5.1->flask->kubeflow-kale==0.3.2) (0.4.4)\n",
      "Requirement already satisfied: MarkupSafe>=2.0 in c:\\users\\harsha.badgujar\\anaconda3\\lib\\site-packages (from jinja2->kubeflow-kale==0.3.2) (2.1.1)\n",
      "Requirement already satisfied: six>=1.3.0 in c:\\users\\harsha.badgujar\\anaconda3\\lib\\site-packages (from flask-restful->kubeflow-kale==0.3.2) (1.16.0)\n",
      "Collecting aniso8601>=0.82\n",
      "  Downloading aniso8601-9.0.1-py2.py3-none-any.whl (52 kB)\n",
      "Requirement already satisfied: pytz in c:\\users\\harsha.badgujar\\anaconda3\\lib\\site-packages (from flask-restful->kubeflow-kale==0.3.2) (2019.3)\n",
      "Requirement already satisfied: strip-hints<1,>=0.1.8 in c:\\users\\harsha.badgujar\\anaconda3\\lib\\site-packages (from kfp->kubeflow-kale==0.3.2) (0.1.10)\n",
      "Requirement already satisfied: kubernetes<19,>=8.0.0 in c:\\users\\harsha.badgujar\\anaconda3\\lib\\site-packages (from kfp->kubeflow-kale==0.3.2) (18.20.0)\n",
      "Requirement already satisfied: tabulate<1,>=0.8.6 in c:\\users\\harsha.badgujar\\anaconda3\\lib\\site-packages (from kfp->kubeflow-kale==0.3.2) (0.8.9)\n",
      "Requirement already satisfied: requests-toolbelt<1,>=0.8.0 in c:\\users\\harsha.badgujar\\anaconda3\\lib\\site-packages (from kfp->kubeflow-kale==0.3.2) (0.9.1)\n",
      "Requirement already satisfied: google-api-python-client<2,>=1.7.8 in c:\\users\\harsha.badgujar\\anaconda3\\lib\\site-packages (from kfp->kubeflow-kale==0.3.2) (1.12.11)\n",
      "Requirement already satisfied: absl-py<2,>=0.9 in c:\\users\\harsha.badgujar\\anaconda3\\lib\\site-packages (from kfp->kubeflow-kale==0.3.2) (1.0.0)\n",
      "Requirement already satisfied: jsonschema<4,>=3.0.1 in c:\\users\\harsha.badgujar\\anaconda3\\lib\\site-packages (from kfp->kubeflow-kale==0.3.2) (3.2.0)\n",
      "Requirement already satisfied: google-auth<2,>=1.6.1 in c:\\users\\harsha.badgujar\\anaconda3\\lib\\site-packages (from kfp->kubeflow-kale==0.3.2) (1.35.0)\n",
      "Requirement already satisfied: google-api-core!=2.0.*,!=2.1.*,!=2.2.*,!=2.3.0,<3.0.0dev,>=1.31.5 in c:\\users\\harsha.badgujar\\anaconda3\\lib\\site-packages (from kfp->kubeflow-kale==0.3.2) (1.31.5)\n",
      "Requirement already satisfied: fire<1,>=0.3.1 in c:\\users\\harsha.badgujar\\anaconda3\\lib\\site-packages (from kfp->kubeflow-kale==0.3.2) (0.4.0)\n",
      "Requirement already satisfied: kfp-server-api<2.0.0,>=1.1.2 in c:\\users\\harsha.badgujar\\anaconda3\\lib\\site-packages (from kfp->kubeflow-kale==0.3.2) (1.8.1)\n",
      "Requirement already satisfied: pydantic<2,>=1.8.2 in c:\\users\\harsha.badgujar\\anaconda3\\lib\\site-packages (from kfp->kubeflow-kale==0.3.2) (1.8.2)\n",
      "Requirement already satisfied: docstring-parser<1,>=0.7.3 in c:\\users\\harsha.badgujar\\anaconda3\\lib\\site-packages (from kfp->kubeflow-kale==0.3.2) (0.14.1)\n",
      "Requirement already satisfied: uritemplate<4,>=3.0.1 in c:\\users\\harsha.badgujar\\anaconda3\\lib\\site-packages (from kfp->kubeflow-kale==0.3.2) (3.0.1)\n",
      "Requirement already satisfied: PyYAML<6,>=5.3 in c:\\users\\harsha.badgujar\\anaconda3\\lib\\site-packages (from kfp->kubeflow-kale==0.3.2) (5.4.1)\n",
      "Requirement already satisfied: kfp-pipeline-spec<0.2.0,>=0.1.14 in c:\\users\\harsha.badgujar\\anaconda3\\lib\\site-packages (from kfp->kubeflow-kale==0.3.2) (0.1.14)\n",
      "Requirement already satisfied: Deprecated<2,>=1.2.7 in c:\\users\\harsha.badgujar\\anaconda3\\lib\\site-packages (from kfp->kubeflow-kale==0.3.2) (1.2.13)\n",
      "Requirement already satisfied: google-cloud-storage<2,>=1.20.0 in c:\\users\\harsha.badgujar\\anaconda3\\lib\\site-packages (from kfp->kubeflow-kale==0.3.2) (1.29.0)\n",
      "Requirement already satisfied: typer<1.0,>=0.3.2 in c:\\users\\harsha.badgujar\\anaconda3\\lib\\site-packages (from kfp->kubeflow-kale==0.3.2) (0.4.1)\n",
      "Requirement already satisfied: protobuf<4,>=3.13.0 in c:\\users\\harsha.badgujar\\anaconda3\\lib\\site-packages (from kfp->kubeflow-kale==0.3.2) (3.20.1)\n",
      "Requirement already satisfied: cloudpickle<3,>=2.0.0 in c:\\users\\harsha.badgujar\\anaconda3\\lib\\site-packages (from kfp->kubeflow-kale==0.3.2) (2.0.0)\n",
      "Requirement already satisfied: wrapt<2,>=1.10 in c:\\users\\harsha.badgujar\\anaconda3\\lib\\site-packages (from Deprecated<2,>=1.2.7->kfp->kubeflow-kale==0.3.2) (1.12.1)\n",
      "Requirement already satisfied: termcolor in c:\\users\\harsha.badgujar\\anaconda3\\lib\\site-packages (from fire<1,>=0.3.1->kfp->kubeflow-kale==0.3.2) (1.1.0)\n",
      "Requirement already satisfied: googleapis-common-protos<2.0dev,>=1.6.0 in c:\\users\\harsha.badgujar\\anaconda3\\lib\\site-packages (from google-api-core!=2.0.*,!=2.1.*,!=2.2.*,!=2.3.0,<3.0.0dev,>=1.31.5->kfp->kubeflow-kale==0.3.2) (1.52.0)\n",
      "Requirement already satisfied: packaging>=14.3 in c:\\users\\harsha.badgujar\\anaconda3\\lib\\site-packages (from google-api-core!=2.0.*,!=2.1.*,!=2.2.*,!=2.3.0,<3.0.0dev,>=1.31.5->kfp->kubeflow-kale==0.3.2) (21.0)\n",
      "Requirement already satisfied: setuptools>=40.3.0 in c:\\users\\harsha.badgujar\\anaconda3\\lib\\site-packages (from google-api-core!=2.0.*,!=2.1.*,!=2.2.*,!=2.3.0,<3.0.0dev,>=1.31.5->kfp->kubeflow-kale==0.3.2) (58.0.4)\n",
      "Requirement already satisfied: requests<3.0.0dev,>=2.18.0 in c:\\users\\harsha.badgujar\\anaconda3\\lib\\site-packages (from google-api-core!=2.0.*,!=2.1.*,!=2.2.*,!=2.3.0,<3.0.0dev,>=1.31.5->kfp->kubeflow-kale==0.3.2) (2.26.0)\n",
      "Requirement already satisfied: httplib2<1dev,>=0.15.0 in c:\\users\\harsha.badgujar\\anaconda3\\lib\\site-packages (from google-api-python-client<2,>=1.7.8->kfp->kubeflow-kale==0.3.2) (0.20.4)\n",
      "Requirement already satisfied: google-auth-httplib2>=0.0.3 in c:\\users\\harsha.badgujar\\anaconda3\\lib\\site-packages (from google-api-python-client<2,>=1.7.8->kfp->kubeflow-kale==0.3.2) (0.1.0)\n",
      "Requirement already satisfied: pyasn1-modules>=0.2.1 in c:\\users\\harsha.badgujar\\anaconda3\\lib\\site-packages (from google-auth<2,>=1.6.1->kfp->kubeflow-kale==0.3.2) (0.2.8)\n",
      "Requirement already satisfied: rsa<5,>=3.1.4 in c:\\users\\harsha.badgujar\\anaconda3\\lib\\site-packages (from google-auth<2,>=1.6.1->kfp->kubeflow-kale==0.3.2) (4.8)\n",
      "Requirement already satisfied: cachetools<5.0,>=2.0.0 in c:\\users\\harsha.badgujar\\anaconda3\\lib\\site-packages (from google-auth<2,>=1.6.1->kfp->kubeflow-kale==0.3.2) (4.2.4)\n",
      "Requirement already satisfied: google-cloud-core<2.0dev,>=1.2.0 in c:\\users\\harsha.badgujar\\anaconda3\\lib\\site-packages (from google-cloud-storage<2,>=1.20.0->kfp->kubeflow-kale==0.3.2) (1.5.0)\n",
      "Requirement already satisfied: google-resumable-media<0.6dev,>=0.5.0 in c:\\users\\harsha.badgujar\\anaconda3\\lib\\site-packages (from google-cloud-storage<2,>=1.20.0->kfp->kubeflow-kale==0.3.2) (0.5.1)\n",
      "Requirement already satisfied: pyparsing!=3.0.0,!=3.0.1,!=3.0.2,!=3.0.3,<4,>=2.4.2 in c:\\users\\harsha.badgujar\\anaconda3\\lib\\site-packages (from httplib2<1dev,>=0.15.0->google-api-python-client<2,>=1.7.8->kfp->kubeflow-kale==0.3.2) (3.0.4)\n",
      "Requirement already satisfied: attrs>=17.4.0 in c:\\users\\harsha.badgujar\\anaconda3\\lib\\site-packages (from jsonschema<4,>=3.0.1->kfp->kubeflow-kale==0.3.2) (21.2.0)\n",
      "Requirement already satisfied: pyrsistent>=0.14.0 in c:\\users\\harsha.badgujar\\anaconda3\\lib\\site-packages (from jsonschema<4,>=3.0.1->kfp->kubeflow-kale==0.3.2) (0.18.0)\n",
      "Requirement already satisfied: urllib3>=1.15 in c:\\users\\harsha.badgujar\\anaconda3\\lib\\site-packages (from kfp-server-api<2.0.0,>=1.1.2->kfp->kubeflow-kale==0.3.2) (1.26.7)\n",
      "Requirement already satisfied: certifi in c:\\users\\harsha.badgujar\\anaconda3\\lib\\site-packages (from kfp-server-api<2.0.0,>=1.1.2->kfp->kubeflow-kale==0.3.2) (2021.10.8)\n",
      "Requirement already satisfied: python-dateutil in c:\\users\\harsha.badgujar\\anaconda3\\lib\\site-packages (from kfp-server-api<2.0.0,>=1.1.2->kfp->kubeflow-kale==0.3.2) (2.8.1)\n",
      "Requirement already satisfied: requests-oauthlib in c:\\users\\harsha.badgujar\\anaconda3\\lib\\site-packages (from kubernetes<19,>=8.0.0->kfp->kubeflow-kale==0.3.2) (1.3.1)\n",
      "Requirement already satisfied: websocket-client!=0.40.0,!=0.41.*,!=0.42.*,>=0.32.0 in c:\\users\\harsha.badgujar\\anaconda3\\lib\\site-packages (from kubernetes<19,>=8.0.0->kfp->kubeflow-kale==0.3.2) (1.3.2)\n",
      "Requirement already satisfied: pyasn1<0.5.0,>=0.4.6 in c:\\users\\harsha.badgujar\\anaconda3\\lib\\site-packages (from pyasn1-modules>=0.2.1->google-auth<2,>=1.6.1->kfp->kubeflow-kale==0.3.2) (0.4.8)\n",
      "Requirement already satisfied: typing-extensions>=3.7.4.3 in c:\\users\\harsha.badgujar\\anaconda3\\lib\\site-packages (from pydantic<2,>=1.8.2->kfp->kubeflow-kale==0.3.2) (4.2.0)\n",
      "Requirement already satisfied: idna<4,>=2.5 in c:\\users\\harsha.badgujar\\anaconda3\\lib\\site-packages (from requests<3.0.0dev,>=2.18.0->google-api-core!=2.0.*,!=2.1.*,!=2.2.*,!=2.3.0,<3.0.0dev,>=1.31.5->kfp->kubeflow-kale==0.3.2) (3.2)\n",
      "Requirement already satisfied: charset-normalizer~=2.0.0 in c:\\users\\harsha.badgujar\\anaconda3\\lib\\site-packages (from requests<3.0.0dev,>=2.18.0->google-api-core!=2.0.*,!=2.1.*,!=2.2.*,!=2.3.0,<3.0.0dev,>=1.31.5->kfp->kubeflow-kale==0.3.2) (2.0.4)\n",
      "Requirement already satisfied: wheel in c:\\users\\harsha.badgujar\\anaconda3\\lib\\site-packages (from strip-hints<1,>=0.1.8->kfp->kubeflow-kale==0.3.2) (0.37.0)\n",
      "Requirement already satisfied: ipython-genutils in c:\\users\\harsha.badgujar\\anaconda3\\lib\\site-packages (from nbformat->kubeflow-kale==0.3.2) (0.2.0)\n",
      "Requirement already satisfied: jupyter-core in c:\\users\\harsha.badgujar\\anaconda3\\lib\\site-packages (from nbformat->kubeflow-kale==0.3.2) (4.8.1)\n",
      "Requirement already satisfied: traitlets>=4.1 in c:\\users\\harsha.badgujar\\anaconda3\\lib\\site-packages (from nbformat->kubeflow-kale==0.3.2) (5.1.0)\n",
      "Requirement already satisfied: pywin32>=1.0 in c:\\users\\harsha.badgujar\\anaconda3\\lib\\site-packages (from jupyter-core->nbformat->kubeflow-kale==0.3.2) (228)\n",
      "Collecting ansiwrap\n",
      "  Downloading ansiwrap-0.8.4-py2.py3-none-any.whl (8.5 kB)\n",
      "Requirement already satisfied: nbclient>=0.2.0 in c:\\users\\harsha.badgujar\\anaconda3\\lib\\site-packages (from papermill->kubeflow-kale==0.3.2) (0.5.3)\n",
      "Requirement already satisfied: tqdm>=4.32.2 in c:\\users\\harsha.badgujar\\anaconda3\\lib\\site-packages (from papermill->kubeflow-kale==0.3.2) (4.62.3)\n",
      "Requirement already satisfied: tenacity in c:\\users\\harsha.badgujar\\anaconda3\\lib\\site-packages (from papermill->kubeflow-kale==0.3.2) (8.0.1)\n",
      "Requirement already satisfied: entrypoints in c:\\users\\harsha.badgujar\\anaconda3\\lib\\site-packages (from papermill->kubeflow-kale==0.3.2) (0.3)\n",
      "Requirement already satisfied: nest-asyncio in c:\\users\\harsha.badgujar\\anaconda3\\lib\\site-packages (from nbclient>=0.2.0->papermill->kubeflow-kale==0.3.2) (1.5.1)\n",
      "Requirement already satisfied: jupyter-client>=6.1.5 in c:\\users\\harsha.badgujar\\anaconda3\\lib\\site-packages (from nbclient>=0.2.0->papermill->kubeflow-kale==0.3.2) (6.1.12)\n",
      "Requirement already satisfied: async-generator in c:\\users\\harsha.badgujar\\anaconda3\\lib\\site-packages (from nbclient>=0.2.0->papermill->kubeflow-kale==0.3.2) (1.10)\n",
      "Requirement already satisfied: pyzmq>=13 in c:\\users\\harsha.badgujar\\anaconda3\\lib\\site-packages (from jupyter-client>=6.1.5->nbclient>=0.2.0->papermill->kubeflow-kale==0.3.2) (22.2.1)\n",
      "Requirement already satisfied: tornado>=4.1 in c:\\users\\harsha.badgujar\\anaconda3\\lib\\site-packages (from jupyter-client>=6.1.5->nbclient>=0.2.0->papermill->kubeflow-kale==0.3.2) (6.1)\n",
      "Collecting textwrap3>=0.9.2\n",
      "  Downloading textwrap3-0.9.2-py2.py3-none-any.whl (12 kB)\n",
      "Requirement already satisfied: oauthlib>=3.0.0 in c:\\users\\harsha.badgujar\\anaconda3\\lib\\site-packages (from requests-oauthlib->kubernetes<19,>=8.0.0->kfp->kubeflow-kale==0.3.2) (3.2.0)\n",
      "Installing collected packages: textwrap3, ansiwrap, aniso8601, papermill, graphviz, flask-restful, kubeflow-kale\n",
      "Successfully installed aniso8601-9.0.1 ansiwrap-0.8.4 flask-restful-0.3.9 graphviz-0.20 kubeflow-kale-0.3.2 papermill-2.3.4 textwrap3-0.9.2\n"
     ]
    }
   ],
   "source": [
    "!pip install kubeflow-kale==0.3.2"
   ]
  },
  {
   "cell_type": "code",
   "execution_count": 55,
   "metadata": {},
   "outputs": [
    {
     "ename": "ModuleNotFoundError",
     "evalue": "No module named 'kale.common'; 'kale' is not a package",
     "output_type": "error",
     "traceback": [
      "\u001b[1;31m---------------------------------------------------------------------------\u001b[0m",
      "\u001b[1;31mModuleNotFoundError\u001b[0m                       Traceback (most recent call last)",
      "\u001b[1;32mC:\\Users\\HARSHA~1.BAD\\AppData\\Local\\Temp/ipykernel_3740/607083986.py\u001b[0m in \u001b[0;36m<module>\u001b[1;34m\u001b[0m\n\u001b[1;32m----> 1\u001b[1;33m \u001b[1;32mfrom\u001b[0m \u001b[0mkale\u001b[0m\u001b[1;33m.\u001b[0m\u001b[0mcommon\u001b[0m\u001b[1;33m.\u001b[0m\u001b[0mserveutils\u001b[0m \u001b[1;32mimport\u001b[0m \u001b[0mserve\u001b[0m\u001b[1;33m\u001b[0m\u001b[1;33m\u001b[0m\u001b[0m\n\u001b[0m\u001b[0;32m      2\u001b[0m \u001b[1;33m\u001b[0m\u001b[0m\n\u001b[0;32m      3\u001b[0m \u001b[0mkfserving\u001b[0m \u001b[1;33m=\u001b[0m \u001b[0mserve\u001b[0m\u001b[1;33m(\u001b[0m\u001b[0mloaded_model\u001b[0m\u001b[1;33m)\u001b[0m\u001b[1;33m\u001b[0m\u001b[1;33m\u001b[0m\u001b[0m\n",
      "\u001b[1;31mModuleNotFoundError\u001b[0m: No module named 'kale.common'; 'kale' is not a package"
     ]
    }
   ],
   "source": [
    "from kale.common.serveutils import serve\n",
    "\n",
    "kfserving = serve(loaded_model)"
   ]
  },
  {
   "cell_type": "code",
   "execution_count": null,
   "metadata": {},
   "outputs": [],
   "source": [
    "import json\n",
    "data = {\"instances\": [[3, 0, 4, 1, 2, 3, 0, 1, 0, 8, 3, 6,2]]}\n",
    "response = kfserving.predict(json.dumps(data))"
   ]
  },
  {
   "cell_type": "code",
   "execution_count": null,
   "metadata": {},
   "outputs": [],
   "source": [
    "print(response)"
   ]
  },
  {
   "cell_type": "code",
   "execution_count": null,
   "metadata": {},
   "outputs": [],
   "source": []
  }
 ],
 "metadata": {
  "kernelspec": {
   "display_name": "Python 3 (ipykernel)",
   "language": "python",
   "name": "python3"
  },
  "language_info": {
   "codemirror_mode": {
    "name": "ipython",
    "version": 3
   },
   "file_extension": ".py",
   "mimetype": "text/x-python",
   "name": "python",
   "nbconvert_exporter": "python",
   "pygments_lexer": "ipython3",
   "version": "3.9.7"
  },
  "papermill": {
   "default_parameters": {},
   "duration": 90.797193,
   "end_time": "2021-02-04T12:40:49.433092",
   "environment_variables": {},
   "exception": null,
   "input_path": "__notebook__.ipynb",
   "output_path": "__notebook__.ipynb",
   "parameters": {},
   "start_time": "2021-02-04T12:39:18.635899",
   "version": "2.2.2"
  },
  "widgets": {
   "application/vnd.jupyter.widget-state+json": {
    "state": {
     "088c461cfcaa407a808bbd924542d52e": {
      "model_module": "@jupyter-widgets/base",
      "model_module_version": "1.2.0",
      "model_name": "LayoutModel",
      "state": {
       "_model_module": "@jupyter-widgets/base",
       "_model_module_version": "1.2.0",
       "_model_name": "LayoutModel",
       "_view_count": null,
       "_view_module": "@jupyter-widgets/base",
       "_view_module_version": "1.2.0",
       "_view_name": "LayoutView",
       "align_content": null,
       "align_items": null,
       "align_self": null,
       "border": null,
       "bottom": null,
       "display": null,
       "flex": null,
       "flex_flow": null,
       "grid_area": null,
       "grid_auto_columns": null,
       "grid_auto_flow": null,
       "grid_auto_rows": null,
       "grid_column": null,
       "grid_gap": null,
       "grid_row": null,
       "grid_template_areas": null,
       "grid_template_columns": null,
       "grid_template_rows": null,
       "height": null,
       "justify_content": null,
       "justify_items": null,
       "left": null,
       "margin": null,
       "max_height": null,
       "max_width": null,
       "min_height": null,
       "min_width": null,
       "object_fit": null,
       "object_position": null,
       "order": null,
       "overflow": null,
       "overflow_x": null,
       "overflow_y": null,
       "padding": null,
       "right": null,
       "top": null,
       "visibility": null,
       "width": null
      }
     },
     "0a06169b7a4c4f98abc4687cb224bfb4": {
      "model_module": "@jupyter-widgets/base",
      "model_module_version": "1.2.0",
      "model_name": "LayoutModel",
      "state": {
       "_model_module": "@jupyter-widgets/base",
       "_model_module_version": "1.2.0",
       "_model_name": "LayoutModel",
       "_view_count": null,
       "_view_module": "@jupyter-widgets/base",
       "_view_module_version": "1.2.0",
       "_view_name": "LayoutView",
       "align_content": null,
       "align_items": null,
       "align_self": null,
       "border": null,
       "bottom": null,
       "display": null,
       "flex": null,
       "flex_flow": null,
       "grid_area": null,
       "grid_auto_columns": null,
       "grid_auto_flow": null,
       "grid_auto_rows": null,
       "grid_column": null,
       "grid_gap": null,
       "grid_row": null,
       "grid_template_areas": null,
       "grid_template_columns": null,
       "grid_template_rows": null,
       "height": null,
       "justify_content": null,
       "justify_items": null,
       "left": null,
       "margin": null,
       "max_height": null,
       "max_width": null,
       "min_height": null,
       "min_width": null,
       "object_fit": null,
       "object_position": null,
       "order": null,
       "overflow": null,
       "overflow_x": null,
       "overflow_y": null,
       "padding": null,
       "right": null,
       "top": null,
       "visibility": null,
       "width": null
      }
     },
     "0c49a0afcae14d79af2437e73ee30c99": {
      "model_module": "@jupyter-widgets/controls",
      "model_module_version": "1.5.0",
      "model_name": "HBoxModel",
      "state": {
       "_dom_classes": [],
       "_model_module": "@jupyter-widgets/controls",
       "_model_module_version": "1.5.0",
       "_model_name": "HBoxModel",
       "_view_count": null,
       "_view_module": "@jupyter-widgets/controls",
       "_view_module_version": "1.5.0",
       "_view_name": "HBoxView",
       "box_style": "",
       "children": [
        "IPY_MODEL_4945403d551b40218fcfa5510ed7c7c8",
        "IPY_MODEL_89832e567a804c6bad9674a5f1d15398",
        "IPY_MODEL_50e608e0e26a4d4189ffb15e6596fbf7"
       ],
       "layout": "IPY_MODEL_d78b19ff948e45138b8277b1a89ac7cb"
      }
     },
     "0d07557aa01e47a7844ef731aaef985e": {
      "model_module": "@jupyter-widgets/controls",
      "model_module_version": "1.5.0",
      "model_name": "DescriptionStyleModel",
      "state": {
       "_model_module": "@jupyter-widgets/controls",
       "_model_module_version": "1.5.0",
       "_model_name": "DescriptionStyleModel",
       "_view_count": null,
       "_view_module": "@jupyter-widgets/base",
       "_view_module_version": "1.2.0",
       "_view_name": "StyleView",
       "description_width": ""
      }
     },
     "2151c1f5d2dc455ea18487fbfb5e4bd4": {
      "model_module": "@jupyter-widgets/controls",
      "model_module_version": "1.5.0",
      "model_name": "HBoxModel",
      "state": {
       "_dom_classes": [],
       "_model_module": "@jupyter-widgets/controls",
       "_model_module_version": "1.5.0",
       "_model_name": "HBoxModel",
       "_view_count": null,
       "_view_module": "@jupyter-widgets/controls",
       "_view_module_version": "1.5.0",
       "_view_name": "HBoxView",
       "box_style": "",
       "children": [
        "IPY_MODEL_63aa7433439242b4b9220c013108e9aa",
        "IPY_MODEL_bcdc53325fe3428a952425f54913501a",
        "IPY_MODEL_8b6229c9aa554beea8d5b472639fb14b"
       ],
       "layout": "IPY_MODEL_696f20a2f5f1470ea0660268f7bb9056"
      }
     },
     "2901450f353e4bfd9c9a50dbb4320e2e": {
      "model_module": "@jupyter-widgets/controls",
      "model_module_version": "1.5.0",
      "model_name": "FloatProgressModel",
      "state": {
       "_dom_classes": [],
       "_model_module": "@jupyter-widgets/controls",
       "_model_module_version": "1.5.0",
       "_model_name": "FloatProgressModel",
       "_view_count": null,
       "_view_module": "@jupyter-widgets/controls",
       "_view_module_version": "1.5.0",
       "_view_name": "ProgressView",
       "bar_style": "success",
       "description": "",
       "description_tooltip": null,
       "layout": "IPY_MODEL_3b2daefbb5f740fbb9fc8c4702e064ad",
       "max": 1,
       "min": 0,
       "orientation": "horizontal",
       "style": "IPY_MODEL_4b5a23ef2d9b49209b19bdeb46349dbc",
       "value": 1
      }
     },
     "303ab2d8582f42868c527584dce5495f": {
      "model_module": "@jupyter-widgets/base",
      "model_module_version": "1.2.0",
      "model_name": "LayoutModel",
      "state": {
       "_model_module": "@jupyter-widgets/base",
       "_model_module_version": "1.2.0",
       "_model_name": "LayoutModel",
       "_view_count": null,
       "_view_module": "@jupyter-widgets/base",
       "_view_module_version": "1.2.0",
       "_view_name": "LayoutView",
       "align_content": null,
       "align_items": null,
       "align_self": null,
       "border": null,
       "bottom": null,
       "display": null,
       "flex": null,
       "flex_flow": null,
       "grid_area": null,
       "grid_auto_columns": null,
       "grid_auto_flow": null,
       "grid_auto_rows": null,
       "grid_column": null,
       "grid_gap": null,
       "grid_row": null,
       "grid_template_areas": null,
       "grid_template_columns": null,
       "grid_template_rows": null,
       "height": null,
       "justify_content": null,
       "justify_items": null,
       "left": null,
       "margin": null,
       "max_height": null,
       "max_width": null,
       "min_height": null,
       "min_width": null,
       "object_fit": null,
       "object_position": null,
       "order": null,
       "overflow": null,
       "overflow_x": null,
       "overflow_y": null,
       "padding": null,
       "right": null,
       "top": null,
       "visibility": null,
       "width": null
      }
     },
     "37b51cb9368e434a864447c9bfea9083": {
      "model_module": "@jupyter-widgets/controls",
      "model_module_version": "1.5.0",
      "model_name": "HTMLModel",
      "state": {
       "_dom_classes": [],
       "_model_module": "@jupyter-widgets/controls",
       "_model_module_version": "1.5.0",
       "_model_name": "HTMLModel",
       "_view_count": null,
       "_view_module": "@jupyter-widgets/controls",
       "_view_module_version": "1.5.0",
       "_view_name": "HTMLView",
       "description": "",
       "description_tooltip": null,
       "layout": "IPY_MODEL_c51ff5a5052d4a17a2de922667a9db96",
       "placeholder": "​",
       "style": "IPY_MODEL_df7935c869244dd3bcd6bb56cc94a6db",
       "value": "Render HTML: 100%"
      }
     },
     "3b2daefbb5f740fbb9fc8c4702e064ad": {
      "model_module": "@jupyter-widgets/base",
      "model_module_version": "1.2.0",
      "model_name": "LayoutModel",
      "state": {
       "_model_module": "@jupyter-widgets/base",
       "_model_module_version": "1.2.0",
       "_model_name": "LayoutModel",
       "_view_count": null,
       "_view_module": "@jupyter-widgets/base",
       "_view_module_version": "1.2.0",
       "_view_name": "LayoutView",
       "align_content": null,
       "align_items": null,
       "align_self": null,
       "border": null,
       "bottom": null,
       "display": null,
       "flex": null,
       "flex_flow": null,
       "grid_area": null,
       "grid_auto_columns": null,
       "grid_auto_flow": null,
       "grid_auto_rows": null,
       "grid_column": null,
       "grid_gap": null,
       "grid_row": null,
       "grid_template_areas": null,
       "grid_template_columns": null,
       "grid_template_rows": null,
       "height": null,
       "justify_content": null,
       "justify_items": null,
       "left": null,
       "margin": null,
       "max_height": null,
       "max_width": null,
       "min_height": null,
       "min_width": null,
       "object_fit": null,
       "object_position": null,
       "order": null,
       "overflow": null,
       "overflow_x": null,
       "overflow_y": null,
       "padding": null,
       "right": null,
       "top": null,
       "visibility": null,
       "width": null
      }
     },
     "4945403d551b40218fcfa5510ed7c7c8": {
      "model_module": "@jupyter-widgets/controls",
      "model_module_version": "1.5.0",
      "model_name": "HTMLModel",
      "state": {
       "_dom_classes": [],
       "_model_module": "@jupyter-widgets/controls",
       "_model_module_version": "1.5.0",
       "_model_name": "HTMLModel",
       "_view_count": null,
       "_view_module": "@jupyter-widgets/controls",
       "_view_module_version": "1.5.0",
       "_view_name": "HTMLView",
       "description": "",
       "description_tooltip": null,
       "layout": "IPY_MODEL_50f44a83277842ba881e2c3c231559a6",
       "placeholder": "​",
       "style": "IPY_MODEL_c967eca8f8e148bb86ce355469ca0de0",
       "value": "Summarize dataset: 100%"
      }
     },
     "4b5a23ef2d9b49209b19bdeb46349dbc": {
      "model_module": "@jupyter-widgets/controls",
      "model_module_version": "1.5.0",
      "model_name": "ProgressStyleModel",
      "state": {
       "_model_module": "@jupyter-widgets/controls",
       "_model_module_version": "1.5.0",
       "_model_name": "ProgressStyleModel",
       "_view_count": null,
       "_view_module": "@jupyter-widgets/base",
       "_view_module_version": "1.2.0",
       "_view_name": "StyleView",
       "bar_color": null,
       "description_width": ""
      }
     },
     "50e608e0e26a4d4189ffb15e6596fbf7": {
      "model_module": "@jupyter-widgets/controls",
      "model_module_version": "1.5.0",
      "model_name": "HTMLModel",
      "state": {
       "_dom_classes": [],
       "_model_module": "@jupyter-widgets/controls",
       "_model_module_version": "1.5.0",
       "_model_name": "HTMLModel",
       "_view_count": null,
       "_view_module": "@jupyter-widgets/controls",
       "_view_module_version": "1.5.0",
       "_view_name": "HTMLView",
       "description": "",
       "description_tooltip": null,
       "layout": "IPY_MODEL_a123a60a6d2449a786d19c5ffa01b5f5",
       "placeholder": "​",
       "style": "IPY_MODEL_b9c2fe88f203435da30f2d2961d37d69",
       "value": " 46/46 [00:12&lt;00:00,  1.41it/s, Completed]"
      }
     },
     "50f44a83277842ba881e2c3c231559a6": {
      "model_module": "@jupyter-widgets/base",
      "model_module_version": "1.2.0",
      "model_name": "LayoutModel",
      "state": {
       "_model_module": "@jupyter-widgets/base",
       "_model_module_version": "1.2.0",
       "_model_name": "LayoutModel",
       "_view_count": null,
       "_view_module": "@jupyter-widgets/base",
       "_view_module_version": "1.2.0",
       "_view_name": "LayoutView",
       "align_content": null,
       "align_items": null,
       "align_self": null,
       "border": null,
       "bottom": null,
       "display": null,
       "flex": null,
       "flex_flow": null,
       "grid_area": null,
       "grid_auto_columns": null,
       "grid_auto_flow": null,
       "grid_auto_rows": null,
       "grid_column": null,
       "grid_gap": null,
       "grid_row": null,
       "grid_template_areas": null,
       "grid_template_columns": null,
       "grid_template_rows": null,
       "height": null,
       "justify_content": null,
       "justify_items": null,
       "left": null,
       "margin": null,
       "max_height": null,
       "max_width": null,
       "min_height": null,
       "min_width": null,
       "object_fit": null,
       "object_position": null,
       "order": null,
       "overflow": null,
       "overflow_x": null,
       "overflow_y": null,
       "padding": null,
       "right": null,
       "top": null,
       "visibility": null,
       "width": null
      }
     },
     "63aa7433439242b4b9220c013108e9aa": {
      "model_module": "@jupyter-widgets/controls",
      "model_module_version": "1.5.0",
      "model_name": "HTMLModel",
      "state": {
       "_dom_classes": [],
       "_model_module": "@jupyter-widgets/controls",
       "_model_module_version": "1.5.0",
       "_model_name": "HTMLModel",
       "_view_count": null,
       "_view_module": "@jupyter-widgets/controls",
       "_view_module_version": "1.5.0",
       "_view_name": "HTMLView",
       "description": "",
       "description_tooltip": null,
       "layout": "IPY_MODEL_8479f0d372284d40b9b42aa4cc417c07",
       "placeholder": "​",
       "style": "IPY_MODEL_0d07557aa01e47a7844ef731aaef985e",
       "value": "Generate report structure: 100%"
      }
     },
     "696f20a2f5f1470ea0660268f7bb9056": {
      "model_module": "@jupyter-widgets/base",
      "model_module_version": "1.2.0",
      "model_name": "LayoutModel",
      "state": {
       "_model_module": "@jupyter-widgets/base",
       "_model_module_version": "1.2.0",
       "_model_name": "LayoutModel",
       "_view_count": null,
       "_view_module": "@jupyter-widgets/base",
       "_view_module_version": "1.2.0",
       "_view_name": "LayoutView",
       "align_content": null,
       "align_items": null,
       "align_self": null,
       "border": null,
       "bottom": null,
       "display": null,
       "flex": null,
       "flex_flow": null,
       "grid_area": null,
       "grid_auto_columns": null,
       "grid_auto_flow": null,
       "grid_auto_rows": null,
       "grid_column": null,
       "grid_gap": null,
       "grid_row": null,
       "grid_template_areas": null,
       "grid_template_columns": null,
       "grid_template_rows": null,
       "height": null,
       "justify_content": null,
       "justify_items": null,
       "left": null,
       "margin": null,
       "max_height": null,
       "max_width": null,
       "min_height": null,
       "min_width": null,
       "object_fit": null,
       "object_position": null,
       "order": null,
       "overflow": null,
       "overflow_x": null,
       "overflow_y": null,
       "padding": null,
       "right": null,
       "top": null,
       "visibility": null,
       "width": null
      }
     },
     "6eaec6f90f794defbc4b0c8c310e5f5f": {
      "model_module": "@jupyter-widgets/controls",
      "model_module_version": "1.5.0",
      "model_name": "HBoxModel",
      "state": {
       "_dom_classes": [],
       "_model_module": "@jupyter-widgets/controls",
       "_model_module_version": "1.5.0",
       "_model_name": "HBoxModel",
       "_view_count": null,
       "_view_module": "@jupyter-widgets/controls",
       "_view_module_version": "1.5.0",
       "_view_name": "HBoxView",
       "box_style": "",
       "children": [
        "IPY_MODEL_37b51cb9368e434a864447c9bfea9083",
        "IPY_MODEL_2901450f353e4bfd9c9a50dbb4320e2e",
        "IPY_MODEL_8d412889df3e495f86960e45b13b86b3"
       ],
       "layout": "IPY_MODEL_303ab2d8582f42868c527584dce5495f"
      }
     },
     "785d57d132dc4d03972677e7d0c63001": {
      "model_module": "@jupyter-widgets/base",
      "model_module_version": "1.2.0",
      "model_name": "LayoutModel",
      "state": {
       "_model_module": "@jupyter-widgets/base",
       "_model_module_version": "1.2.0",
       "_model_name": "LayoutModel",
       "_view_count": null,
       "_view_module": "@jupyter-widgets/base",
       "_view_module_version": "1.2.0",
       "_view_name": "LayoutView",
       "align_content": null,
       "align_items": null,
       "align_self": null,
       "border": null,
       "bottom": null,
       "display": null,
       "flex": null,
       "flex_flow": null,
       "grid_area": null,
       "grid_auto_columns": null,
       "grid_auto_flow": null,
       "grid_auto_rows": null,
       "grid_column": null,
       "grid_gap": null,
       "grid_row": null,
       "grid_template_areas": null,
       "grid_template_columns": null,
       "grid_template_rows": null,
       "height": null,
       "justify_content": null,
       "justify_items": null,
       "left": null,
       "margin": null,
       "max_height": null,
       "max_width": null,
       "min_height": null,
       "min_width": null,
       "object_fit": null,
       "object_position": null,
       "order": null,
       "overflow": null,
       "overflow_x": null,
       "overflow_y": null,
       "padding": null,
       "right": null,
       "top": null,
       "visibility": null,
       "width": null
      }
     },
     "8479f0d372284d40b9b42aa4cc417c07": {
      "model_module": "@jupyter-widgets/base",
      "model_module_version": "1.2.0",
      "model_name": "LayoutModel",
      "state": {
       "_model_module": "@jupyter-widgets/base",
       "_model_module_version": "1.2.0",
       "_model_name": "LayoutModel",
       "_view_count": null,
       "_view_module": "@jupyter-widgets/base",
       "_view_module_version": "1.2.0",
       "_view_name": "LayoutView",
       "align_content": null,
       "align_items": null,
       "align_self": null,
       "border": null,
       "bottom": null,
       "display": null,
       "flex": null,
       "flex_flow": null,
       "grid_area": null,
       "grid_auto_columns": null,
       "grid_auto_flow": null,
       "grid_auto_rows": null,
       "grid_column": null,
       "grid_gap": null,
       "grid_row": null,
       "grid_template_areas": null,
       "grid_template_columns": null,
       "grid_template_rows": null,
       "height": null,
       "justify_content": null,
       "justify_items": null,
       "left": null,
       "margin": null,
       "max_height": null,
       "max_width": null,
       "min_height": null,
       "min_width": null,
       "object_fit": null,
       "object_position": null,
       "order": null,
       "overflow": null,
       "overflow_x": null,
       "overflow_y": null,
       "padding": null,
       "right": null,
       "top": null,
       "visibility": null,
       "width": null
      }
     },
     "89832e567a804c6bad9674a5f1d15398": {
      "model_module": "@jupyter-widgets/controls",
      "model_module_version": "1.5.0",
      "model_name": "FloatProgressModel",
      "state": {
       "_dom_classes": [],
       "_model_module": "@jupyter-widgets/controls",
       "_model_module_version": "1.5.0",
       "_model_name": "FloatProgressModel",
       "_view_count": null,
       "_view_module": "@jupyter-widgets/controls",
       "_view_module_version": "1.5.0",
       "_view_name": "ProgressView",
       "bar_style": "success",
       "description": "",
       "description_tooltip": null,
       "layout": "IPY_MODEL_aca6d99694dc4ad8828d640742b102b5",
       "max": 46,
       "min": 0,
       "orientation": "horizontal",
       "style": "IPY_MODEL_e6b853e7a5974a5caeabc0f474131298",
       "value": 46
      }
     },
     "8b6229c9aa554beea8d5b472639fb14b": {
      "model_module": "@jupyter-widgets/controls",
      "model_module_version": "1.5.0",
      "model_name": "HTMLModel",
      "state": {
       "_dom_classes": [],
       "_model_module": "@jupyter-widgets/controls",
       "_model_module_version": "1.5.0",
       "_model_name": "HTMLModel",
       "_view_count": null,
       "_view_module": "@jupyter-widgets/controls",
       "_view_module_version": "1.5.0",
       "_view_name": "HTMLView",
       "description": "",
       "description_tooltip": null,
       "layout": "IPY_MODEL_088c461cfcaa407a808bbd924542d52e",
       "placeholder": "​",
       "style": "IPY_MODEL_fe05809948cd4b53a51d1182cc803ada",
       "value": " 1/1 [00:09&lt;00:00,  9.25s/it]"
      }
     },
     "8d412889df3e495f86960e45b13b86b3": {
      "model_module": "@jupyter-widgets/controls",
      "model_module_version": "1.5.0",
      "model_name": "HTMLModel",
      "state": {
       "_dom_classes": [],
       "_model_module": "@jupyter-widgets/controls",
       "_model_module_version": "1.5.0",
       "_model_name": "HTMLModel",
       "_view_count": null,
       "_view_module": "@jupyter-widgets/controls",
       "_view_module_version": "1.5.0",
       "_view_name": "HTMLView",
       "description": "",
       "description_tooltip": null,
       "layout": "IPY_MODEL_0a06169b7a4c4f98abc4687cb224bfb4",
       "placeholder": "​",
       "style": "IPY_MODEL_bb024138db3b44cca8c9961590d69733",
       "value": " 1/1 [00:01&lt;00:00,  1.95s/it]"
      }
     },
     "a09d65ff805440ebb71c7bc477bfe564": {
      "model_module": "@jupyter-widgets/controls",
      "model_module_version": "1.5.0",
      "model_name": "ProgressStyleModel",
      "state": {
       "_model_module": "@jupyter-widgets/controls",
       "_model_module_version": "1.5.0",
       "_model_name": "ProgressStyleModel",
       "_view_count": null,
       "_view_module": "@jupyter-widgets/base",
       "_view_module_version": "1.2.0",
       "_view_name": "StyleView",
       "bar_color": null,
       "description_width": ""
      }
     },
     "a123a60a6d2449a786d19c5ffa01b5f5": {
      "model_module": "@jupyter-widgets/base",
      "model_module_version": "1.2.0",
      "model_name": "LayoutModel",
      "state": {
       "_model_module": "@jupyter-widgets/base",
       "_model_module_version": "1.2.0",
       "_model_name": "LayoutModel",
       "_view_count": null,
       "_view_module": "@jupyter-widgets/base",
       "_view_module_version": "1.2.0",
       "_view_name": "LayoutView",
       "align_content": null,
       "align_items": null,
       "align_self": null,
       "border": null,
       "bottom": null,
       "display": null,
       "flex": null,
       "flex_flow": null,
       "grid_area": null,
       "grid_auto_columns": null,
       "grid_auto_flow": null,
       "grid_auto_rows": null,
       "grid_column": null,
       "grid_gap": null,
       "grid_row": null,
       "grid_template_areas": null,
       "grid_template_columns": null,
       "grid_template_rows": null,
       "height": null,
       "justify_content": null,
       "justify_items": null,
       "left": null,
       "margin": null,
       "max_height": null,
       "max_width": null,
       "min_height": null,
       "min_width": null,
       "object_fit": null,
       "object_position": null,
       "order": null,
       "overflow": null,
       "overflow_x": null,
       "overflow_y": null,
       "padding": null,
       "right": null,
       "top": null,
       "visibility": null,
       "width": null
      }
     },
     "aca6d99694dc4ad8828d640742b102b5": {
      "model_module": "@jupyter-widgets/base",
      "model_module_version": "1.2.0",
      "model_name": "LayoutModel",
      "state": {
       "_model_module": "@jupyter-widgets/base",
       "_model_module_version": "1.2.0",
       "_model_name": "LayoutModel",
       "_view_count": null,
       "_view_module": "@jupyter-widgets/base",
       "_view_module_version": "1.2.0",
       "_view_name": "LayoutView",
       "align_content": null,
       "align_items": null,
       "align_self": null,
       "border": null,
       "bottom": null,
       "display": null,
       "flex": null,
       "flex_flow": null,
       "grid_area": null,
       "grid_auto_columns": null,
       "grid_auto_flow": null,
       "grid_auto_rows": null,
       "grid_column": null,
       "grid_gap": null,
       "grid_row": null,
       "grid_template_areas": null,
       "grid_template_columns": null,
       "grid_template_rows": null,
       "height": null,
       "justify_content": null,
       "justify_items": null,
       "left": null,
       "margin": null,
       "max_height": null,
       "max_width": null,
       "min_height": null,
       "min_width": null,
       "object_fit": null,
       "object_position": null,
       "order": null,
       "overflow": null,
       "overflow_x": null,
       "overflow_y": null,
       "padding": null,
       "right": null,
       "top": null,
       "visibility": null,
       "width": null
      }
     },
     "b9c2fe88f203435da30f2d2961d37d69": {
      "model_module": "@jupyter-widgets/controls",
      "model_module_version": "1.5.0",
      "model_name": "DescriptionStyleModel",
      "state": {
       "_model_module": "@jupyter-widgets/controls",
       "_model_module_version": "1.5.0",
       "_model_name": "DescriptionStyleModel",
       "_view_count": null,
       "_view_module": "@jupyter-widgets/base",
       "_view_module_version": "1.2.0",
       "_view_name": "StyleView",
       "description_width": ""
      }
     },
     "bb024138db3b44cca8c9961590d69733": {
      "model_module": "@jupyter-widgets/controls",
      "model_module_version": "1.5.0",
      "model_name": "DescriptionStyleModel",
      "state": {
       "_model_module": "@jupyter-widgets/controls",
       "_model_module_version": "1.5.0",
       "_model_name": "DescriptionStyleModel",
       "_view_count": null,
       "_view_module": "@jupyter-widgets/base",
       "_view_module_version": "1.2.0",
       "_view_name": "StyleView",
       "description_width": ""
      }
     },
     "bcdc53325fe3428a952425f54913501a": {
      "model_module": "@jupyter-widgets/controls",
      "model_module_version": "1.5.0",
      "model_name": "FloatProgressModel",
      "state": {
       "_dom_classes": [],
       "_model_module": "@jupyter-widgets/controls",
       "_model_module_version": "1.5.0",
       "_model_name": "FloatProgressModel",
       "_view_count": null,
       "_view_module": "@jupyter-widgets/controls",
       "_view_module_version": "1.5.0",
       "_view_name": "ProgressView",
       "bar_style": "success",
       "description": "",
       "description_tooltip": null,
       "layout": "IPY_MODEL_785d57d132dc4d03972677e7d0c63001",
       "max": 1,
       "min": 0,
       "orientation": "horizontal",
       "style": "IPY_MODEL_a09d65ff805440ebb71c7bc477bfe564",
       "value": 1
      }
     },
     "c51ff5a5052d4a17a2de922667a9db96": {
      "model_module": "@jupyter-widgets/base",
      "model_module_version": "1.2.0",
      "model_name": "LayoutModel",
      "state": {
       "_model_module": "@jupyter-widgets/base",
       "_model_module_version": "1.2.0",
       "_model_name": "LayoutModel",
       "_view_count": null,
       "_view_module": "@jupyter-widgets/base",
       "_view_module_version": "1.2.0",
       "_view_name": "LayoutView",
       "align_content": null,
       "align_items": null,
       "align_self": null,
       "border": null,
       "bottom": null,
       "display": null,
       "flex": null,
       "flex_flow": null,
       "grid_area": null,
       "grid_auto_columns": null,
       "grid_auto_flow": null,
       "grid_auto_rows": null,
       "grid_column": null,
       "grid_gap": null,
       "grid_row": null,
       "grid_template_areas": null,
       "grid_template_columns": null,
       "grid_template_rows": null,
       "height": null,
       "justify_content": null,
       "justify_items": null,
       "left": null,
       "margin": null,
       "max_height": null,
       "max_width": null,
       "min_height": null,
       "min_width": null,
       "object_fit": null,
       "object_position": null,
       "order": null,
       "overflow": null,
       "overflow_x": null,
       "overflow_y": null,
       "padding": null,
       "right": null,
       "top": null,
       "visibility": null,
       "width": null
      }
     },
     "c967eca8f8e148bb86ce355469ca0de0": {
      "model_module": "@jupyter-widgets/controls",
      "model_module_version": "1.5.0",
      "model_name": "DescriptionStyleModel",
      "state": {
       "_model_module": "@jupyter-widgets/controls",
       "_model_module_version": "1.5.0",
       "_model_name": "DescriptionStyleModel",
       "_view_count": null,
       "_view_module": "@jupyter-widgets/base",
       "_view_module_version": "1.2.0",
       "_view_name": "StyleView",
       "description_width": ""
      }
     },
     "d78b19ff948e45138b8277b1a89ac7cb": {
      "model_module": "@jupyter-widgets/base",
      "model_module_version": "1.2.0",
      "model_name": "LayoutModel",
      "state": {
       "_model_module": "@jupyter-widgets/base",
       "_model_module_version": "1.2.0",
       "_model_name": "LayoutModel",
       "_view_count": null,
       "_view_module": "@jupyter-widgets/base",
       "_view_module_version": "1.2.0",
       "_view_name": "LayoutView",
       "align_content": null,
       "align_items": null,
       "align_self": null,
       "border": null,
       "bottom": null,
       "display": null,
       "flex": null,
       "flex_flow": null,
       "grid_area": null,
       "grid_auto_columns": null,
       "grid_auto_flow": null,
       "grid_auto_rows": null,
       "grid_column": null,
       "grid_gap": null,
       "grid_row": null,
       "grid_template_areas": null,
       "grid_template_columns": null,
       "grid_template_rows": null,
       "height": null,
       "justify_content": null,
       "justify_items": null,
       "left": null,
       "margin": null,
       "max_height": null,
       "max_width": null,
       "min_height": null,
       "min_width": null,
       "object_fit": null,
       "object_position": null,
       "order": null,
       "overflow": null,
       "overflow_x": null,
       "overflow_y": null,
       "padding": null,
       "right": null,
       "top": null,
       "visibility": null,
       "width": null
      }
     },
     "df7935c869244dd3bcd6bb56cc94a6db": {
      "model_module": "@jupyter-widgets/controls",
      "model_module_version": "1.5.0",
      "model_name": "DescriptionStyleModel",
      "state": {
       "_model_module": "@jupyter-widgets/controls",
       "_model_module_version": "1.5.0",
       "_model_name": "DescriptionStyleModel",
       "_view_count": null,
       "_view_module": "@jupyter-widgets/base",
       "_view_module_version": "1.2.0",
       "_view_name": "StyleView",
       "description_width": ""
      }
     },
     "e6b853e7a5974a5caeabc0f474131298": {
      "model_module": "@jupyter-widgets/controls",
      "model_module_version": "1.5.0",
      "model_name": "ProgressStyleModel",
      "state": {
       "_model_module": "@jupyter-widgets/controls",
       "_model_module_version": "1.5.0",
       "_model_name": "ProgressStyleModel",
       "_view_count": null,
       "_view_module": "@jupyter-widgets/base",
       "_view_module_version": "1.2.0",
       "_view_name": "StyleView",
       "bar_color": null,
       "description_width": ""
      }
     },
     "fe05809948cd4b53a51d1182cc803ada": {
      "model_module": "@jupyter-widgets/controls",
      "model_module_version": "1.5.0",
      "model_name": "DescriptionStyleModel",
      "state": {
       "_model_module": "@jupyter-widgets/controls",
       "_model_module_version": "1.5.0",
       "_model_name": "DescriptionStyleModel",
       "_view_count": null,
       "_view_module": "@jupyter-widgets/base",
       "_view_module_version": "1.2.0",
       "_view_name": "StyleView",
       "description_width": ""
      }
     }
    },
    "version_major": 2,
    "version_minor": 0
   }
  }
 },
 "nbformat": 4,
 "nbformat_minor": 4
}
